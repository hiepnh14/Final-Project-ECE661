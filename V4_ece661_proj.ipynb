{
 "cells": [
  {
   "cell_type": "markdown",
   "id": "HLvsAXRe3qp0",
   "metadata": {
    "id": "HLvsAXRe3qp0"
   },
   "source": [
    "# ECE 661 Final Project: Adversarial Patch Attacks\n",
    "### Jamie Liu, Hiep Nguyen, & Jack Parker"
   ]
  },
  {
   "cell_type": "code",
   "execution_count": 1,
   "id": "eb0dab0f-20b3-4188-8a9f-21c2a1065904",
   "metadata": {
    "colab": {
     "base_uri": "https://localhost:8080/"
    },
    "id": "eb0dab0f-20b3-4188-8a9f-21c2a1065904",
    "outputId": "d15ea828-f528-4cb0-f900-4bc8e3caceff"
   },
   "outputs": [
    {
     "name": "stderr",
     "output_type": "stream",
     "text": [
      "/home/jamie/anaconda3/envs/torch/lib/python3.11/site-packages/tqdm/auto.py:21: TqdmWarning: IProgress not found. Please update jupyter and ipywidgets. See https://ipywidgets.readthedocs.io/en/stable/user_install.html\n",
      "  from .autonotebook import tqdm as notebook_tqdm\n"
     ]
    },
    {
     "name": "stdout",
     "output_type": "stream",
     "text": [
      "cuda\n"
     ]
    }
   ],
   "source": [
    "# Import necessary libraries\n",
    "import numpy as np\n",
    "import pandas as pd\n",
    "from matplotlib import pyplot as plt\n",
    "\n",
    "import torch\n",
    "import torch.nn as nn\n",
    "import torch.nn.functional as F\n",
    "import torch.optim as optim\n",
    "from torchvision import datasets, transforms, models\n",
    "from torch.utils.data import random_split, DataLoader\n",
    "import torchvision.transforms.functional as TF\n",
    "import random\n",
    "import tqdm\n",
    "\n",
    "device = \"cuda\" if torch.cuda.is_available() else \"cpu\"\n",
    "print(device)"
   ]
  },
  {
   "cell_type": "markdown",
   "id": "_gFecCzT0ILv",
   "metadata": {
    "id": "_gFecCzT0ILv"
   },
   "source": [
    "## Load data"
   ]
  },
  {
   "cell_type": "code",
   "execution_count": 2,
   "id": "e15bf51f-04cb-4313-9516-f1bbd92ea43d",
   "metadata": {
    "colab": {
     "base_uri": "https://localhost:8080/"
    },
    "id": "e15bf51f-04cb-4313-9516-f1bbd92ea43d",
    "outputId": "5274dffd-3f63-40c5-cb89-06b34c670d57"
   },
   "outputs": [
    {
     "name": "stdout",
     "output_type": "stream",
     "text": [
      "Downloading https://www.cs.toronto.edu/~kriz/cifar-10-python.tar.gz to ./data/cifar-10-python.tar.gz\n"
     ]
    },
    {
     "name": "stderr",
     "output_type": "stream",
     "text": [
      "100%|██████████| 170498071/170498071 [00:03<00:00, 46996762.71it/s]\n"
     ]
    },
    {
     "name": "stdout",
     "output_type": "stream",
     "text": [
      "Extracting ./data/cifar-10-python.tar.gz to ./data\n",
      "Files already downloaded and verified\n"
     ]
    }
   ],
   "source": [
    "# Normalization statistics for ImageNet data\n",
    "normalize = transforms.Normalize(mean=[0.485, 0.456, 0.406],\n",
    "                                 std=[0.229, 0.224, 0.225])\n",
    "\n",
    "transform_train = transforms.Compose([\n",
    "    transforms.RandomHorizontalFlip(),\n",
    "    transforms.RandomCrop(32, padding=4),\n",
    "    transforms.ToTensor(),\n",
    "    normalize\n",
    "])\n",
    "\n",
    "transform_test = transforms.Compose([\n",
    "    transforms.ToTensor(),\n",
    "    normalize\n",
    "])\n",
    "\n",
    "# Load dataset\n",
    "train_data = datasets.CIFAR10(root='./data', train=True, download=True, transform=transform_train)\n",
    "test_data = datasets.CIFAR10(root='./data', train=False, download=True, transform=transform_test)\n",
    "\n",
    "# Split training data into training and validation sets\n",
    "train_set, val_set = random_split(train_data, [40000, 10000])\n",
    "\n",
    "# Define dataloaders\n",
    "train_loader = DataLoader(train_set, batch_size=32, shuffle=True)\n",
    "val_loader = DataLoader(val_set, batch_size=32, shuffle=False)\n",
    "test_loader = DataLoader(test_data, batch_size=32, shuffle=False)\n"
   ]
  },
  {
   "cell_type": "markdown",
   "id": "C_phzAnT0OrU",
   "metadata": {
    "id": "C_phzAnT0OrU"
   },
   "source": [
    "## Define helper functions to be used during experiments"
   ]
  },
  {
   "cell_type": "code",
   "execution_count": 3,
   "id": "7dcdeae2-844b-4f36-9171-6992186565ea",
   "metadata": {
    "id": "7dcdeae2-844b-4f36-9171-6992186565ea"
   },
   "outputs": [],
   "source": [
    "# This function evaluates a model's accuracy on the validation set\n",
    "# Optionally, one can pass an adversarial patch as an argument to evaluate the model's performance against a patch attack\n",
    "def eval(model, patch=None, target_class=None):\n",
    "  # Stats to use to calculate accuracy after the eval loop\n",
    "  total_correct = 0\n",
    "  total = 0\n",
    "  total_target = 0\n",
    "  # Put model on GPU and switch to eval mode\n",
    "  model = model.to(device)\n",
    "  model.eval()\n",
    "  # Evaluation loop\n",
    "  with torch.no_grad():\n",
    "    for batch_idx, (images, labels) in enumerate(val_loader):\n",
    "      # Put data on GPU\n",
    "      images = images.to(device)\n",
    "      if patch is not None:\n",
    "        images = apply(patch, images)\n",
    "      labels = labels.to(device)\n",
    "      # Make predictions\n",
    "      predictions = model(images)\n",
    "      predictions = torch.argmax(predictions, dim=1)\n",
    "      # Update validation accuracy information\n",
    "      total += len(images)\n",
    "      num_correct = (predictions == labels).float().sum().item()\n",
    "      total_correct += num_correct\n",
    "      if target_class is not None:\n",
    "        target = torch.zeros(len(images), dtype=torch.long).fill_(target_class).to(device)\n",
    "        num_target = (predictions == target).float().sum().item()\n",
    "        total_target += num_target\n",
    "  # If evaluating the effects of a targeted patch attach, it is nice to see whether or not the model is classifying lots of examples to the target class\n",
    "  if target_class is not None:\n",
    "    target_percentage = total_target / total\n",
    "    print(f\"Percentage of samples predicted as target class {target_class}: {100 * target_percentage}\")\n",
    "  # Calculate accuracy\n",
    "  accuracy = total_correct / total\n",
    "  return accuracy"
   ]
  },
  {
   "cell_type": "code",
   "execution_count": 4,
   "id": "36c77eea-21cc-4d92-accb-e9076cd0ae0e",
   "metadata": {
    "id": "36c77eea-21cc-4d92-accb-e9076cd0ae0e"
   },
   "outputs": [],
   "source": [
    "# This function is designed to take in a pretrained ResNet model and fine-tune its weights for the CIFAR-10 dataset\n",
    "# The idea is to fine-tune ResNet for the CIFAR-10 dataset (accuracy should be around 82%) and then degrade that performance via an adversarial patch attack\n",
    "def fine_tune_for_cifar10(model, num_epochs=30, model_path=\"resnet18.pth\"):\n",
    "  # Put model on GPU and put model in training mode\n",
    "  model = model.to(device)\n",
    "  model.train()\n",
    "  # Define loss function and optimizer\n",
    "  criterion = nn.CrossEntropyLoss()\n",
    "  optimizer = optim.SGD(model.parameters(), lr=0.01, momentum=0.9, weight_decay=1e-4)\n",
    "  best_accuracy = 0.0\n",
    "  best_model_path = model_path\n",
    "  # Training loop\n",
    "  for i in range(num_epochs):\n",
    "    # Stats to use for calculating accuracy\n",
    "    total_correct = 0\n",
    "    total = 0\n",
    "    # Iterate through each batch of data\n",
    "    for batch_idx, (images, labels) in enumerate(train_loader):\n",
    "      # Put data on GPU\n",
    "      images = images.to(device)\n",
    "      labels = labels.to(device)\n",
    "      # Make predictions\n",
    "      predictions = model(images)\n",
    "      # Calculate loss for the batch\n",
    "      loss = criterion(predictions, labels)\n",
    "      # Gradient descent\n",
    "      optimizer.zero_grad()\n",
    "      loss.backward()\n",
    "      optimizer.step()\n",
    "      # Update training accuracy information\n",
    "      total += len(images)\n",
    "      predictions = torch.argmax(predictions, dim=1)\n",
    "      num_correct = (predictions == labels).float().sum().item()\n",
    "      total_correct += num_correct\n",
    "    # Print training accuracy\n",
    "    print(f\"Epoch {str(i + 1)}: Training accuracy = {str(total_correct / total)}\")\n",
    "    # Print validation accuracy\n",
    "    val_accuracy = eval(model, patch=None, target_class=None)\n",
    "    print(f\"Validation accuracy: {str(val_accuracy)}\")\n",
    "\n",
    "    if val_accuracy > best_accuracy:\n",
    "      best_accuracy = val_accuracy\n",
    "      torch.save(model.state_dict(), best_model_path)\n",
    "      print(f\"Saved new best model with accuracy: {best_accuracy:.4f}\")"
   ]
  },
  {
   "cell_type": "code",
   "execution_count": 5,
   "id": "c26bd8ae-07b4-432a-a673-6fd48c0fc1eb",
   "metadata": {
    "id": "c26bd8ae-07b4-432a-a673-6fd48c0fc1eb"
   },
   "outputs": [],
   "source": [
    "# Apply patch to a batch of images\n",
    "def apply(patch, batch_of_images):\n",
    "  num_images = batch_of_images.shape[0]\n",
    "  patch_size = patch.shape[1]\n",
    "  # Iterate through each image in the batch\n",
    "  for i in range(num_images):\n",
    "    # Rotate the patch by a random number of degrees\n",
    "    degree = random.uniform(0, 360)\n",
    "    patch_rotated = TF.rotate(patch, angle=degree)\n",
    "    # Randomly choose an (x, y) coordinate on the 32x32 CIFAR-10 image\n",
    "    # This coordinate will be where the top left corner of the rotated patch goes\n",
    "    top_left_x = random.randint(0, 31 - patch_size)\n",
    "    top_left_y = random.randint(0, 31 - patch_size)\n",
    "    # Apply the randomly rotated patch at the random location\n",
    "    batch_of_images[i, :, top_left_x:top_left_x+patch_size, top_left_y:top_left_y+patch_size] = patch\n",
    "  return batch_of_images"
   ]
  },
  {
   "cell_type": "code",
   "execution_count": 6,
   "id": "00f2cc52-15f3-4645-a1d6-a44e135ed004",
   "metadata": {
    "id": "00f2cc52-15f3-4645-a1d6-a44e135ed004"
   },
   "outputs": [],
   "source": [
    "# Function to load the best model checkpoint\n",
    "def load_model(model, path, device=\"cuda\"):\n",
    "    model.load_state_dict(torch.load(path, map_location=device))\n",
    "    model = model.to(device)\n",
    "    return model"
   ]
  },
  {
   "cell_type": "code",
   "execution_count": 7,
   "id": "ff1e40d9-8fc9-4b1c-b046-edcbbd197bc8",
   "metadata": {
    "id": "ff1e40d9-8fc9-4b1c-b046-edcbbd197bc8"
   },
   "outputs": [],
   "source": [
    "# This function fine-tunes an adversarial patch against a provided whitebox model\n",
    "# Model accuracy against the patch attack is reported at each step\n",
    "def generate_adversarial_patch(model, patch_size, target_class=None, num_epochs=10, lr=1e-1, momentum=0.8, apply=apply):\n",
    "  model = model.to(device)\n",
    "  model.train()\n",
    "\n",
    "  # Initialize patch to all zeros\n",
    "  patch = nn.Parameter(torch.zeros(3, patch_size, patch_size), requires_grad=True)\n",
    "  optimizer = optim.SGD([patch], lr, momentum)\n",
    "  criterion = nn.CrossEntropyLoss()\n",
    "  # Optimize the patch\n",
    "  for i in range(num_epochs):\n",
    "    print(f\"Epoch {str(i + 1)}\")\n",
    "    for batch_idx, (images, labels) in enumerate(train_loader):\n",
    "      # Put data on the GPU\n",
    "      images = images.to(device)\n",
    "      labels = labels.to(device)\n",
    "      # Apply the patch at a random location and with a random rotation for each image in the batch\n",
    "      images = apply(patch, images)\n",
    "      # Make predictions on the patched images\n",
    "      predictions = resnet18(images)\n",
    "      # For an untargeted attack, create false labels by incrementing the true labels by 1\n",
    "      if target_class is None:\n",
    "        false_labels = (labels + 1) % 10\n",
    "      # For a targeted attack, set all the false labels to the target class\n",
    "      else:\n",
    "        false_labels = torch.zeros(len(images), dtype=torch.long).fill_(target_class).to(device)\n",
    "      # Tune the patch\n",
    "      loss = criterion(predictions, false_labels)\n",
    "      optimizer.zero_grad()\n",
    "      loss.backward()\n",
    "      optimizer.step()\n",
    "    # See how the patch performs\n",
    "    print(f\"Target class: {target_class}\")\n",
    "    accuracy = eval(model, patch=patch, target_class=target_class)\n",
    "    print(f\"Accuracy: {str(accuracy)}\\n\")\n",
    "  return patch"
   ]
  },
  {
   "cell_type": "code",
   "execution_count": 8,
   "id": "a909b997-766e-4acb-bc2b-35b535ebcd5b",
   "metadata": {
    "id": "a909b997-766e-4acb-bc2b-35b535ebcd5b"
   },
   "outputs": [],
   "source": [
    "# This function test the model accuracy on clean test dataset\n",
    "# Optinally, if pass in an adversarial patch, this function test model accuracy, untargetted and targetted ASR\n",
    "def test(model, patch=None, target_class=None, apply=apply):\n",
    "  model.eval()\n",
    "  total = 0\n",
    "  total_correct = 0\n",
    "  total_misclassified = 0\n",
    "  total_targeted_hits = 0\n",
    "\n",
    "  with torch.no_grad():\n",
    "    for images, labels in test_loader:\n",
    "      images = images.to(device)\n",
    "      labels = labels.to(device)\n",
    "\n",
    "      if patch is not None:\n",
    "        images = apply(patch, images)\n",
    "\n",
    "      outputs = model(images)\n",
    "      predictions = torch.argmax(outputs, dim=1)\n",
    "      total += labels.size(0)\n",
    "      total_correct += (predictions == labels).sum().item()\n",
    "      total_misclassified += (predictions != labels).sum().item()\n",
    "\n",
    "      if target_class is not None:\n",
    "        targeted_misclassifications = ((predictions != labels) & (predictions == target_class))\n",
    "        total_targeted_hits += targeted_misclassifications.sum().item()\n",
    "\n",
    "  adversarial_accuracy = total_correct / total\n",
    "  untargeted_attack_rate = total_misclassified / total\n",
    "\n",
    "  if patch is not None:\n",
    "    print(f\"Model accuracy with adversarial patch: {adversarial_accuracy * 100:.2f}%\")\n",
    "    print(f\"Untargeted attack success rate on test set: {untargeted_attack_rate * 100:.2f}%\")\n",
    "  else:\n",
    "    print(f\"Model accuracy on clean test set: {adversarial_accuracy * 100:.2f}%\")\n",
    "\n",
    "  if target_class is not None:\n",
    "    targeted_attack_rate = total_targeted_hits / total\n",
    "    print(f\"Targeted attack success rate on test set for class {target_class}: {targeted_attack_rate * 100:.2f}%\")\n",
    "    return adversarial_accuracy, untargeted_attack_rate, targeted_attack_rate\n",
    "  else:\n",
    "    return adversarial_accuracy, untargeted_attack_rate"
   ]
  },
  {
   "cell_type": "code",
   "execution_count": 9,
   "id": "0fd0d3c9-f23a-423f-8eed-54986125e2cd",
   "metadata": {
    "id": "0fd0d3c9-f23a-423f-8eed-54986125e2cd"
   },
   "outputs": [],
   "source": [
    "# This function takes in a patch and outputs it visually\n",
    "def visualize_patch(patch):\n",
    "    patch = patch.detach()\n",
    "    patch = (patch - patch.min()) / (patch.max() - patch.min())  # Normalize to [0, 1]\n",
    "\n",
    "    # Convert to numpy and transpose dimensions from [C, H, W] to [H, W, C] for visualization\n",
    "    patch_np = patch.cpu().numpy().transpose(1, 2, 0)\n",
    "    plt.imshow(patch_np)\n",
    "    plt.axis('off')\n",
    "    plt.show()\n"
   ]
  },
  {
   "cell_type": "code",
   "execution_count": 11,
   "id": "8d7729eb-ea35-4563-8584-bf832068dccc",
   "metadata": {
    "id": "8d7729eb-ea35-4563-8584-bf832068dccc"
   },
   "outputs": [],
   "source": [
    "# This function is used to plot the (untargeted or targeted) ASR v.s. patch size\n",
    "def plot_asr_vs_patch_size(patch_sizes, asr_results):\n",
    "    asr_values = [asr_results[size] * 100 for size in patch_sizes]\n",
    "    plt.figure(figsize=(6,4))\n",
    "    plt.plot(patch_sizes, asr_values, marker='o', linestyle='-', color='b')\n",
    "    plt.title('Attack Success Rate vs Patch Size')\n",
    "    plt.xlabel('Patch Size (pixels)')\n",
    "    plt.ylabel('ASR (%)')\n",
    "    plt.grid(True)\n",
    "    plt.xticks(patch_sizes)\n",
    "    plt.show()\n"
   ]
  },
  {
   "cell_type": "markdown",
   "id": "3ef920b6-6336-4b2e-886a-7ec11386efe0",
   "metadata": {
    "id": "3ef920b6-6336-4b2e-886a-7ec11386efe0"
   },
   "source": [
    "## Fine-tune ResNet18 for CIFAR-10"
   ]
  },
  {
   "cell_type": "code",
   "execution_count": 42,
   "id": "eae7f907-4717-4181-a806-ba2bff9eca82",
   "metadata": {
    "colab": {
     "base_uri": "https://localhost:8080/"
    },
    "id": "eae7f907-4717-4181-a806-ba2bff9eca82",
    "outputId": "81af34fe-0a40-4758-ce69-b0c0ecd2def7",
    "scrolled": true
   },
   "outputs": [
    {
     "name": "stdout",
     "output_type": "stream",
     "text": [
      "Model accuracy on clean test set: 82.47%\n"
     ]
    },
    {
     "data": {
      "text/plain": [
       "(0.8247, 0.1753)"
      ]
     },
     "execution_count": 42,
     "metadata": {},
     "output_type": "execute_result"
    }
   ],
   "source": [
    "# Load pre-trained model\n",
    "resnet18 = models.resnet18(weights=\"DEFAULT\")\n",
    "\n",
    "# ResNet is trained on ImageNet, which has 1000 classes\n",
    "# So we need to modify the output layer for CIFAR-10, which has 10 classes\n",
    "resnet18.fc = nn.Linear(resnet18.fc.in_features, 10)\n",
    "\n",
    "# Finetune the model\n",
    "# fine_tune_for_cifar10(model=resnet18, num_epochs=30, model_path=\"resnet18.pth\")\n",
    "\n",
    "# Load best model checkpoint\n",
    "resnet18 = load_model(resnet18, \"resnet18.pth\", device=device)\n",
    "\n",
    "# Test model performance on clean test dataset\n",
    "test(model=resnet18, patch=None, target_class=None)"
   ]
  },
  {
   "cell_type": "markdown",
   "id": "662a5a10-ba13-450a-b843-98ee0d4bc086",
   "metadata": {
    "id": "662a5a10-ba13-450a-b843-98ee0d4bc086"
   },
   "source": [
    "## Experiment 1: Untargeted 8x8 patch attack on ResNet18"
   ]
  },
  {
   "cell_type": "code",
   "execution_count": 13,
   "id": "cab68097-7b0b-4dab-93ff-34b147b0be5e",
   "metadata": {
    "id": "cab68097-7b0b-4dab-93ff-34b147b0be5e",
    "scrolled": true
   },
   "outputs": [
    {
     "name": "stdout",
     "output_type": "stream",
     "text": [
      "Epoch 1\n",
      "Target class: None\n",
      "Accuracy: 0.5396\n",
      "\n",
      "Epoch 2\n",
      "Target class: None\n",
      "Accuracy: 0.4011\n",
      "\n",
      "Epoch 3\n",
      "Target class: None\n",
      "Accuracy: 0.3665\n",
      "\n",
      "Epoch 4\n",
      "Target class: None\n",
      "Accuracy: 0.3487\n",
      "\n",
      "Epoch 5\n",
      "Target class: None\n",
      "Accuracy: 0.3475\n",
      "\n",
      "Epoch 6\n",
      "Target class: None\n",
      "Accuracy: 0.3413\n",
      "\n",
      "Epoch 7\n",
      "Target class: None\n",
      "Accuracy: 0.3351\n",
      "\n",
      "Epoch 8\n",
      "Target class: None\n",
      "Accuracy: 0.327\n",
      "\n",
      "Epoch 9\n",
      "Target class: None\n",
      "Accuracy: 0.3225\n",
      "\n",
      "Epoch 10\n",
      "Target class: None\n",
      "Accuracy: 0.3161\n",
      "\n"
     ]
    },
    {
     "data": {
      "image/png": "[encoded data removed]",
      "text/plain": [
       "<Figure size 640x480 with 1 Axes>"
      ]
     },
     "metadata": {},
     "output_type": "display_data"
    },
    {
     "name": "stdout",
     "output_type": "stream",
     "text": [
      "Model accuracy with adversarial patch: 35.14%\n",
      "Untargeted attack success rate on test set: 64.86%\n"
     ]
    },
    {
     "data": {
      "text/plain": [
       "(0.3514, 0.6486)"
      ]
     },
     "execution_count": 13,
     "metadata": {},
     "output_type": "execute_result"
    }
   ],
   "source": [
    "# Generate adversarial patch\n",
    "patch_untargeted_size8 = generate_adversarial_patch(model=resnet18, patch_size=8)\n",
    "\n",
    "# Visualize the generated patch\n",
    "visualize_patch(patch_untargeted_size8)\n",
    "\n",
    "# Test adversarial success rate on test dataset\n",
    "test(model=resnet18, patch=patch_untargeted_size8)"
   ]
  },
  {
   "cell_type": "markdown",
   "id": "7ccb2a1e-f6d6-4ac9-bf43-bf35070726c0",
   "metadata": {
    "id": "7ccb2a1e-f6d6-4ac9-bf43-bf35070726c0"
   },
   "source": [
    "## Experiment 2: The effect of patch size on untargeted attack success rate for ResNet18"
   ]
  },
  {
   "cell_type": "code",
   "execution_count": 14,
   "id": "4f7a4745-2d7c-4a1b-ac47-d26138fc52c4",
   "metadata": {
    "id": "4f7a4745-2d7c-4a1b-ac47-d26138fc52c4",
    "scrolled": true
   },
   "outputs": [
    {
     "name": "stdout",
     "output_type": "stream",
     "text": [
      "Epoch 1\n",
      "Target class: None\n",
      "Accuracy: 0.5998\n",
      "\n",
      "Epoch 2\n",
      "Target class: None\n",
      "Accuracy: 0.5199\n",
      "\n",
      "Epoch 3\n",
      "Target class: None\n",
      "Accuracy: 0.4506\n",
      "\n",
      "Epoch 4\n",
      "Target class: None\n",
      "Accuracy: 0.4113\n",
      "\n",
      "Epoch 5\n",
      "Target class: None\n",
      "Accuracy: 0.3854\n",
      "\n",
      "Epoch 6\n",
      "Target class: None\n",
      "Accuracy: 0.3648\n",
      "\n",
      "Epoch 7\n",
      "Target class: None\n",
      "Accuracy: 0.3564\n",
      "\n",
      "Epoch 8\n",
      "Target class: None\n",
      "Accuracy: 0.3418\n",
      "\n",
      "Epoch 9\n",
      "Target class: None\n",
      "Accuracy: 0.3393\n",
      "\n",
      "Epoch 10\n",
      "Target class: None\n",
      "Accuracy: 0.3366\n",
      "\n"
     ]
    },
    {
     "data": {
      "image/png": "[encoded data removed]",
      "text/plain": [
       "<Figure size 640x480 with 1 Axes>"
      ]
     },
     "metadata": {},
     "output_type": "display_data"
    },
    {
     "name": "stdout",
     "output_type": "stream",
     "text": [
      "Model accuracy with adversarial patch: 35.50%\n",
      "Untargeted attack success rate on test set: 64.50%\n",
      "Epoch 1\n",
      "Target class: None\n",
      "Accuracy: 0.578\n",
      "\n",
      "Epoch 2\n",
      "Target class: None\n",
      "Accuracy: 0.3828\n",
      "\n",
      "Epoch 3\n",
      "Target class: None\n",
      "Accuracy: 0.2271\n",
      "\n",
      "Epoch 4\n",
      "Target class: None\n",
      "Accuracy: 0.1914\n",
      "\n",
      "Epoch 5\n",
      "Target class: None\n",
      "Accuracy: 0.183\n",
      "\n",
      "Epoch 6\n",
      "Target class: None\n",
      "Accuracy: 0.1713\n",
      "\n",
      "Epoch 7\n",
      "Target class: None\n",
      "Accuracy: 0.1714\n",
      "\n",
      "Epoch 8\n",
      "Target class: None\n",
      "Accuracy: 0.1757\n",
      "\n",
      "Epoch 9\n",
      "Target class: None\n",
      "Accuracy: 0.1719\n",
      "\n",
      "Epoch 10\n",
      "Target class: None\n",
      "Accuracy: 0.1743\n",
      "\n"
     ]
    },
    {
     "data": {
      "image/png": "[encoded data removed]",
      "text/plain": [
       "<Figure size 640x480 with 1 Axes>"
      ]
     },
     "metadata": {},
     "output_type": "display_data"
    },
    {
     "name": "stdout",
     "output_type": "stream",
     "text": [
      "Model accuracy with adversarial patch: 18.05%\n",
      "Untargeted attack success rate on test set: 81.95%\n",
      "Epoch 1\n",
      "Target class: None\n",
      "Accuracy: 0.5716\n",
      "\n",
      "Epoch 2\n",
      "Target class: None\n",
      "Accuracy: 0.4295\n",
      "\n",
      "Epoch 3\n",
      "Target class: None\n",
      "Accuracy: 0.3479\n",
      "\n",
      "Epoch 4\n",
      "Target class: None\n",
      "Accuracy: 0.3228\n",
      "\n",
      "Epoch 5\n",
      "Target class: None\n",
      "Accuracy: 0.3138\n",
      "\n",
      "Epoch 6\n",
      "Target class: None\n",
      "Accuracy: 0.3094\n",
      "\n",
      "Epoch 7\n",
      "Target class: None\n",
      "Accuracy: 0.2968\n",
      "\n",
      "Epoch 8\n",
      "Target class: None\n",
      "Accuracy: 0.2995\n",
      "\n",
      "Epoch 9\n",
      "Target class: None\n",
      "Accuracy: 0.2958\n",
      "\n",
      "Epoch 10\n",
      "Target class: None\n",
      "Accuracy: 0.2966\n",
      "\n"
     ]
    },
    {
     "data": {
      "image/png": "[encoded data removed]",
      "text/plain": [
       "<Figure size 640x480 with 1 Axes>"
      ]
     },
     "metadata": {},
     "output_type": "display_data"
    },
    {
     "name": "stdout",
     "output_type": "stream",
     "text": [
      "Model accuracy with adversarial patch: 30.67%\n",
      "Untargeted attack success rate on test set: 69.33%\n",
      "Epoch 1\n",
      "Target class: None\n",
      "Accuracy: 0.3401\n",
      "\n",
      "Epoch 2\n",
      "Target class: None\n",
      "Accuracy: 0.1926\n",
      "\n",
      "Epoch 3\n",
      "Target class: None\n",
      "Accuracy: 0.1732\n",
      "\n",
      "Epoch 4\n",
      "Target class: None\n",
      "Accuracy: 0.1666\n",
      "\n",
      "Epoch 5\n",
      "Target class: None\n",
      "Accuracy: 0.1616\n",
      "\n",
      "Epoch 6\n",
      "Target class: None\n",
      "Accuracy: 0.1624\n",
      "\n",
      "Epoch 7\n",
      "Target class: None\n",
      "Accuracy: 0.151\n",
      "\n",
      "Epoch 8\n",
      "Target class: None\n",
      "Accuracy: 0.1517\n",
      "\n",
      "Epoch 9\n",
      "Target class: None\n",
      "Accuracy: 0.1456\n",
      "\n",
      "Epoch 10\n",
      "Target class: None\n",
      "Accuracy: 0.1405\n",
      "\n"
     ]
    },
    {
     "data": {
      "image/png": "[encoded data removed]",
      "text/plain": [
       "<Figure size 640x480 with 1 Axes>"
      ]
     },
     "metadata": {},
     "output_type": "display_data"
    },
    {
     "name": "stdout",
     "output_type": "stream",
     "text": [
      "Model accuracy with adversarial patch: 14.36%\n",
      "Untargeted attack success rate on test set: 85.64%\n"
     ]
    },
    {
     "data": {
      "image/png": "[encoded data removed]",
      "text/plain": [
       "<Figure size 600x400 with 1 Axes>"
      ]
     },
     "metadata": {},
     "output_type": "display_data"
    }
   ],
   "source": [
    "# Calculate untargeteded ASR for patches of various sizes and plot patch size vs. untargeted ASR\n",
    "patch_sizes = [3, 5, 7, 16]\n",
    "untargetted_asr_results = {}\n",
    "\n",
    "for size in patch_sizes:\n",
    "  patch = generate_adversarial_patch(model=resnet18, patch_size=size)\n",
    "  visualize_patch(patch)\n",
    "  adversarial_accuracy, untargetted_asr = test(model=resnet18, patch=patch)\n",
    "  untargetted_asr_results[size] = untargetted_asr\n",
    "\n",
    "plot_asr_vs_patch_size(patch_sizes, untargetted_asr_results)"
   ]
  },
  {
   "cell_type": "markdown",
   "id": "08c0bc71-330c-436a-8dbd-d16dfe7f35ef",
   "metadata": {
    "id": "08c0bc71-330c-436a-8dbd-d16dfe7f35ef"
   },
   "source": [
    "## Experiment 3: Targeted patch attacks"
   ]
  },
  {
   "cell_type": "code",
   "execution_count": 16,
   "id": "yR8VesXiLceO",
   "metadata": {
    "id": "yR8VesXiLceO",
    "scrolled": true
   },
   "outputs": [
    {
     "name": "stdout",
     "output_type": "stream",
     "text": [
      "Epoch 1\n",
      "Target class: 5\n",
      "Percentage of samples predicted as target class 5: 7.739999999999999\n",
      "Accuracy: 0.5607\n",
      "\n",
      "Epoch 2\n",
      "Target class: 5\n",
      "Percentage of samples predicted as target class 5: 69.14\n",
      "Accuracy: 0.2133\n",
      "\n",
      "Epoch 3\n",
      "Target class: 5\n",
      "Percentage of samples predicted as target class 5: 72.65\n",
      "Accuracy: 0.1926\n",
      "\n",
      "Epoch 4\n",
      "Target class: 5\n",
      "Percentage of samples predicted as target class 5: 75.02\n",
      "Accuracy: 0.1851\n",
      "\n",
      "Epoch 5\n",
      "Target class: 5\n",
      "Percentage of samples predicted as target class 5: 77.14999999999999\n",
      "Accuracy: 0.1803\n",
      "\n",
      "Epoch 6\n",
      "Target class: 5\n",
      "Percentage of samples predicted as target class 5: 78.09\n",
      "Accuracy: 0.1743\n",
      "\n",
      "Epoch 7\n",
      "Target class: 5\n",
      "Percentage of samples predicted as target class 5: 78.24\n",
      "Accuracy: 0.1703\n",
      "\n",
      "Epoch 8\n",
      "Target class: 5\n",
      "Percentage of samples predicted as target class 5: 78.25999999999999\n",
      "Accuracy: 0.1743\n",
      "\n",
      "Epoch 9\n",
      "Target class: 5\n",
      "Percentage of samples predicted as target class 5: 79.06\n",
      "Accuracy: 0.1698\n",
      "\n",
      "Epoch 10\n",
      "Target class: 5\n",
      "Percentage of samples predicted as target class 5: 79.79\n",
      "Accuracy: 0.1683\n",
      "\n"
     ]
    },
    {
     "data": {
      "image/png": "[encoded data removed]",
      "text/plain": [
       "<Figure size 640x480 with 1 Axes>"
      ]
     },
     "metadata": {},
     "output_type": "display_data"
    },
    {
     "name": "stdout",
     "output_type": "stream",
     "text": [
      "Model accuracy with adversarial patch: 19.01%\n",
      "Untargeted attack success rate on test set: 80.99%\n",
      "Targeted attack success rate on test set for class 5: 66.63%\n"
     ]
    },
    {
     "data": {
      "text/plain": [
       "(0.1901, 0.8099, 0.6663)"
      ]
     },
     "execution_count": 16,
     "metadata": {},
     "output_type": "execute_result"
    }
   ],
   "source": [
    "# Generate targeted adversarial patch\n",
    "patch_targeted_size8 = generate_adversarial_patch(model=resnet18, patch_size=8, target_class=5)\n",
    "\n",
    "# Visualize the generated patch\n",
    "visualize_patch(patch_targeted_size8)\n",
    "\n",
    "# Test adversarial success rate on test dataset\n",
    "test(model=resnet18, patch=patch_targeted_size8, target_class=5)"
   ]
  },
  {
   "cell_type": "code",
   "execution_count": 17,
   "id": "0d32b237-5078-49d4-a317-edc7631d2e98",
   "metadata": {
    "id": "0d32b237-5078-49d4-a317-edc7631d2e98",
    "scrolled": true
   },
   "outputs": [],
   "source": [
    "def plot_targeted_asr_vs_patch_size(model, target_class):\n",
    "  print(f\"\\nRUNNING EXPERIMENTS FOR TARGET CLASS {target_class}\\n\")\n",
    "  patch_sizes = [3, 5, 7, 16]\n",
    "  targetted_asr_results = {}\n",
    "  for size in patch_sizes:\n",
    "    patch = generate_adversarial_patch(model=model, patch_size=size, target_class=target_class)\n",
    "    visualize_patch(patch)\n",
    "    adversarial_accuracy, untargetted_asr, targetted_asr = test(model=resnet18, patch=patch, target_class=target_class)\n",
    "    targetted_asr_results[size] = targetted_asr\n",
    "  plot_asr_vs_patch_size(patch_sizes, targetted_asr_results)"
   ]
  },
  {
   "cell_type": "code",
   "execution_count": 18,
   "id": "_AhlWWzD3XFG",
   "metadata": {
    "id": "_AhlWWzD3XFG",
    "scrolled": true
   },
   "outputs": [
    {
     "name": "stdout",
     "output_type": "stream",
     "text": [
      "\n",
      "RUNNING EXPERIMENTS FOR TARGET CLASS 0\n",
      "\n",
      "Epoch 1\n",
      "Target class: 0\n",
      "Percentage of samples predicted as target class 0: 6.550000000000001\n",
      "Accuracy: 0.6166\n",
      "\n",
      "Epoch 2\n",
      "Target class: 0\n",
      "Percentage of samples predicted as target class 0: 27.700000000000003\n",
      "Accuracy: 0.2809\n",
      "\n",
      "Epoch 3\n",
      "Target class: 0\n",
      "Percentage of samples predicted as target class 0: 34.07\n",
      "Accuracy: 0.2335\n",
      "\n",
      "Epoch 4\n",
      "Target class: 0\n",
      "Percentage of samples predicted as target class 0: 37.81\n",
      "Accuracy: 0.2117\n",
      "\n",
      "Epoch 5\n",
      "Target class: 0\n",
      "Percentage of samples predicted as target class 0: 37.63\n",
      "Accuracy: 0.1999\n",
      "\n",
      "Epoch 6\n",
      "Target class: 0\n",
      "Percentage of samples predicted as target class 0: 37.480000000000004\n",
      "Accuracy: 0.1906\n",
      "\n",
      "Epoch 7\n",
      "Target class: 0\n",
      "Percentage of samples predicted as target class 0: 36.68\n",
      "Accuracy: 0.1907\n",
      "\n",
      "Epoch 8\n",
      "Target class: 0\n",
      "Percentage of samples predicted as target class 0: 36.89\n",
      "Accuracy: 0.1814\n",
      "\n",
      "Epoch 9\n",
      "Target class: 0\n",
      "Percentage of samples predicted as target class 0: 36.55\n",
      "Accuracy: 0.1885\n",
      "\n",
      "Epoch 10\n",
      "Target class: 0\n",
      "Percentage of samples predicted as target class 0: 37.37\n",
      "Accuracy: 0.1873\n",
      "\n"
     ]
    },
    {
     "data": {
      "image/png": "[encoded data removed]",
      "text/plain": [
       "<Figure size 640x480 with 1 Axes>"
      ]
     },
     "metadata": {},
     "output_type": "display_data"
    },
    {
     "name": "stdout",
     "output_type": "stream",
     "text": [
      "Model accuracy with adversarial patch: 18.69%\n",
      "Untargeted attack success rate on test set: 81.31%\n",
      "Targeted attack success rate on test set for class 0: 30.75%\n",
      "Epoch 1\n",
      "Target class: 0\n",
      "Percentage of samples predicted as target class 0: 5.76\n",
      "Accuracy: 0.5816\n",
      "\n",
      "Epoch 2\n",
      "Target class: 0\n",
      "Percentage of samples predicted as target class 0: 36.95\n",
      "Accuracy: 0.2345\n",
      "\n",
      "Epoch 3\n",
      "Target class: 0\n",
      "Percentage of samples predicted as target class 0: 43.2\n",
      "Accuracy: 0.1976\n",
      "\n",
      "Epoch 4\n",
      "Target class: 0\n",
      "Percentage of samples predicted as target class 0: 44.0\n",
      "Accuracy: 0.1848\n",
      "\n",
      "Epoch 5\n",
      "Target class: 0\n",
      "Percentage of samples predicted as target class 0: 44.9\n",
      "Accuracy: 0.1755\n",
      "\n",
      "Epoch 6\n",
      "Target class: 0\n",
      "Percentage of samples predicted as target class 0: 45.7\n",
      "Accuracy: 0.17\n",
      "\n",
      "Epoch 7\n",
      "Target class: 0\n",
      "Percentage of samples predicted as target class 0: 45.76\n",
      "Accuracy: 0.1633\n",
      "\n",
      "Epoch 8\n",
      "Target class: 0\n",
      "Percentage of samples predicted as target class 0: 46.35\n",
      "Accuracy: 0.1686\n",
      "\n",
      "Epoch 9\n",
      "Target class: 0\n",
      "Percentage of samples predicted as target class 0: 45.83\n",
      "Accuracy: 0.1557\n",
      "\n",
      "Epoch 10\n",
      "Target class: 0\n",
      "Percentage of samples predicted as target class 0: 46.650000000000006\n",
      "Accuracy: 0.1586\n",
      "\n"
     ]
    },
    {
     "data": {
      "image/png": "[encoded data removed]",
      "text/plain": [
       "<Figure size 640x480 with 1 Axes>"
      ]
     },
     "metadata": {},
     "output_type": "display_data"
    },
    {
     "name": "stdout",
     "output_type": "stream",
     "text": [
      "Model accuracy with adversarial patch: 16.49%\n",
      "Untargeted attack success rate on test set: 83.51%\n",
      "Targeted attack success rate on test set for class 0: 40.08%\n",
      "Epoch 1\n",
      "Target class: 0\n",
      "Percentage of samples predicted as target class 0: 4.8500000000000005\n",
      "Accuracy: 0.5624\n",
      "\n",
      "Epoch 2\n",
      "Target class: 0\n",
      "Percentage of samples predicted as target class 0: 48.59\n",
      "Accuracy: 0.2293\n",
      "\n",
      "Epoch 3\n",
      "Target class: 0\n",
      "Percentage of samples predicted as target class 0: 56.39999999999999\n",
      "Accuracy: 0.1888\n",
      "\n",
      "Epoch 4\n",
      "Target class: 0\n",
      "Percentage of samples predicted as target class 0: 55.96\n",
      "Accuracy: 0.1703\n",
      "\n",
      "Epoch 5\n",
      "Target class: 0\n",
      "Percentage of samples predicted as target class 0: 55.96\n",
      "Accuracy: 0.1688\n",
      "\n",
      "Epoch 6\n",
      "Target class: 0\n",
      "Percentage of samples predicted as target class 0: 56.830000000000005\n",
      "Accuracy: 0.1644\n",
      "\n",
      "Epoch 7\n",
      "Target class: 0\n",
      "Percentage of samples predicted as target class 0: 55.75\n",
      "Accuracy: 0.1633\n",
      "\n",
      "Epoch 8\n",
      "Target class: 0\n",
      "Percentage of samples predicted as target class 0: 56.84\n",
      "Accuracy: 0.1609\n",
      "\n",
      "Epoch 9\n",
      "Target class: 0\n",
      "Percentage of samples predicted as target class 0: 57.63\n",
      "Accuracy: 0.1596\n",
      "\n",
      "Epoch 10\n",
      "Target class: 0\n",
      "Percentage of samples predicted as target class 0: 56.510000000000005\n",
      "Accuracy: 0.1637\n",
      "\n"
     ]
    },
    {
     "data": {
      "image/png": "[encoded data removed]",
      "text/plain": [
       "<Figure size 640x480 with 1 Axes>"
      ]
     },
     "metadata": {},
     "output_type": "display_data"
    },
    {
     "name": "stdout",
     "output_type": "stream",
     "text": [
      "Model accuracy with adversarial patch: 16.46%\n",
      "Untargeted attack success rate on test set: 83.54%\n",
      "Targeted attack success rate on test set for class 0: 48.93%\n",
      "Epoch 1\n",
      "Target class: 0\n",
      "Percentage of samples predicted as target class 0: 5.83\n",
      "Accuracy: 0.3599\n",
      "\n",
      "Epoch 2\n",
      "Target class: 0\n",
      "Percentage of samples predicted as target class 0: 96.39999999999999\n",
      "Accuracy: 0.113\n",
      "\n",
      "Epoch 3\n",
      "Target class: 0\n",
      "Percentage of samples predicted as target class 0: 97.87\n",
      "Accuracy: 0.109\n",
      "\n",
      "Epoch 4\n",
      "Target class: 0\n",
      "Percentage of samples predicted as target class 0: 98.47\n",
      "Accuracy: 0.1065\n",
      "\n",
      "Epoch 5\n",
      "Target class: 0\n",
      "Percentage of samples predicted as target class 0: 99.07000000000001\n",
      "Accuracy: 0.105\n",
      "\n",
      "Epoch 6\n",
      "Target class: 0\n",
      "Percentage of samples predicted as target class 0: 99.09\n",
      "Accuracy: 0.1042\n",
      "\n",
      "Epoch 7\n",
      "Target class: 0\n",
      "Percentage of samples predicted as target class 0: 99.15\n",
      "Accuracy: 0.1036\n",
      "\n",
      "Epoch 8\n",
      "Target class: 0\n",
      "Percentage of samples predicted as target class 0: 99.19\n",
      "Accuracy: 0.1045\n",
      "\n",
      "Epoch 9\n",
      "Target class: 0\n",
      "Percentage of samples predicted as target class 0: 99.35000000000001\n",
      "Accuracy: 0.1044\n",
      "\n",
      "Epoch 10\n",
      "Target class: 0\n",
      "Percentage of samples predicted as target class 0: 99.22\n",
      "Accuracy: 0.1039\n",
      "\n"
     ]
    },
    {
     "data": {
      "image/png": "[encoded data removed]",
      "text/plain": [
       "<Figure size 640x480 with 1 Axes>"
      ]
     },
     "metadata": {},
     "output_type": "display_data"
    },
    {
     "name": "stdout",
     "output_type": "stream",
     "text": [
      "Model accuracy with adversarial patch: 10.26%\n",
      "Untargeted attack success rate on test set: 89.74%\n",
      "Targeted attack success rate on test set for class 0: 89.19%\n"
     ]
    },
    {
     "data": {
      "image/png": "[encoded data removed]",
      "text/plain": [
       "<Figure size 600x400 with 1 Axes>"
      ]
     },
     "metadata": {},
     "output_type": "display_data"
    },
    {
     "name": "stdout",
     "output_type": "stream",
     "text": [
      "\n",
      "RUNNING EXPERIMENTS FOR TARGET CLASS 1\n",
      "\n",
      "Epoch 1\n",
      "Target class: 1\n",
      "Percentage of samples predicted as target class 1: 6.329999999999999\n",
      "Accuracy: 0.6194\n",
      "\n",
      "Epoch 2\n",
      "Target class: 1\n",
      "Percentage of samples predicted as target class 1: 13.56\n",
      "Accuracy: 0.454\n",
      "\n",
      "Epoch 3\n",
      "Target class: 1\n",
      "Percentage of samples predicted as target class 1: 59.870000000000005\n",
      "Accuracy: 0.2229\n",
      "\n",
      "Epoch 4\n",
      "Target class: 1\n",
      "Percentage of samples predicted as target class 1: 72.13000000000001\n",
      "Accuracy: 0.1763\n",
      "\n",
      "Epoch 5\n",
      "Target class: 1\n",
      "Percentage of samples predicted as target class 1: 75.33\n",
      "Accuracy: 0.1705\n",
      "\n",
      "Epoch 6\n",
      "Target class: 1\n",
      "Percentage of samples predicted as target class 1: 76.98\n",
      "Accuracy: 0.1648\n",
      "\n",
      "Epoch 7\n",
      "Target class: 1\n",
      "Percentage of samples predicted as target class 1: 78.05\n",
      "Accuracy: 0.1568\n",
      "\n",
      "Epoch 8\n",
      "Target class: 1\n",
      "Percentage of samples predicted as target class 1: 77.38000000000001\n",
      "Accuracy: 0.1589\n",
      "\n",
      "Epoch 9\n",
      "Target class: 1\n",
      "Percentage of samples predicted as target class 1: 78.32000000000001\n",
      "Accuracy: 0.1593\n",
      "\n",
      "Epoch 10\n",
      "Target class: 1\n",
      "Percentage of samples predicted as target class 1: 78.64\n",
      "Accuracy: 0.1566\n",
      "\n"
     ]
    },
    {
     "data": {
      "image/png": "[encoded data removed]",
      "text/plain": [
       "<Figure size 640x480 with 1 Axes>"
      ]
     },
     "metadata": {},
     "output_type": "display_data"
    },
    {
     "name": "stdout",
     "output_type": "stream",
     "text": [
      "Model accuracy with adversarial patch: 16.36%\n",
      "Untargeted attack success rate on test set: 83.64%\n",
      "Targeted attack success rate on test set for class 1: 65.06%\n",
      "Epoch 1\n",
      "Target class: 1\n",
      "Percentage of samples predicted as target class 1: 6.819999999999999\n",
      "Accuracy: 0.5929\n",
      "\n",
      "Epoch 2\n",
      "Target class: 1\n",
      "Percentage of samples predicted as target class 1: 60.25\n",
      "Accuracy: 0.2155\n",
      "\n",
      "Epoch 3\n",
      "Target class: 1\n",
      "Percentage of samples predicted as target class 1: 81.64\n",
      "Accuracy: 0.1506\n",
      "\n",
      "Epoch 4\n",
      "Target class: 1\n",
      "Percentage of samples predicted as target class 1: 84.72\n",
      "Accuracy: 0.1418\n",
      "\n",
      "Epoch 5\n",
      "Target class: 1\n",
      "Percentage of samples predicted as target class 1: 86.02\n",
      "Accuracy: 0.1401\n",
      "\n",
      "Epoch 6\n",
      "Target class: 1\n",
      "Percentage of samples predicted as target class 1: 87.7\n",
      "Accuracy: 0.1363\n",
      "\n",
      "Epoch 7\n",
      "Target class: 1\n",
      "Percentage of samples predicted as target class 1: 88.27000000000001\n",
      "Accuracy: 0.132\n",
      "\n",
      "Epoch 8\n",
      "Target class: 1\n",
      "Percentage of samples predicted as target class 1: 88.5\n",
      "Accuracy: 0.1298\n",
      "\n",
      "Epoch 9\n",
      "Target class: 1\n",
      "Percentage of samples predicted as target class 1: 88.5\n",
      "Accuracy: 0.1304\n",
      "\n",
      "Epoch 10\n",
      "Target class: 1\n",
      "Percentage of samples predicted as target class 1: 88.85\n",
      "Accuracy: 0.1328\n",
      "\n"
     ]
    },
    {
     "data": {
      "image/png": "[encoded data removed]",
      "text/plain": [
       "<Figure size 640x480 with 1 Axes>"
      ]
     },
     "metadata": {},
     "output_type": "display_data"
    },
    {
     "name": "stdout",
     "output_type": "stream",
     "text": [
      "Model accuracy with adversarial patch: 13.65%\n",
      "Untargeted attack success rate on test set: 86.35%\n",
      "Targeted attack success rate on test set for class 1: 76.15%\n",
      "Epoch 1\n",
      "Target class: 1\n",
      "Percentage of samples predicted as target class 1: 5.53\n",
      "Accuracy: 0.5667\n",
      "\n",
      "Epoch 2\n",
      "Target class: 1\n",
      "Percentage of samples predicted as target class 1: 67.36999999999999\n",
      "Accuracy: 0.1707\n",
      "\n",
      "Epoch 3\n",
      "Target class: 1\n",
      "Percentage of samples predicted as target class 1: 83.03\n",
      "Accuracy: 0.1369\n",
      "\n",
      "Epoch 4\n",
      "Target class: 1\n",
      "Percentage of samples predicted as target class 1: 87.22\n",
      "Accuracy: 0.13\n",
      "\n",
      "Epoch 5\n",
      "Target class: 1\n",
      "Percentage of samples predicted as target class 1: 89.59\n",
      "Accuracy: 0.1261\n",
      "\n",
      "Epoch 6\n",
      "Target class: 1\n",
      "Percentage of samples predicted as target class 1: 90.25999999999999\n",
      "Accuracy: 0.1246\n",
      "\n",
      "Epoch 7\n",
      "Target class: 1\n",
      "Percentage of samples predicted as target class 1: 91.67999999999999\n",
      "Accuracy: 0.1225\n",
      "\n",
      "Epoch 8\n",
      "Target class: 1\n",
      "Percentage of samples predicted as target class 1: 91.86\n",
      "Accuracy: 0.1204\n",
      "\n",
      "Epoch 9\n",
      "Target class: 1\n",
      "Percentage of samples predicted as target class 1: 92.56\n",
      "Accuracy: 0.1237\n",
      "\n",
      "Epoch 10\n",
      "Target class: 1\n",
      "Percentage of samples predicted as target class 1: 92.95\n",
      "Accuracy: 0.1184\n",
      "\n"
     ]
    },
    {
     "data": {
      "image/png": "[encoded data removed]",
      "text/plain": [
       "<Figure size 640x480 with 1 Axes>"
      ]
     },
     "metadata": {},
     "output_type": "display_data"
    },
    {
     "name": "stdout",
     "output_type": "stream",
     "text": [
      "Model accuracy with adversarial patch: 12.53%\n",
      "Untargeted attack success rate on test set: 87.47%\n",
      "Targeted attack success rate on test set for class 1: 80.75%\n",
      "Epoch 1\n",
      "Target class: 1\n",
      "Percentage of samples predicted as target class 1: 3.2399999999999998\n",
      "Accuracy: 0.3549\n",
      "\n",
      "Epoch 2\n",
      "Target class: 1\n",
      "Percentage of samples predicted as target class 1: 96.35000000000001\n",
      "Accuracy: 0.1128\n",
      "\n",
      "Epoch 3\n",
      "Target class: 1\n",
      "Percentage of samples predicted as target class 1: 98.79\n",
      "Accuracy: 0.1066\n",
      "\n",
      "Epoch 4\n",
      "Target class: 1\n",
      "Percentage of samples predicted as target class 1: 99.36\n",
      "Accuracy: 0.1051\n",
      "\n",
      "Epoch 5\n",
      "Target class: 1\n",
      "Percentage of samples predicted as target class 1: 99.52\n",
      "Accuracy: 0.1048\n",
      "\n",
      "Epoch 6\n",
      "Target class: 1\n",
      "Percentage of samples predicted as target class 1: 99.56\n",
      "Accuracy: 0.104\n",
      "\n",
      "Epoch 7\n",
      "Target class: 1\n",
      "Percentage of samples predicted as target class 1: 99.63\n",
      "Accuracy: 0.1041\n",
      "\n",
      "Epoch 8\n",
      "Target class: 1\n",
      "Percentage of samples predicted as target class 1: 99.74\n",
      "Accuracy: 0.1033\n",
      "\n",
      "Epoch 9\n",
      "Target class: 1\n",
      "Percentage of samples predicted as target class 1: 99.79\n",
      "Accuracy: 0.1032\n",
      "\n",
      "Epoch 10\n",
      "Target class: 1\n",
      "Percentage of samples predicted as target class 1: 99.7\n",
      "Accuracy: 0.1033\n",
      "\n"
     ]
    },
    {
     "data": {
      "image/png": "[encoded data removed]",
      "text/plain": [
       "<Figure size 640x480 with 1 Axes>"
      ]
     },
     "metadata": {},
     "output_type": "display_data"
    },
    {
     "name": "stdout",
     "output_type": "stream",
     "text": [
      "Model accuracy with adversarial patch: 10.17%\n",
      "Untargeted attack success rate on test set: 89.83%\n",
      "Targeted attack success rate on test set for class 1: 89.51%\n"
     ]
    },
    {
     "data": {
      "image/png": "[encoded data removed]",
      "text/plain": [
       "<Figure size 600x400 with 1 Axes>"
      ]
     },
     "metadata": {},
     "output_type": "display_data"
    },
    {
     "name": "stdout",
     "output_type": "stream",
     "text": [
      "\n",
      "RUNNING EXPERIMENTS FOR TARGET CLASS 2\n",
      "\n",
      "Epoch 1\n",
      "Target class: 2\n",
      "Percentage of samples predicted as target class 2: 8.85\n",
      "Accuracy: 0.6218\n",
      "\n",
      "Epoch 2\n",
      "Target class: 2\n",
      "Percentage of samples predicted as target class 2: 49.15\n",
      "Accuracy: 0.3357\n",
      "\n",
      "Epoch 3\n",
      "Target class: 2\n",
      "Percentage of samples predicted as target class 2: 58.919999999999995\n",
      "Accuracy: 0.2727\n",
      "\n",
      "Epoch 4\n",
      "Target class: 2\n",
      "Percentage of samples predicted as target class 2: 61.24000000000001\n",
      "Accuracy: 0.2516\n",
      "\n",
      "Epoch 5\n",
      "Target class: 2\n",
      "Percentage of samples predicted as target class 2: 62.5\n",
      "Accuracy: 0.2369\n",
      "\n",
      "Epoch 6\n",
      "Target class: 2\n",
      "Percentage of samples predicted as target class 2: 63.39\n",
      "Accuracy: 0.2329\n",
      "\n",
      "Epoch 7\n",
      "Target class: 2\n",
      "Percentage of samples predicted as target class 2: 64.22\n",
      "Accuracy: 0.2299\n",
      "\n",
      "Epoch 8\n",
      "Target class: 2\n",
      "Percentage of samples predicted as target class 2: 64.42\n",
      "Accuracy: 0.2243\n",
      "\n",
      "Epoch 9\n",
      "Target class: 2\n",
      "Percentage of samples predicted as target class 2: 64.14\n",
      "Accuracy: 0.2264\n",
      "\n",
      "Epoch 10\n",
      "Target class: 2\n",
      "Percentage of samples predicted as target class 2: 63.800000000000004\n",
      "Accuracy: 0.2224\n",
      "\n"
     ]
    },
    {
     "data": {
      "image/png": "[encoded data removed]",
      "text/plain": [
       "<Figure size 640x480 with 1 Axes>"
      ]
     },
     "metadata": {},
     "output_type": "display_data"
    },
    {
     "name": "stdout",
     "output_type": "stream",
     "text": [
      "Model accuracy with adversarial patch: 23.70%\n",
      "Untargeted attack success rate on test set: 76.30%\n",
      "Targeted attack success rate on test set for class 2: 52.83%\n",
      "Epoch 1\n",
      "Target class: 2\n",
      "Percentage of samples predicted as target class 2: 8.37\n",
      "Accuracy: 0.608\n",
      "\n",
      "Epoch 2\n",
      "Target class: 2\n",
      "Percentage of samples predicted as target class 2: 59.95\n",
      "Accuracy: 0.2618\n",
      "\n",
      "Epoch 3\n",
      "Target class: 2\n",
      "Percentage of samples predicted as target class 2: 68.44\n",
      "Accuracy: 0.2248\n",
      "\n",
      "Epoch 4\n",
      "Target class: 2\n",
      "Percentage of samples predicted as target class 2: 71.6\n",
      "Accuracy: 0.2092\n",
      "\n",
      "Epoch 5\n",
      "Target class: 2\n",
      "Percentage of samples predicted as target class 2: 72.89\n",
      "Accuracy: 0.2054\n",
      "\n",
      "Epoch 6\n",
      "Target class: 2\n",
      "Percentage of samples predicted as target class 2: 73.75\n",
      "Accuracy: 0.1995\n",
      "\n",
      "Epoch 7\n",
      "Target class: 2\n",
      "Percentage of samples predicted as target class 2: 74.26\n",
      "Accuracy: 0.1959\n",
      "\n",
      "Epoch 8\n",
      "Target class: 2\n",
      "Percentage of samples predicted as target class 2: 74.36\n",
      "Accuracy: 0.195\n",
      "\n",
      "Epoch 9\n",
      "Target class: 2\n",
      "Percentage of samples predicted as target class 2: 73.94\n",
      "Accuracy: 0.1948\n",
      "\n",
      "Epoch 10\n",
      "Target class: 2\n",
      "Percentage of samples predicted as target class 2: 74.87\n",
      "Accuracy: 0.1912\n",
      "\n"
     ]
    },
    {
     "data": {
      "image/png": "[encoded data removed]",
      "text/plain": [
       "<Figure size 640x480 with 1 Axes>"
      ]
     },
     "metadata": {},
     "output_type": "display_data"
    },
    {
     "name": "stdout",
     "output_type": "stream",
     "text": [
      "Model accuracy with adversarial patch: 20.02%\n",
      "Untargeted attack success rate on test set: 79.98%\n",
      "Targeted attack success rate on test set for class 2: 64.51%\n",
      "Epoch 1\n",
      "Target class: 2\n",
      "Percentage of samples predicted as target class 2: 8.9\n",
      "Accuracy: 0.5698\n",
      "\n",
      "Epoch 2\n",
      "Target class: 2\n",
      "Percentage of samples predicted as target class 2: 65.23\n",
      "Accuracy: 0.2331\n",
      "\n",
      "Epoch 3\n",
      "Target class: 2\n",
      "Percentage of samples predicted as target class 2: 71.21\n",
      "Accuracy: 0.2074\n",
      "\n",
      "Epoch 4\n",
      "Target class: 2\n",
      "Percentage of samples predicted as target class 2: 74.83999999999999\n",
      "Accuracy: 0.19\n",
      "\n",
      "Epoch 5\n",
      "Target class: 2\n",
      "Percentage of samples predicted as target class 2: 76.77000000000001\n",
      "Accuracy: 0.1808\n",
      "\n",
      "Epoch 6\n",
      "Target class: 2\n",
      "Percentage of samples predicted as target class 2: 78.42\n",
      "Accuracy: 0.1787\n",
      "\n",
      "Epoch 7\n",
      "Target class: 2\n",
      "Percentage of samples predicted as target class 2: 79.51\n",
      "Accuracy: 0.1732\n",
      "\n",
      "Epoch 8\n",
      "Target class: 2\n",
      "Percentage of samples predicted as target class 2: 80.17\n",
      "Accuracy: 0.1754\n",
      "\n",
      "Epoch 9\n",
      "Target class: 2\n",
      "Percentage of samples predicted as target class 2: 81.31\n",
      "Accuracy: 0.1702\n",
      "\n",
      "Epoch 10\n",
      "Target class: 2\n",
      "Percentage of samples predicted as target class 2: 82.14\n",
      "Accuracy: 0.1695\n",
      "\n"
     ]
    },
    {
     "data": {
      "image/png": "[encoded data removed]",
      "text/plain": [
       "<Figure size 640x480 with 1 Axes>"
      ]
     },
     "metadata": {},
     "output_type": "display_data"
    },
    {
     "name": "stdout",
     "output_type": "stream",
     "text": [
      "Model accuracy with adversarial patch: 17.13%\n",
      "Untargeted attack success rate on test set: 82.87%\n",
      "Targeted attack success rate on test set for class 2: 71.27%\n",
      "Epoch 1\n",
      "Target class: 2\n",
      "Percentage of samples predicted as target class 2: 11.24\n",
      "Accuracy: 0.381\n",
      "\n",
      "Epoch 2\n",
      "Target class: 2\n",
      "Percentage of samples predicted as target class 2: 96.65\n",
      "Accuracy: 0.112\n",
      "\n",
      "Epoch 3\n",
      "Target class: 2\n",
      "Percentage of samples predicted as target class 2: 98.3\n",
      "Accuracy: 0.1074\n",
      "\n",
      "Epoch 4\n",
      "Target class: 2\n",
      "Percentage of samples predicted as target class 2: 98.95\n",
      "Accuracy: 0.1042\n",
      "\n",
      "Epoch 5\n",
      "Target class: 2\n",
      "Percentage of samples predicted as target class 2: 99.19\n",
      "Accuracy: 0.103\n",
      "\n",
      "Epoch 6\n",
      "Target class: 2\n",
      "Percentage of samples predicted as target class 2: 99.36\n",
      "Accuracy: 0.1022\n",
      "\n",
      "Epoch 7\n",
      "Target class: 2\n",
      "Percentage of samples predicted as target class 2: 99.53999999999999\n",
      "Accuracy: 0.1019\n",
      "\n",
      "Epoch 8\n",
      "Target class: 2\n",
      "Percentage of samples predicted as target class 2: 99.41\n",
      "Accuracy: 0.1023\n",
      "\n",
      "Epoch 9\n",
      "Target class: 2\n",
      "Percentage of samples predicted as target class 2: 99.6\n",
      "Accuracy: 0.1016\n",
      "\n",
      "Epoch 10\n",
      "Target class: 2\n",
      "Percentage of samples predicted as target class 2: 99.6\n",
      "Accuracy: 0.1019\n",
      "\n"
     ]
    },
    {
     "data": {
      "image/png": "[encoded data removed]",
      "text/plain": [
       "<Figure size 640x480 with 1 Axes>"
      ]
     },
     "metadata": {},
     "output_type": "display_data"
    },
    {
     "name": "stdout",
     "output_type": "stream",
     "text": [
      "Model accuracy with adversarial patch: 10.19%\n",
      "Untargeted attack success rate on test set: 89.81%\n",
      "Targeted attack success rate on test set for class 2: 89.36%\n"
     ]
    },
    {
     "data": {
      "image/png": "[encoded data removed]",
      "text/plain": [
       "<Figure size 600x400 with 1 Axes>"
      ]
     },
     "metadata": {},
     "output_type": "display_data"
    },
    {
     "name": "stdout",
     "output_type": "stream",
     "text": [
      "\n",
      "RUNNING EXPERIMENTS FOR TARGET CLASS 3\n",
      "\n",
      "Epoch 1\n",
      "Target class: 3\n",
      "Percentage of samples predicted as target class 3: 27.51\n",
      "Accuracy: 0.5962\n",
      "\n",
      "Epoch 2\n",
      "Target class: 3\n",
      "Percentage of samples predicted as target class 3: 46.31\n",
      "Accuracy: 0.3379\n",
      "\n",
      "Epoch 3\n",
      "Target class: 3\n",
      "Percentage of samples predicted as target class 3: 48.93\n",
      "Accuracy: 0.2996\n",
      "\n",
      "Epoch 4\n",
      "Target class: 3\n",
      "Percentage of samples predicted as target class 3: 47.620000000000005\n",
      "Accuracy: 0.2871\n",
      "\n",
      "Epoch 5\n",
      "Target class: 3\n",
      "Percentage of samples predicted as target class 3: 48.44\n",
      "Accuracy: 0.2875\n",
      "\n",
      "Epoch 6\n",
      "Target class: 3\n",
      "Percentage of samples predicted as target class 3: 48.17\n",
      "Accuracy: 0.2844\n",
      "\n",
      "Epoch 7\n",
      "Target class: 3\n",
      "Percentage of samples predicted as target class 3: 47.620000000000005\n",
      "Accuracy: 0.2814\n",
      "\n",
      "Epoch 8\n",
      "Target class: 3\n",
      "Percentage of samples predicted as target class 3: 47.510000000000005\n",
      "Accuracy: 0.2802\n",
      "\n",
      "Epoch 9\n",
      "Target class: 3\n",
      "Percentage of samples predicted as target class 3: 48.949999999999996\n",
      "Accuracy: 0.2772\n",
      "\n",
      "Epoch 10\n",
      "Target class: 3\n",
      "Percentage of samples predicted as target class 3: 47.77\n",
      "Accuracy: 0.2818\n",
      "\n"
     ]
    },
    {
     "data": {
      "image/png": "[encoded data removed]",
      "text/plain": [
       "<Figure size 640x480 with 1 Axes>"
      ]
     },
     "metadata": {},
     "output_type": "display_data"
    },
    {
     "name": "stdout",
     "output_type": "stream",
     "text": [
      "Model accuracy with adversarial patch: 28.95%\n",
      "Untargeted attack success rate on test set: 71.05%\n",
      "Targeted attack success rate on test set for class 3: 38.89%\n",
      "Epoch 1\n",
      "Target class: 3\n",
      "Percentage of samples predicted as target class 3: 25.040000000000003\n",
      "Accuracy: 0.5913\n",
      "\n",
      "Epoch 2\n",
      "Target class: 3\n",
      "Percentage of samples predicted as target class 3: 55.1\n",
      "Accuracy: 0.2863\n",
      "\n",
      "Epoch 3\n",
      "Target class: 3\n",
      "Percentage of samples predicted as target class 3: 55.64\n",
      "Accuracy: 0.2725\n",
      "\n",
      "Epoch 4\n",
      "Target class: 3\n",
      "Percentage of samples predicted as target class 3: 58.089999999999996\n",
      "Accuracy: 0.2589\n",
      "\n",
      "Epoch 5\n",
      "Target class: 3\n",
      "Percentage of samples predicted as target class 3: 55.92\n",
      "Accuracy: 0.2611\n",
      "\n",
      "Epoch 6\n",
      "Target class: 3\n",
      "Percentage of samples predicted as target class 3: 56.42\n",
      "Accuracy: 0.2488\n",
      "\n",
      "Epoch 7\n",
      "Target class: 3\n",
      "Percentage of samples predicted as target class 3: 55.769999999999996\n",
      "Accuracy: 0.2526\n",
      "\n",
      "Epoch 8\n",
      "Target class: 3\n",
      "Percentage of samples predicted as target class 3: 56.31\n",
      "Accuracy: 0.2502\n",
      "\n",
      "Epoch 9\n",
      "Target class: 3\n",
      "Percentage of samples predicted as target class 3: 55.52\n",
      "Accuracy: 0.2549\n",
      "\n",
      "Epoch 10\n",
      "Target class: 3\n",
      "Percentage of samples predicted as target class 3: 55.67999999999999\n",
      "Accuracy: 0.2579\n",
      "\n"
     ]
    },
    {
     "data": {
      "image/png": "[encoded data removed]",
      "text/plain": [
       "<Figure size 640x480 with 1 Axes>"
      ]
     },
     "metadata": {},
     "output_type": "display_data"
    },
    {
     "name": "stdout",
     "output_type": "stream",
     "text": [
      "Model accuracy with adversarial patch: 27.17%\n",
      "Untargeted attack success rate on test set: 72.83%\n",
      "Targeted attack success rate on test set for class 3: 45.53%\n",
      "Epoch 1\n",
      "Target class: 3\n",
      "Percentage of samples predicted as target class 3: 23.78\n",
      "Accuracy: 0.5885\n",
      "\n",
      "Epoch 2\n",
      "Target class: 3\n",
      "Percentage of samples predicted as target class 3: 66.86\n",
      "Accuracy: 0.2508\n",
      "\n",
      "Epoch 3\n",
      "Target class: 3\n",
      "Percentage of samples predicted as target class 3: 69.78\n",
      "Accuracy: 0.2279\n",
      "\n",
      "Epoch 4\n",
      "Target class: 3\n",
      "Percentage of samples predicted as target class 3: 71.5\n",
      "Accuracy: 0.2155\n",
      "\n",
      "Epoch 5\n",
      "Target class: 3\n",
      "Percentage of samples predicted as target class 3: 73.26\n",
      "Accuracy: 0.2113\n",
      "\n",
      "Epoch 6\n",
      "Target class: 3\n",
      "Percentage of samples predicted as target class 3: 73.58\n",
      "Accuracy: 0.2064\n",
      "\n",
      "Epoch 7\n",
      "Target class: 3\n",
      "Percentage of samples predicted as target class 3: 74.36\n",
      "Accuracy: 0.2082\n",
      "\n",
      "Epoch 8\n",
      "Target class: 3\n",
      "Percentage of samples predicted as target class 3: 74.74\n",
      "Accuracy: 0.1997\n",
      "\n",
      "Epoch 9\n",
      "Target class: 3\n",
      "Percentage of samples predicted as target class 3: 75.13\n",
      "Accuracy: 0.1975\n",
      "\n",
      "Epoch 10\n",
      "Target class: 3\n",
      "Percentage of samples predicted as target class 3: 75.51\n",
      "Accuracy: 0.2004\n",
      "\n"
     ]
    },
    {
     "data": {
      "image/png": "[encoded data removed]",
      "text/plain": [
       "<Figure size 640x480 with 1 Axes>"
      ]
     },
     "metadata": {},
     "output_type": "display_data"
    },
    {
     "name": "stdout",
     "output_type": "stream",
     "text": [
      "Model accuracy with adversarial patch: 21.50%\n",
      "Untargeted attack success rate on test set: 78.50%\n",
      "Targeted attack success rate on test set for class 3: 63.28%\n",
      "Epoch 1\n",
      "Target class: 3\n",
      "Percentage of samples predicted as target class 3: 26.83\n",
      "Accuracy: 0.4061\n",
      "\n",
      "Epoch 2\n",
      "Target class: 3\n",
      "Percentage of samples predicted as target class 3: 94.38\n",
      "Accuracy: 0.1188\n",
      "\n",
      "Epoch 3\n",
      "Target class: 3\n",
      "Percentage of samples predicted as target class 3: 97.04\n",
      "Accuracy: 0.1092\n",
      "\n",
      "Epoch 4\n",
      "Target class: 3\n",
      "Percentage of samples predicted as target class 3: 97.52\n",
      "Accuracy: 0.1097\n",
      "\n",
      "Epoch 5\n",
      "Target class: 3\n",
      "Percentage of samples predicted as target class 3: 98.33\n",
      "Accuracy: 0.1057\n",
      "\n",
      "Epoch 6\n",
      "Target class: 3\n",
      "Percentage of samples predicted as target class 3: 98.54\n",
      "Accuracy: 0.1038\n",
      "\n",
      "Epoch 7\n",
      "Target class: 3\n",
      "Percentage of samples predicted as target class 3: 98.68\n",
      "Accuracy: 0.1046\n",
      "\n",
      "Epoch 8\n",
      "Target class: 3\n",
      "Percentage of samples predicted as target class 3: 98.76\n",
      "Accuracy: 0.1038\n",
      "\n",
      "Epoch 9\n",
      "Target class: 3\n",
      "Percentage of samples predicted as target class 3: 98.94\n",
      "Accuracy: 0.1021\n",
      "\n",
      "Epoch 10\n",
      "Target class: 3\n",
      "Percentage of samples predicted as target class 3: 98.99\n",
      "Accuracy: 0.1025\n",
      "\n"
     ]
    },
    {
     "data": {
      "image/png": "[encoded data removed]",
      "text/plain": [
       "<Figure size 640x480 with 1 Axes>"
      ]
     },
     "metadata": {},
     "output_type": "display_data"
    },
    {
     "name": "stdout",
     "output_type": "stream",
     "text": [
      "Model accuracy with adversarial patch: 10.61%\n",
      "Untargeted attack success rate on test set: 89.39%\n",
      "Targeted attack success rate on test set for class 3: 88.42%\n"
     ]
    },
    {
     "data": {
      "image/png": "[encoded data removed]",
      "text/plain": [
       "<Figure size 600x400 with 1 Axes>"
      ]
     },
     "metadata": {},
     "output_type": "display_data"
    },
    {
     "name": "stdout",
     "output_type": "stream",
     "text": [
      "\n",
      "RUNNING EXPERIMENTS FOR TARGET CLASS 4\n",
      "\n",
      "Epoch 1\n",
      "Target class: 4\n",
      "Percentage of samples predicted as target class 4: 11.52\n",
      "Accuracy: 0.6196\n",
      "\n",
      "Epoch 2\n",
      "Target class: 4\n",
      "Percentage of samples predicted as target class 4: 15.079999999999998\n",
      "Accuracy: 0.5954\n",
      "\n",
      "Epoch 3\n",
      "Target class: 4\n",
      "Percentage of samples predicted as target class 4: 14.790000000000001\n",
      "Accuracy: 0.5866\n",
      "\n",
      "Epoch 4\n",
      "Target class: 4\n",
      "Percentage of samples predicted as target class 4: 14.860000000000001\n",
      "Accuracy: 0.5837\n",
      "\n",
      "Epoch 5\n",
      "Target class: 4\n",
      "Percentage of samples predicted as target class 4: 15.32\n",
      "Accuracy: 0.5834\n",
      "\n",
      "Epoch 6\n",
      "Target class: 4\n",
      "Percentage of samples predicted as target class 4: 14.860000000000001\n",
      "Accuracy: 0.5819\n",
      "\n",
      "Epoch 7\n",
      "Target class: 4\n",
      "Percentage of samples predicted as target class 4: 14.860000000000001\n",
      "Accuracy: 0.5734\n",
      "\n",
      "Epoch 8\n",
      "Target class: 4\n",
      "Percentage of samples predicted as target class 4: 14.860000000000001\n",
      "Accuracy: 0.5843\n",
      "\n",
      "Epoch 9\n",
      "Target class: 4\n",
      "Percentage of samples predicted as target class 4: 15.190000000000001\n",
      "Accuracy: 0.5817\n",
      "\n",
      "Epoch 10\n",
      "Target class: 4\n",
      "Percentage of samples predicted as target class 4: 15.1\n",
      "Accuracy: 0.5836\n",
      "\n"
     ]
    },
    {
     "data": {
      "image/png": "[encoded data removed]",
      "text/plain": [
       "<Figure size 640x480 with 1 Axes>"
      ]
     },
     "metadata": {},
     "output_type": "display_data"
    },
    {
     "name": "stdout",
     "output_type": "stream",
     "text": [
      "Model accuracy with adversarial patch: 56.64%\n",
      "Untargeted attack success rate on test set: 43.36%\n",
      "Targeted attack success rate on test set for class 4: 12.06%\n",
      "Epoch 1\n",
      "Target class: 4\n",
      "Percentage of samples predicted as target class 4: 12.61\n",
      "Accuracy: 0.5945\n",
      "\n",
      "Epoch 2\n",
      "Target class: 4\n",
      "Percentage of samples predicted as target class 4: 20.79\n",
      "Accuracy: 0.5372\n",
      "\n",
      "Epoch 3\n",
      "Target class: 4\n",
      "Percentage of samples predicted as target class 4: 22.17\n",
      "Accuracy: 0.5116\n",
      "\n",
      "Epoch 4\n",
      "Target class: 4\n",
      "Percentage of samples predicted as target class 4: 22.38\n",
      "Accuracy: 0.4981\n",
      "\n",
      "Epoch 5\n",
      "Target class: 4\n",
      "Percentage of samples predicted as target class 4: 23.03\n",
      "Accuracy: 0.4963\n",
      "\n",
      "Epoch 6\n",
      "Target class: 4\n",
      "Percentage of samples predicted as target class 4: 23.150000000000002\n",
      "Accuracy: 0.4913\n",
      "\n",
      "Epoch 7\n",
      "Target class: 4\n",
      "Percentage of samples predicted as target class 4: 23.44\n",
      "Accuracy: 0.483\n",
      "\n",
      "Epoch 8\n",
      "Target class: 4\n",
      "Percentage of samples predicted as target class 4: 23.66\n",
      "Accuracy: 0.4792\n",
      "\n",
      "Epoch 9\n",
      "Target class: 4\n",
      "Percentage of samples predicted as target class 4: 23.330000000000002\n",
      "Accuracy: 0.4841\n",
      "\n",
      "Epoch 10\n",
      "Target class: 4\n",
      "Percentage of samples predicted as target class 4: 23.26\n",
      "Accuracy: 0.48\n",
      "\n"
     ]
    },
    {
     "data": {
      "image/png": "[encoded data removed]",
      "text/plain": [
       "<Figure size 640x480 with 1 Axes>"
      ]
     },
     "metadata": {},
     "output_type": "display_data"
    },
    {
     "name": "stdout",
     "output_type": "stream",
     "text": [
      "Model accuracy with adversarial patch: 48.50%\n",
      "Untargeted attack success rate on test set: 51.50%\n",
      "Targeted attack success rate on test set for class 4: 20.84%\n",
      "Epoch 1\n",
      "Target class: 4\n",
      "Percentage of samples predicted as target class 4: 11.379999999999999\n",
      "Accuracy: 0.5808\n",
      "\n",
      "Epoch 2\n",
      "Target class: 4\n",
      "Percentage of samples predicted as target class 4: 23.84\n",
      "Accuracy: 0.4906\n",
      "\n",
      "Epoch 3\n",
      "Target class: 4\n",
      "Percentage of samples predicted as target class 4: 25.69\n",
      "Accuracy: 0.457\n",
      "\n",
      "Epoch 4\n",
      "Target class: 4\n",
      "Percentage of samples predicted as target class 4: 26.71\n",
      "Accuracy: 0.4348\n",
      "\n",
      "Epoch 5\n",
      "Target class: 4\n",
      "Percentage of samples predicted as target class 4: 26.529999999999998\n",
      "Accuracy: 0.44\n",
      "\n",
      "Epoch 6\n",
      "Target class: 4\n",
      "Percentage of samples predicted as target class 4: 26.640000000000004\n",
      "Accuracy: 0.4261\n",
      "\n",
      "Epoch 7\n",
      "Target class: 4\n",
      "Percentage of samples predicted as target class 4: 26.97\n",
      "Accuracy: 0.418\n",
      "\n",
      "Epoch 8\n",
      "Target class: 4\n",
      "Percentage of samples predicted as target class 4: 27.1\n",
      "Accuracy: 0.4175\n",
      "\n",
      "Epoch 9\n",
      "Target class: 4\n",
      "Percentage of samples predicted as target class 4: 26.87\n",
      "Accuracy: 0.4109\n",
      "\n",
      "Epoch 10\n",
      "Target class: 4\n",
      "Percentage of samples predicted as target class 4: 26.88\n",
      "Accuracy: 0.4137\n",
      "\n"
     ]
    },
    {
     "data": {
      "image/png": "[encoded data removed]",
      "text/plain": [
       "<Figure size 640x480 with 1 Axes>"
      ]
     },
     "metadata": {},
     "output_type": "display_data"
    },
    {
     "name": "stdout",
     "output_type": "stream",
     "text": [
      "Model accuracy with adversarial patch: 43.45%\n",
      "Untargeted attack success rate on test set: 56.55%\n",
      "Targeted attack success rate on test set for class 4: 24.57%\n",
      "Epoch 1\n",
      "Target class: 4\n",
      "Percentage of samples predicted as target class 4: 12.370000000000001\n",
      "Accuracy: 0.3692\n",
      "\n",
      "Epoch 2\n",
      "Target class: 4\n",
      "Percentage of samples predicted as target class 4: 88.16000000000001\n",
      "Accuracy: 0.1518\n",
      "\n",
      "Epoch 3\n",
      "Target class: 4\n",
      "Percentage of samples predicted as target class 4: 93.21000000000001\n",
      "Accuracy: 0.1277\n",
      "\n",
      "Epoch 4\n",
      "Target class: 4\n",
      "Percentage of samples predicted as target class 4: 95.0\n",
      "Accuracy: 0.1204\n",
      "\n",
      "Epoch 5\n",
      "Target class: 4\n",
      "Percentage of samples predicted as target class 4: 96.3\n",
      "Accuracy: 0.1158\n",
      "\n",
      "Epoch 6\n",
      "Target class: 4\n",
      "Percentage of samples predicted as target class 4: 96.91\n",
      "Accuracy: 0.114\n",
      "\n",
      "Epoch 7\n",
      "Target class: 4\n",
      "Percentage of samples predicted as target class 4: 97.44\n",
      "Accuracy: 0.1107\n",
      "\n",
      "Epoch 8\n",
      "Target class: 4\n",
      "Percentage of samples predicted as target class 4: 97.55\n",
      "Accuracy: 0.109\n",
      "\n",
      "Epoch 9\n",
      "Target class: 4\n",
      "Percentage of samples predicted as target class 4: 98.08\n",
      "Accuracy: 0.1077\n",
      "\n",
      "Epoch 10\n",
      "Target class: 4\n",
      "Percentage of samples predicted as target class 4: 98.15\n",
      "Accuracy: 0.1077\n",
      "\n"
     ]
    },
    {
     "data": {
      "image/png": "[encoded data removed]",
      "text/plain": [
       "<Figure size 640x480 with 1 Axes>"
      ]
     },
     "metadata": {},
     "output_type": "display_data"
    },
    {
     "name": "stdout",
     "output_type": "stream",
     "text": [
      "Model accuracy with adversarial patch: 10.75%\n",
      "Untargeted attack success rate on test set: 89.25%\n",
      "Targeted attack success rate on test set for class 4: 87.89%\n"
     ]
    },
    {
     "data": {
      "image/png": "[encoded data removed]",
      "text/plain": [
       "<Figure size 600x400 with 1 Axes>"
      ]
     },
     "metadata": {},
     "output_type": "display_data"
    },
    {
     "name": "stdout",
     "output_type": "stream",
     "text": [
      "\n",
      "RUNNING EXPERIMENTS FOR TARGET CLASS 5\n",
      "\n",
      "Epoch 1\n",
      "Target class: 5\n",
      "Percentage of samples predicted as target class 5: 9.09\n",
      "Accuracy: 0.6182\n",
      "\n",
      "Epoch 2\n",
      "Target class: 5\n",
      "Percentage of samples predicted as target class 5: 25.540000000000003\n",
      "Accuracy: 0.4259\n",
      "\n",
      "Epoch 3\n",
      "Target class: 5\n",
      "Percentage of samples predicted as target class 5: 30.94\n",
      "Accuracy: 0.3588\n",
      "\n",
      "Epoch 4\n",
      "Target class: 5\n",
      "Percentage of samples predicted as target class 5: 33.58\n",
      "Accuracy: 0.3215\n",
      "\n",
      "Epoch 5\n",
      "Target class: 5\n",
      "Percentage of samples predicted as target class 5: 34.660000000000004\n",
      "Accuracy: 0.3057\n",
      "\n",
      "Epoch 6\n",
      "Target class: 5\n",
      "Percentage of samples predicted as target class 5: 35.85\n",
      "Accuracy: 0.2898\n",
      "\n",
      "Epoch 7\n",
      "Target class: 5\n",
      "Percentage of samples predicted as target class 5: 35.480000000000004\n",
      "Accuracy: 0.295\n",
      "\n",
      "Epoch 8\n",
      "Target class: 5\n",
      "Percentage of samples predicted as target class 5: 35.94\n",
      "Accuracy: 0.2818\n",
      "\n",
      "Epoch 9\n",
      "Target class: 5\n",
      "Percentage of samples predicted as target class 5: 36.1\n",
      "Accuracy: 0.2873\n",
      "\n",
      "Epoch 10\n",
      "Target class: 5\n",
      "Percentage of samples predicted as target class 5: 36.08\n",
      "Accuracy: 0.2789\n",
      "\n"
     ]
    },
    {
     "data": {
      "image/png": "[encoded data removed]",
      "text/plain": [
       "<Figure size 640x480 with 1 Axes>"
      ]
     },
     "metadata": {},
     "output_type": "display_data"
    },
    {
     "name": "stdout",
     "output_type": "stream",
     "text": [
      "Model accuracy with adversarial patch: 30.03%\n",
      "Untargeted attack success rate on test set: 69.97%\n",
      "Targeted attack success rate on test set for class 5: 25.81%\n",
      "Epoch 1\n",
      "Target class: 5\n",
      "Percentage of samples predicted as target class 5: 8.55\n",
      "Accuracy: 0.5894\n",
      "\n",
      "Epoch 2\n",
      "Target class: 5\n",
      "Percentage of samples predicted as target class 5: 49.35\n",
      "Accuracy: 0.2759\n",
      "\n",
      "Epoch 3\n",
      "Target class: 5\n",
      "Percentage of samples predicted as target class 5: 55.779999999999994\n",
      "Accuracy: 0.2466\n",
      "\n",
      "Epoch 4\n",
      "Target class: 5\n",
      "Percentage of samples predicted as target class 5: 57.16\n",
      "Accuracy: 0.2342\n",
      "\n",
      "Epoch 5\n",
      "Target class: 5\n",
      "Percentage of samples predicted as target class 5: 58.040000000000006\n",
      "Accuracy: 0.2228\n",
      "\n",
      "Epoch 6\n",
      "Target class: 5\n",
      "Percentage of samples predicted as target class 5: 57.67\n",
      "Accuracy: 0.218\n",
      "\n",
      "Epoch 7\n",
      "Target class: 5\n",
      "Percentage of samples predicted as target class 5: 58.220000000000006\n",
      "Accuracy: 0.2185\n",
      "\n",
      "Epoch 8\n",
      "Target class: 5\n",
      "Percentage of samples predicted as target class 5: 58.43000000000001\n",
      "Accuracy: 0.2211\n",
      "\n",
      "Epoch 9\n",
      "Target class: 5\n",
      "Percentage of samples predicted as target class 5: 58.199999999999996\n",
      "Accuracy: 0.2215\n",
      "\n",
      "Epoch 10\n",
      "Target class: 5\n",
      "Percentage of samples predicted as target class 5: 59.28\n",
      "Accuracy: 0.2194\n",
      "\n"
     ]
    },
    {
     "data": {
      "image/png": "[encoded data removed]",
      "text/plain": [
       "<Figure size 640x480 with 1 Axes>"
      ]
     },
     "metadata": {},
     "output_type": "display_data"
    },
    {
     "name": "stdout",
     "output_type": "stream",
     "text": [
      "Model accuracy with adversarial patch: 24.18%\n",
      "Untargeted attack success rate on test set: 75.82%\n",
      "Targeted attack success rate on test set for class 5: 47.20%\n",
      "Epoch 1\n",
      "Target class: 5\n",
      "Percentage of samples predicted as target class 5: 8.86\n",
      "Accuracy: 0.5891\n",
      "\n",
      "Epoch 2\n",
      "Target class: 5\n",
      "Percentage of samples predicted as target class 5: 63.470000000000006\n",
      "Accuracy: 0.2443\n",
      "\n",
      "Epoch 3\n",
      "Target class: 5\n",
      "Percentage of samples predicted as target class 5: 68.97999999999999\n",
      "Accuracy: 0.2124\n",
      "\n",
      "Epoch 4\n",
      "Target class: 5\n",
      "Percentage of samples predicted as target class 5: 71.88\n",
      "Accuracy: 0.1919\n",
      "\n",
      "Epoch 5\n",
      "Target class: 5\n",
      "Percentage of samples predicted as target class 5: 72.07000000000001\n",
      "Accuracy: 0.1923\n",
      "\n",
      "Epoch 6\n",
      "Target class: 5\n",
      "Percentage of samples predicted as target class 5: 74.03\n",
      "Accuracy: 0.1887\n",
      "\n",
      "Epoch 7\n",
      "Target class: 5\n",
      "Percentage of samples predicted as target class 5: 73.97\n",
      "Accuracy: 0.1852\n",
      "\n",
      "Epoch 8\n",
      "Target class: 5\n",
      "Percentage of samples predicted as target class 5: 75.22999999999999\n",
      "Accuracy: 0.1803\n",
      "\n",
      "Epoch 9\n",
      "Target class: 5\n",
      "Percentage of samples predicted as target class 5: 75.76\n",
      "Accuracy: 0.1807\n",
      "\n",
      "Epoch 10\n",
      "Target class: 5\n",
      "Percentage of samples predicted as target class 5: 76.53999999999999\n",
      "Accuracy: 0.1801\n",
      "\n"
     ]
    },
    {
     "data": {
      "image/png": "[encoded data removed]",
      "text/plain": [
       "<Figure size 640x480 with 1 Axes>"
      ]
     },
     "metadata": {},
     "output_type": "display_data"
    },
    {
     "name": "stdout",
     "output_type": "stream",
     "text": [
      "Model accuracy with adversarial patch: 20.18%\n",
      "Untargeted attack success rate on test set: 79.82%\n",
      "Targeted attack success rate on test set for class 5: 63.21%\n",
      "Epoch 1\n",
      "Target class: 5\n",
      "Percentage of samples predicted as target class 5: 8.5\n",
      "Accuracy: 0.3977\n",
      "\n",
      "Epoch 2\n",
      "Target class: 5\n",
      "Percentage of samples predicted as target class 5: 96.7\n",
      "Accuracy: 0.1094\n",
      "\n",
      "Epoch 3\n",
      "Target class: 5\n",
      "Percentage of samples predicted as target class 5: 97.88\n",
      "Accuracy: 0.1027\n",
      "\n",
      "Epoch 4\n",
      "Target class: 5\n",
      "Percentage of samples predicted as target class 5: 98.39\n",
      "Accuracy: 0.1008\n",
      "\n",
      "Epoch 5\n",
      "Target class: 5\n",
      "Percentage of samples predicted as target class 5: 98.59\n",
      "Accuracy: 0.1013\n",
      "\n",
      "Epoch 6\n",
      "Target class: 5\n",
      "Percentage of samples predicted as target class 5: 98.67\n",
      "Accuracy: 0.1\n",
      "\n",
      "Epoch 7\n",
      "Target class: 5\n",
      "Percentage of samples predicted as target class 5: 99.00999999999999\n",
      "Accuracy: 0.1004\n",
      "\n",
      "Epoch 8\n",
      "Target class: 5\n",
      "Percentage of samples predicted as target class 5: 98.89\n",
      "Accuracy: 0.0997\n",
      "\n",
      "Epoch 9\n",
      "Target class: 5\n",
      "Percentage of samples predicted as target class 5: 99.27\n",
      "Accuracy: 0.0985\n",
      "\n",
      "Epoch 10\n",
      "Target class: 5\n",
      "Percentage of samples predicted as target class 5: 99.11\n",
      "Accuracy: 0.0991\n",
      "\n"
     ]
    },
    {
     "data": {
      "image/png": "[encoded data removed]",
      "text/plain": [
       "<Figure size 640x480 with 1 Axes>"
      ]
     },
     "metadata": {},
     "output_type": "display_data"
    },
    {
     "name": "stdout",
     "output_type": "stream",
     "text": [
      "Model accuracy with adversarial patch: 10.56%\n",
      "Untargeted attack success rate on test set: 89.44%\n",
      "Targeted attack success rate on test set for class 5: 88.60%\n"
     ]
    },
    {
     "data": {
      "image/png": "[encoded data removed]",
      "text/plain": [
       "<Figure size 600x400 with 1 Axes>"
      ]
     },
     "metadata": {},
     "output_type": "display_data"
    },
    {
     "name": "stdout",
     "output_type": "stream",
     "text": [
      "\n",
      "RUNNING EXPERIMENTS FOR TARGET CLASS 6\n",
      "\n",
      "Epoch 1\n",
      "Target class: 6\n",
      "Percentage of samples predicted as target class 6: 9.959999999999999\n",
      "Accuracy: 0.6331\n",
      "\n",
      "Epoch 2\n",
      "Target class: 6\n",
      "Percentage of samples predicted as target class 6: 36.64\n",
      "Accuracy: 0.3016\n",
      "\n",
      "Epoch 3\n",
      "Target class: 6\n",
      "Percentage of samples predicted as target class 6: 35.56\n",
      "Accuracy: 0.2583\n",
      "\n",
      "Epoch 4\n",
      "Target class: 6\n",
      "Percentage of samples predicted as target class 6: 34.88\n",
      "Accuracy: 0.2536\n",
      "\n",
      "Epoch 5\n",
      "Target class: 6\n",
      "Percentage of samples predicted as target class 6: 35.14\n",
      "Accuracy: 0.247\n",
      "\n",
      "Epoch 6\n",
      "Target class: 6\n",
      "Percentage of samples predicted as target class 6: 33.900000000000006\n",
      "Accuracy: 0.2537\n",
      "\n",
      "Epoch 7\n",
      "Target class: 6\n",
      "Percentage of samples predicted as target class 6: 35.3\n",
      "Accuracy: 0.2487\n",
      "\n",
      "Epoch 8\n",
      "Target class: 6\n",
      "Percentage of samples predicted as target class 6: 35.199999999999996\n",
      "Accuracy: 0.2491\n",
      "\n",
      "Epoch 9\n",
      "Target class: 6\n",
      "Percentage of samples predicted as target class 6: 35.31\n",
      "Accuracy: 0.2442\n",
      "\n",
      "Epoch 10\n",
      "Target class: 6\n",
      "Percentage of samples predicted as target class 6: 35.46\n",
      "Accuracy: 0.2464\n",
      "\n"
     ]
    },
    {
     "data": {
      "image/png": "[encoded data removed]",
      "text/plain": [
       "<Figure size 640x480 with 1 Axes>"
      ]
     },
     "metadata": {},
     "output_type": "display_data"
    },
    {
     "name": "stdout",
     "output_type": "stream",
     "text": [
      "Model accuracy with adversarial patch: 25.25%\n",
      "Untargeted attack success rate on test set: 74.75%\n",
      "Targeted attack success rate on test set for class 6: 30.49%\n",
      "Epoch 1\n",
      "Target class: 6\n",
      "Percentage of samples predicted as target class 6: 9.9\n",
      "Accuracy: 0.593\n",
      "\n",
      "Epoch 2\n",
      "Target class: 6\n",
      "Percentage of samples predicted as target class 6: 45.190000000000005\n",
      "Accuracy: 0.25\n",
      "\n",
      "Epoch 3\n",
      "Target class: 6\n",
      "Percentage of samples predicted as target class 6: 45.540000000000006\n",
      "Accuracy: 0.2321\n",
      "\n",
      "Epoch 4\n",
      "Target class: 6\n",
      "Percentage of samples predicted as target class 6: 44.74\n",
      "Accuracy: 0.2303\n",
      "\n",
      "Epoch 5\n",
      "Target class: 6\n",
      "Percentage of samples predicted as target class 6: 46.32\n",
      "Accuracy: 0.2303\n",
      "\n",
      "Epoch 6\n",
      "Target class: 6\n",
      "Percentage of samples predicted as target class 6: 46.02\n",
      "Accuracy: 0.2287\n",
      "\n",
      "Epoch 7\n",
      "Target class: 6\n",
      "Percentage of samples predicted as target class 6: 46.71\n",
      "Accuracy: 0.2279\n",
      "\n",
      "Epoch 8\n",
      "Target class: 6\n",
      "Percentage of samples predicted as target class 6: 46.68\n",
      "Accuracy: 0.2253\n",
      "\n",
      "Epoch 9\n",
      "Target class: 6\n",
      "Percentage of samples predicted as target class 6: 47.96\n",
      "Accuracy: 0.2193\n",
      "\n",
      "Epoch 10\n",
      "Target class: 6\n",
      "Percentage of samples predicted as target class 6: 47.949999999999996\n",
      "Accuracy: 0.2272\n",
      "\n"
     ]
    },
    {
     "data": {
      "image/png": "[encoded data removed]",
      "text/plain": [
       "<Figure size 640x480 with 1 Axes>"
      ]
     },
     "metadata": {},
     "output_type": "display_data"
    },
    {
     "name": "stdout",
     "output_type": "stream",
     "text": [
      "Model accuracy with adversarial patch: 22.69%\n",
      "Untargeted attack success rate on test set: 77.31%\n",
      "Targeted attack success rate on test set for class 6: 40.90%\n",
      "Epoch 1\n",
      "Target class: 6\n",
      "Percentage of samples predicted as target class 6: 9.1\n",
      "Accuracy: 0.5599\n",
      "\n",
      "Epoch 2\n",
      "Target class: 6\n",
      "Percentage of samples predicted as target class 6: 57.24\n",
      "Accuracy: 0.2136\n",
      "\n",
      "Epoch 3\n",
      "Target class: 6\n",
      "Percentage of samples predicted as target class 6: 58.87\n",
      "Accuracy: 0.209\n",
      "\n",
      "Epoch 4\n",
      "Target class: 6\n",
      "Percentage of samples predicted as target class 6: 59.81999999999999\n",
      "Accuracy: 0.204\n",
      "\n",
      "Epoch 5\n",
      "Target class: 6\n",
      "Percentage of samples predicted as target class 6: 61.28\n",
      "Accuracy: 0.194\n",
      "\n",
      "Epoch 6\n",
      "Target class: 6\n",
      "Percentage of samples predicted as target class 6: 61.4\n",
      "Accuracy: 0.1952\n",
      "\n",
      "Epoch 7\n",
      "Target class: 6\n",
      "Percentage of samples predicted as target class 6: 62.08\n",
      "Accuracy: 0.1992\n",
      "\n",
      "Epoch 8\n",
      "Target class: 6\n",
      "Percentage of samples predicted as target class 6: 62.43\n",
      "Accuracy: 0.1997\n",
      "\n",
      "Epoch 9\n",
      "Target class: 6\n",
      "Percentage of samples predicted as target class 6: 64.05999999999999\n",
      "Accuracy: 0.1919\n",
      "\n",
      "Epoch 10\n",
      "Target class: 6\n",
      "Percentage of samples predicted as target class 6: 63.54\n",
      "Accuracy: 0.1949\n",
      "\n"
     ]
    },
    {
     "data": {
      "image/png": "[encoded data removed]",
      "text/plain": [
       "<Figure size 640x480 with 1 Axes>"
      ]
     },
     "metadata": {},
     "output_type": "display_data"
    },
    {
     "name": "stdout",
     "output_type": "stream",
     "text": [
      "Model accuracy with adversarial patch: 19.43%\n",
      "Untargeted attack success rate on test set: 80.57%\n",
      "Targeted attack success rate on test set for class 6: 56.65%\n",
      "Epoch 1\n",
      "Target class: 6\n",
      "Percentage of samples predicted as target class 6: 10.979999999999999\n",
      "Accuracy: 0.3638\n",
      "\n",
      "Epoch 2\n",
      "Target class: 6\n",
      "Percentage of samples predicted as target class 6: 96.08\n",
      "Accuracy: 0.1117\n",
      "\n",
      "Epoch 3\n",
      "Target class: 6\n",
      "Percentage of samples predicted as target class 6: 96.66\n",
      "Accuracy: 0.1116\n",
      "\n",
      "Epoch 4\n",
      "Target class: 6\n",
      "Percentage of samples predicted as target class 6: 97.32\n",
      "Accuracy: 0.109\n",
      "\n",
      "Epoch 5\n",
      "Target class: 6\n",
      "Percentage of samples predicted as target class 6: 97.58\n",
      "Accuracy: 0.108\n",
      "\n",
      "Epoch 6\n",
      "Target class: 6\n",
      "Percentage of samples predicted as target class 6: 98.06\n",
      "Accuracy: 0.1064\n",
      "\n",
      "Epoch 7\n",
      "Target class: 6\n",
      "Percentage of samples predicted as target class 6: 98.22999999999999\n",
      "Accuracy: 0.1063\n",
      "\n",
      "Epoch 8\n",
      "Target class: 6\n",
      "Percentage of samples predicted as target class 6: 98.39\n",
      "Accuracy: 0.1071\n",
      "\n",
      "Epoch 9\n",
      "Target class: 6\n",
      "Percentage of samples predicted as target class 6: 98.52\n",
      "Accuracy: 0.1034\n",
      "\n",
      "Epoch 10\n",
      "Target class: 6\n",
      "Percentage of samples predicted as target class 6: 98.63\n",
      "Accuracy: 0.1055\n",
      "\n"
     ]
    },
    {
     "data": {
      "image/png": "[encoded data removed]",
      "text/plain": [
       "<Figure size 640x480 with 1 Axes>"
      ]
     },
     "metadata": {},
     "output_type": "display_data"
    },
    {
     "name": "stdout",
     "output_type": "stream",
     "text": [
      "Model accuracy with adversarial patch: 10.44%\n",
      "Untargeted attack success rate on test set: 89.56%\n",
      "Targeted attack success rate on test set for class 6: 88.74%\n"
     ]
    },
    {
     "data": {
      "image/png": "[encoded data removed]",
      "text/plain": [
       "<Figure size 600x400 with 1 Axes>"
      ]
     },
     "metadata": {},
     "output_type": "display_data"
    },
    {
     "name": "stdout",
     "output_type": "stream",
     "text": [
      "\n",
      "RUNNING EXPERIMENTS FOR TARGET CLASS 7\n",
      "\n",
      "Epoch 1\n",
      "Target class: 7\n",
      "Percentage of samples predicted as target class 7: 6.01\n",
      "Accuracy: 0.5993\n",
      "\n",
      "Epoch 2\n",
      "Target class: 7\n",
      "Percentage of samples predicted as target class 7: 7.01\n",
      "Accuracy: 0.5112\n",
      "\n",
      "Epoch 3\n",
      "Target class: 7\n",
      "Percentage of samples predicted as target class 7: 6.29\n",
      "Accuracy: 0.4601\n",
      "\n",
      "Epoch 4\n",
      "Target class: 7\n",
      "Percentage of samples predicted as target class 7: 6.01\n",
      "Accuracy: 0.4459\n",
      "\n",
      "Epoch 5\n",
      "Target class: 7\n",
      "Percentage of samples predicted as target class 7: 6.32\n",
      "Accuracy: 0.4429\n",
      "\n",
      "Epoch 6\n",
      "Target class: 7\n",
      "Percentage of samples predicted as target class 7: 6.1\n",
      "Accuracy: 0.4306\n",
      "\n",
      "Epoch 7\n",
      "Target class: 7\n",
      "Percentage of samples predicted as target class 7: 6.260000000000001\n",
      "Accuracy: 0.4354\n",
      "\n",
      "Epoch 8\n",
      "Target class: 7\n",
      "Percentage of samples predicted as target class 7: 6.23\n",
      "Accuracy: 0.4331\n",
      "\n",
      "Epoch 9\n",
      "Target class: 7\n",
      "Percentage of samples predicted as target class 7: 6.370000000000001\n",
      "Accuracy: 0.4326\n",
      "\n",
      "Epoch 10\n",
      "Target class: 7\n",
      "Percentage of samples predicted as target class 7: 6.43\n",
      "Accuracy: 0.4315\n",
      "\n"
     ]
    },
    {
     "data": {
      "image/png": "[encoded data removed]",
      "text/plain": [
       "<Figure size 640x480 with 1 Axes>"
      ]
     },
     "metadata": {},
     "output_type": "display_data"
    },
    {
     "name": "stdout",
     "output_type": "stream",
     "text": [
      "Model accuracy with adversarial patch: 45.52%\n",
      "Untargeted attack success rate on test set: 54.48%\n",
      "Targeted attack success rate on test set for class 7: 1.52%\n",
      "Epoch 1\n",
      "Target class: 7\n",
      "Percentage of samples predicted as target class 7: 5.7299999999999995\n",
      "Accuracy: 0.5987\n",
      "\n",
      "Epoch 2\n",
      "Target class: 7\n",
      "Percentage of samples predicted as target class 7: 7.8\n",
      "Accuracy: 0.4568\n",
      "\n",
      "Epoch 3\n",
      "Target class: 7\n",
      "Percentage of samples predicted as target class 7: 8.33\n",
      "Accuracy: 0.4296\n",
      "\n",
      "Epoch 4\n",
      "Target class: 7\n",
      "Percentage of samples predicted as target class 7: 9.58\n",
      "Accuracy: 0.4196\n",
      "\n",
      "Epoch 5\n",
      "Target class: 7\n",
      "Percentage of samples predicted as target class 7: 10.34\n",
      "Accuracy: 0.4186\n",
      "\n",
      "Epoch 6\n",
      "Target class: 7\n",
      "Percentage of samples predicted as target class 7: 10.73\n",
      "Accuracy: 0.4094\n",
      "\n",
      "Epoch 7\n",
      "Target class: 7\n",
      "Percentage of samples predicted as target class 7: 11.1\n",
      "Accuracy: 0.4003\n",
      "\n",
      "Epoch 8\n",
      "Target class: 7\n",
      "Percentage of samples predicted as target class 7: 11.379999999999999\n",
      "Accuracy: 0.3914\n",
      "\n",
      "Epoch 9\n",
      "Target class: 7\n",
      "Percentage of samples predicted as target class 7: 11.53\n",
      "Accuracy: 0.4005\n",
      "\n",
      "Epoch 10\n",
      "Target class: 7\n",
      "Percentage of samples predicted as target class 7: 11.53\n",
      "Accuracy: 0.3833\n",
      "\n"
     ]
    },
    {
     "data": {
      "image/png": "[encoded data removed]",
      "text/plain": [
       "<Figure size 640x480 with 1 Axes>"
      ]
     },
     "metadata": {},
     "output_type": "display_data"
    },
    {
     "name": "stdout",
     "output_type": "stream",
     "text": [
      "Model accuracy with adversarial patch: 41.03%\n",
      "Untargeted attack success rate on test set: 58.97%\n",
      "Targeted attack success rate on test set for class 7: 4.90%\n",
      "Epoch 1\n",
      "Target class: 7\n",
      "Percentage of samples predicted as target class 7: 5.34\n",
      "Accuracy: 0.5521\n",
      "\n",
      "Epoch 2\n",
      "Target class: 7\n",
      "Percentage of samples predicted as target class 7: 14.31\n",
      "Accuracy: 0.4292\n",
      "\n",
      "Epoch 3\n",
      "Target class: 7\n",
      "Percentage of samples predicted as target class 7: 16.97\n",
      "Accuracy: 0.3909\n",
      "\n",
      "Epoch 4\n",
      "Target class: 7\n",
      "Percentage of samples predicted as target class 7: 18.240000000000002\n",
      "Accuracy: 0.3697\n",
      "\n",
      "Epoch 5\n",
      "Target class: 7\n",
      "Percentage of samples predicted as target class 7: 19.439999999999998\n",
      "Accuracy: 0.3581\n",
      "\n",
      "Epoch 6\n",
      "Target class: 7\n",
      "Percentage of samples predicted as target class 7: 19.75\n",
      "Accuracy: 0.3525\n",
      "\n",
      "Epoch 7\n",
      "Target class: 7\n",
      "Percentage of samples predicted as target class 7: 20.21\n",
      "Accuracy: 0.348\n",
      "\n",
      "Epoch 8\n",
      "Target class: 7\n",
      "Percentage of samples predicted as target class 7: 19.88\n",
      "Accuracy: 0.3435\n",
      "\n",
      "Epoch 9\n",
      "Target class: 7\n",
      "Percentage of samples predicted as target class 7: 20.64\n",
      "Accuracy: 0.3481\n",
      "\n",
      "Epoch 10\n",
      "Target class: 7\n",
      "Percentage of samples predicted as target class 7: 20.330000000000002\n",
      "Accuracy: 0.3456\n",
      "\n"
     ]
    },
    {
     "data": {
      "image/png": "[encoded data removed]",
      "text/plain": [
       "<Figure size 640x480 with 1 Axes>"
      ]
     },
     "metadata": {},
     "output_type": "display_data"
    },
    {
     "name": "stdout",
     "output_type": "stream",
     "text": [
      "Model accuracy with adversarial patch: 36.19%\n",
      "Untargeted attack success rate on test set: 63.81%\n",
      "Targeted attack success rate on test set for class 7: 11.60%\n",
      "Epoch 1\n",
      "Target class: 7\n",
      "Percentage of samples predicted as target class 7: 4.25\n",
      "Accuracy: 0.3853\n",
      "\n",
      "Epoch 2\n",
      "Target class: 7\n",
      "Percentage of samples predicted as target class 7: 92.96\n",
      "Accuracy: 0.1284\n",
      "\n",
      "Epoch 3\n",
      "Target class: 7\n",
      "Percentage of samples predicted as target class 7: 95.78\n",
      "Accuracy: 0.1166\n",
      "\n",
      "Epoch 4\n",
      "Target class: 7\n",
      "Percentage of samples predicted as target class 7: 97.00999999999999\n",
      "Accuracy: 0.1125\n",
      "\n",
      "Epoch 5\n",
      "Target class: 7\n",
      "Percentage of samples predicted as target class 7: 97.56\n",
      "Accuracy: 0.1112\n",
      "\n",
      "Epoch 6\n",
      "Target class: 7\n",
      "Percentage of samples predicted as target class 7: 97.72\n",
      "Accuracy: 0.1112\n",
      "\n",
      "Epoch 7\n",
      "Target class: 7\n",
      "Percentage of samples predicted as target class 7: 97.92999999999999\n",
      "Accuracy: 0.11\n",
      "\n",
      "Epoch 8\n",
      "Target class: 7\n",
      "Percentage of samples predicted as target class 7: 98.38\n",
      "Accuracy: 0.1097\n",
      "\n",
      "Epoch 9\n",
      "Target class: 7\n",
      "Percentage of samples predicted as target class 7: 98.26\n",
      "Accuracy: 0.1082\n",
      "\n",
      "Epoch 10\n",
      "Target class: 7\n",
      "Percentage of samples predicted as target class 7: 98.71\n",
      "Accuracy: 0.1064\n",
      "\n"
     ]
    },
    {
     "data": {
      "image/png": "[encoded data removed]",
      "text/plain": [
       "<Figure size 640x480 with 1 Axes>"
      ]
     },
     "metadata": {},
     "output_type": "display_data"
    },
    {
     "name": "stdout",
     "output_type": "stream",
     "text": [
      "Model accuracy with adversarial patch: 10.75%\n",
      "Untargeted attack success rate on test set: 89.25%\n",
      "Targeted attack success rate on test set for class 7: 87.91%\n"
     ]
    },
    {
     "data": {
      "image/png": "[encoded data removed]",
      "text/plain": [
       "<Figure size 600x400 with 1 Axes>"
      ]
     },
     "metadata": {},
     "output_type": "display_data"
    },
    {
     "name": "stdout",
     "output_type": "stream",
     "text": [
      "\n",
      "RUNNING EXPERIMENTS FOR TARGET CLASS 8\n",
      "\n",
      "Epoch 1\n",
      "Target class: 8\n",
      "Percentage of samples predicted as target class 8: 8.780000000000001\n",
      "Accuracy: 0.609\n",
      "\n",
      "Epoch 2\n",
      "Target class: 8\n",
      "Percentage of samples predicted as target class 8: 8.95\n",
      "Accuracy: 0.5913\n",
      "\n",
      "Epoch 3\n",
      "Target class: 8\n",
      "Percentage of samples predicted as target class 8: 7.489999999999999\n",
      "Accuracy: 0.5362\n",
      "\n",
      "Epoch 4\n",
      "Target class: 8\n",
      "Percentage of samples predicted as target class 8: 6.77\n",
      "Accuracy: 0.4925\n",
      "\n",
      "Epoch 5\n",
      "Target class: 8\n",
      "Percentage of samples predicted as target class 8: 6.47\n",
      "Accuracy: 0.4674\n",
      "\n",
      "Epoch 6\n",
      "Target class: 8\n",
      "Percentage of samples predicted as target class 8: 7.4399999999999995\n",
      "Accuracy: 0.4461\n",
      "\n",
      "Epoch 7\n",
      "Target class: 8\n",
      "Percentage of samples predicted as target class 8: 6.54\n",
      "Accuracy: 0.4109\n",
      "\n",
      "Epoch 8\n",
      "Target class: 8\n",
      "Percentage of samples predicted as target class 8: 5.949999999999999\n",
      "Accuracy: 0.3605\n",
      "\n",
      "Epoch 9\n",
      "Target class: 8\n",
      "Percentage of samples predicted as target class 8: 7.55\n",
      "Accuracy: 0.2732\n",
      "\n",
      "Epoch 10\n",
      "Target class: 8\n",
      "Percentage of samples predicted as target class 8: 18.62\n",
      "Accuracy: 0.2066\n",
      "\n"
     ]
    },
    {
     "data": {
      "image/png": "[encoded data removed]",
      "text/plain": [
       "<Figure size 640x480 with 1 Axes>"
      ]
     },
     "metadata": {},
     "output_type": "display_data"
    },
    {
     "name": "stdout",
     "output_type": "stream",
     "text": [
      "Model accuracy with adversarial patch: 21.64%\n",
      "Untargeted attack success rate on test set: 78.36%\n",
      "Targeted attack success rate on test set for class 8: 17.14%\n",
      "Epoch 1\n",
      "Target class: 8\n",
      "Percentage of samples predicted as target class 8: 8.110000000000001\n",
      "Accuracy: 0.5891\n",
      "\n",
      "Epoch 2\n",
      "Target class: 8\n",
      "Percentage of samples predicted as target class 8: 15.079999999999998\n",
      "Accuracy: 0.4267\n",
      "\n",
      "Epoch 3\n",
      "Target class: 8\n",
      "Percentage of samples predicted as target class 8: 20.45\n",
      "Accuracy: 0.3589\n",
      "\n",
      "Epoch 4\n",
      "Target class: 8\n",
      "Percentage of samples predicted as target class 8: 21.740000000000002\n",
      "Accuracy: 0.305\n",
      "\n",
      "Epoch 5\n",
      "Target class: 8\n",
      "Percentage of samples predicted as target class 8: 22.48\n",
      "Accuracy: 0.2786\n",
      "\n",
      "Epoch 6\n",
      "Target class: 8\n",
      "Percentage of samples predicted as target class 8: 23.830000000000002\n",
      "Accuracy: 0.2604\n",
      "\n",
      "Epoch 7\n",
      "Target class: 8\n",
      "Percentage of samples predicted as target class 8: 25.19\n",
      "Accuracy: 0.2389\n",
      "\n",
      "Epoch 8\n",
      "Target class: 8\n",
      "Percentage of samples predicted as target class 8: 25.91\n",
      "Accuracy: 0.2406\n",
      "\n",
      "Epoch 9\n",
      "Target class: 8\n",
      "Percentage of samples predicted as target class 8: 27.060000000000002\n",
      "Accuracy: 0.2139\n",
      "\n",
      "Epoch 10\n",
      "Target class: 8\n",
      "Percentage of samples predicted as target class 8: 28.299999999999997\n",
      "Accuracy: 0.2134\n",
      "\n"
     ]
    },
    {
     "data": {
      "image/png": "[encoded data removed]",
      "text/plain": [
       "<Figure size 640x480 with 1 Axes>"
      ]
     },
     "metadata": {},
     "output_type": "display_data"
    },
    {
     "name": "stdout",
     "output_type": "stream",
     "text": [
      "Model accuracy with adversarial patch: 22.49%\n",
      "Untargeted attack success rate on test set: 77.51%\n",
      "Targeted attack success rate on test set for class 8: 19.85%\n",
      "Epoch 1\n",
      "Target class: 8\n",
      "Percentage of samples predicted as target class 8: 7.88\n",
      "Accuracy: 0.538\n",
      "\n",
      "Epoch 2\n",
      "Target class: 8\n",
      "Percentage of samples predicted as target class 8: 37.18\n",
      "Accuracy: 0.3258\n",
      "\n",
      "Epoch 3\n",
      "Target class: 8\n",
      "Percentage of samples predicted as target class 8: 48.980000000000004\n",
      "Accuracy: 0.2695\n",
      "\n",
      "Epoch 4\n",
      "Target class: 8\n",
      "Percentage of samples predicted as target class 8: 52.54\n",
      "Accuracy: 0.242\n",
      "\n",
      "Epoch 5\n",
      "Target class: 8\n",
      "Percentage of samples predicted as target class 8: 54.76\n",
      "Accuracy: 0.2257\n",
      "\n",
      "Epoch 6\n",
      "Target class: 8\n",
      "Percentage of samples predicted as target class 8: 56.74\n",
      "Accuracy: 0.2153\n",
      "\n",
      "Epoch 7\n",
      "Target class: 8\n",
      "Percentage of samples predicted as target class 8: 58.28\n",
      "Accuracy: 0.2153\n",
      "\n",
      "Epoch 8\n",
      "Target class: 8\n",
      "Percentage of samples predicted as target class 8: 58.650000000000006\n",
      "Accuracy: 0.2\n",
      "\n",
      "Epoch 9\n",
      "Target class: 8\n",
      "Percentage of samples predicted as target class 8: 58.650000000000006\n",
      "Accuracy: 0.2026\n",
      "\n",
      "Epoch 10\n",
      "Target class: 8\n",
      "Percentage of samples predicted as target class 8: 58.879999999999995\n",
      "Accuracy: 0.199\n",
      "\n"
     ]
    },
    {
     "data": {
      "image/png": "[encoded data removed]",
      "text/plain": [
       "<Figure size 640x480 with 1 Axes>"
      ]
     },
     "metadata": {},
     "output_type": "display_data"
    },
    {
     "name": "stdout",
     "output_type": "stream",
     "text": [
      "Model accuracy with adversarial patch: 21.94%\n",
      "Untargeted attack success rate on test set: 78.06%\n",
      "Targeted attack success rate on test set for class 8: 48.50%\n",
      "Epoch 1\n",
      "Target class: 8\n",
      "Percentage of samples predicted as target class 8: 6.5600000000000005\n",
      "Accuracy: 0.3459\n",
      "\n",
      "Epoch 2\n",
      "Target class: 8\n",
      "Percentage of samples predicted as target class 8: 87.63\n",
      "Accuracy: 0.127\n",
      "\n",
      "Epoch 3\n",
      "Target class: 8\n",
      "Percentage of samples predicted as target class 8: 92.47\n",
      "Accuracy: 0.1118\n",
      "\n",
      "Epoch 4\n",
      "Target class: 8\n",
      "Percentage of samples predicted as target class 8: 94.39\n",
      "Accuracy: 0.1083\n",
      "\n",
      "Epoch 5\n",
      "Target class: 8\n",
      "Percentage of samples predicted as target class 8: 95.06\n",
      "Accuracy: 0.1084\n",
      "\n",
      "Epoch 6\n",
      "Target class: 8\n",
      "Percentage of samples predicted as target class 8: 96.24000000000001\n",
      "Accuracy: 0.1051\n",
      "\n",
      "Epoch 7\n",
      "Target class: 8\n",
      "Percentage of samples predicted as target class 8: 96.74000000000001\n",
      "Accuracy: 0.1037\n",
      "\n",
      "Epoch 8\n",
      "Target class: 8\n",
      "Percentage of samples predicted as target class 8: 97.24000000000001\n",
      "Accuracy: 0.1026\n",
      "\n",
      "Epoch 9\n",
      "Target class: 8\n",
      "Percentage of samples predicted as target class 8: 97.48\n",
      "Accuracy: 0.102\n",
      "\n",
      "Epoch 10\n",
      "Target class: 8\n",
      "Percentage of samples predicted as target class 8: 97.56\n",
      "Accuracy: 0.1034\n",
      "\n"
     ]
    },
    {
     "data": {
      "image/png": "[encoded data removed]",
      "text/plain": [
       "<Figure size 640x480 with 1 Axes>"
      ]
     },
     "metadata": {},
     "output_type": "display_data"
    },
    {
     "name": "stdout",
     "output_type": "stream",
     "text": [
      "Model accuracy with adversarial patch: 10.51%\n",
      "Untargeted attack success rate on test set: 89.49%\n",
      "Targeted attack success rate on test set for class 8: 86.86%\n"
     ]
    },
    {
     "data": {
      "image/png": "[encoded data removed]",
      "text/plain": [
       "<Figure size 600x400 with 1 Axes>"
      ]
     },
     "metadata": {},
     "output_type": "display_data"
    },
    {
     "name": "stdout",
     "output_type": "stream",
     "text": [
      "\n",
      "RUNNING EXPERIMENTS FOR TARGET CLASS 9\n",
      "\n",
      "Epoch 1\n",
      "Target class: 9\n",
      "Percentage of samples predicted as target class 9: 9.790000000000001\n",
      "Accuracy: 0.5982\n",
      "\n",
      "Epoch 2\n",
      "Target class: 9\n",
      "Percentage of samples predicted as target class 9: 17.740000000000002\n",
      "Accuracy: 0.4182\n",
      "\n",
      "Epoch 3\n",
      "Target class: 9\n",
      "Percentage of samples predicted as target class 9: 16.96\n",
      "Accuracy: 0.357\n",
      "\n",
      "Epoch 4\n",
      "Target class: 9\n",
      "Percentage of samples predicted as target class 9: 16.93\n",
      "Accuracy: 0.3302\n",
      "\n",
      "Epoch 5\n",
      "Target class: 9\n",
      "Percentage of samples predicted as target class 9: 16.939999999999998\n",
      "Accuracy: 0.3072\n",
      "\n",
      "Epoch 6\n",
      "Target class: 9\n",
      "Percentage of samples predicted as target class 9: 17.95\n",
      "Accuracy: 0.2858\n",
      "\n",
      "Epoch 7\n",
      "Target class: 9\n",
      "Percentage of samples predicted as target class 9: 17.71\n",
      "Accuracy: 0.2598\n",
      "\n",
      "Epoch 8\n",
      "Target class: 9\n",
      "Percentage of samples predicted as target class 9: 16.7\n",
      "Accuracy: 0.238\n",
      "\n",
      "Epoch 9\n",
      "Target class: 9\n",
      "Percentage of samples predicted as target class 9: 16.28\n",
      "Accuracy: 0.2353\n",
      "\n",
      "Epoch 10\n",
      "Target class: 9\n",
      "Percentage of samples predicted as target class 9: 15.8\n",
      "Accuracy: 0.227\n",
      "\n"
     ]
    },
    {
     "data": {
      "image/png": "[encoded data removed]",
      "text/plain": [
       "<Figure size 640x480 with 1 Axes>"
      ]
     },
     "metadata": {},
     "output_type": "display_data"
    },
    {
     "name": "stdout",
     "output_type": "stream",
     "text": [
      "Model accuracy with adversarial patch: 24.88%\n",
      "Untargeted attack success rate on test set: 75.12%\n",
      "Targeted attack success rate on test set for class 9: 10.46%\n",
      "Epoch 1\n",
      "Target class: 9\n",
      "Percentage of samples predicted as target class 9: 8.690000000000001\n",
      "Accuracy: 0.5908\n",
      "\n",
      "Epoch 2\n",
      "Target class: 9\n",
      "Percentage of samples predicted as target class 9: 33.83\n",
      "Accuracy: 0.3333\n",
      "\n",
      "Epoch 3\n",
      "Target class: 9\n",
      "Percentage of samples predicted as target class 9: 38.629999999999995\n",
      "Accuracy: 0.2489\n",
      "\n",
      "Epoch 4\n",
      "Target class: 9\n",
      "Percentage of samples predicted as target class 9: 38.07\n",
      "Accuracy: 0.2314\n",
      "\n",
      "Epoch 5\n",
      "Target class: 9\n",
      "Percentage of samples predicted as target class 9: 37.35\n",
      "Accuracy: 0.2192\n",
      "\n",
      "Epoch 6\n",
      "Target class: 9\n",
      "Percentage of samples predicted as target class 9: 37.03\n",
      "Accuracy: 0.207\n",
      "\n",
      "Epoch 7\n",
      "Target class: 9\n",
      "Percentage of samples predicted as target class 9: 36.88\n",
      "Accuracy: 0.1986\n",
      "\n",
      "Epoch 8\n",
      "Target class: 9\n",
      "Percentage of samples predicted as target class 9: 36.44\n",
      "Accuracy: 0.2037\n",
      "\n",
      "Epoch 9\n",
      "Target class: 9\n",
      "Percentage of samples predicted as target class 9: 35.64\n",
      "Accuracy: 0.2045\n",
      "\n",
      "Epoch 10\n",
      "Target class: 9\n",
      "Percentage of samples predicted as target class 9: 37.21\n",
      "Accuracy: 0.1919\n",
      "\n"
     ]
    },
    {
     "data": {
      "image/png": "[encoded data removed]",
      "text/plain": [
       "<Figure size 640x480 with 1 Axes>"
      ]
     },
     "metadata": {},
     "output_type": "display_data"
    },
    {
     "name": "stdout",
     "output_type": "stream",
     "text": [
      "Model accuracy with adversarial patch: 21.09%\n",
      "Untargeted attack success rate on test set: 78.91%\n",
      "Targeted attack success rate on test set for class 9: 28.08%\n",
      "Epoch 1\n",
      "Target class: 9\n",
      "Percentage of samples predicted as target class 9: 10.11\n",
      "Accuracy: 0.5717\n",
      "\n",
      "Epoch 2\n",
      "Target class: 9\n",
      "Percentage of samples predicted as target class 9: 66.81\n",
      "Accuracy: 0.2423\n",
      "\n",
      "Epoch 3\n",
      "Target class: 9\n",
      "Percentage of samples predicted as target class 9: 76.0\n",
      "Accuracy: 0.1945\n",
      "\n",
      "Epoch 4\n",
      "Target class: 9\n",
      "Percentage of samples predicted as target class 9: 81.15\n",
      "Accuracy: 0.1707\n",
      "\n",
      "Epoch 5\n",
      "Target class: 9\n",
      "Percentage of samples predicted as target class 9: 83.27\n",
      "Accuracy: 0.1577\n",
      "\n",
      "Epoch 6\n",
      "Target class: 9\n",
      "Percentage of samples predicted as target class 9: 84.59\n",
      "Accuracy: 0.1507\n",
      "\n",
      "Epoch 7\n",
      "Target class: 9\n",
      "Percentage of samples predicted as target class 9: 85.83\n",
      "Accuracy: 0.1476\n",
      "\n",
      "Epoch 8\n",
      "Target class: 9\n",
      "Percentage of samples predicted as target class 9: 86.33\n",
      "Accuracy: 0.1448\n",
      "\n",
      "Epoch 9\n",
      "Target class: 9\n",
      "Percentage of samples predicted as target class 9: 86.4\n",
      "Accuracy: 0.1433\n",
      "\n",
      "Epoch 10\n",
      "Target class: 9\n",
      "Percentage of samples predicted as target class 9: 86.83999999999999\n",
      "Accuracy: 0.1422\n",
      "\n"
     ]
    },
    {
     "data": {
      "image/png": "[encoded data removed]",
      "text/plain": [
       "<Figure size 640x480 with 1 Axes>"
      ]
     },
     "metadata": {},
     "output_type": "display_data"
    },
    {
     "name": "stdout",
     "output_type": "stream",
     "text": [
      "Model accuracy with adversarial patch: 15.39%\n",
      "Untargeted attack success rate on test set: 84.61%\n",
      "Targeted attack success rate on test set for class 9: 75.06%\n",
      "Epoch 1\n",
      "Target class: 9\n",
      "Percentage of samples predicted as target class 9: 9.89\n",
      "Accuracy: 0.3628\n",
      "\n",
      "Epoch 2\n",
      "Target class: 9\n",
      "Percentage of samples predicted as target class 9: 98.41\n",
      "Accuracy: 0.1073\n",
      "\n",
      "Epoch 3\n",
      "Target class: 9\n",
      "Percentage of samples predicted as target class 9: 99.19\n",
      "Accuracy: 0.1041\n",
      "\n",
      "Epoch 4\n",
      "Target class: 9\n",
      "Percentage of samples predicted as target class 9: 99.48\n",
      "Accuracy: 0.1031\n",
      "\n",
      "Epoch 5\n",
      "Target class: 9\n",
      "Percentage of samples predicted as target class 9: 99.49\n",
      "Accuracy: 0.1033\n",
      "\n",
      "Epoch 6\n",
      "Target class: 9\n",
      "Percentage of samples predicted as target class 9: 99.53999999999999\n",
      "Accuracy: 0.1019\n",
      "\n",
      "Epoch 7\n",
      "Target class: 9\n",
      "Percentage of samples predicted as target class 9: 99.69\n",
      "Accuracy: 0.1019\n",
      "\n",
      "Epoch 8\n",
      "Target class: 9\n",
      "Percentage of samples predicted as target class 9: 99.7\n",
      "Accuracy: 0.1017\n",
      "\n",
      "Epoch 9\n",
      "Target class: 9\n",
      "Percentage of samples predicted as target class 9: 99.64\n",
      "Accuracy: 0.1017\n",
      "\n",
      "Epoch 10\n",
      "Target class: 9\n",
      "Percentage of samples predicted as target class 9: 99.74\n",
      "Accuracy: 0.1014\n",
      "\n"
     ]
    },
    {
     "data": {
      "image/png": "[encoded data removed]",
      "text/plain": [
       "<Figure size 640x480 with 1 Axes>"
      ]
     },
     "metadata": {},
     "output_type": "display_data"
    },
    {
     "name": "stdout",
     "output_type": "stream",
     "text": [
      "Model accuracy with adversarial patch: 10.44%\n",
      "Untargeted attack success rate on test set: 89.56%\n",
      "Targeted attack success rate on test set for class 9: 89.27%\n"
     ]
    },
    {
     "data": {
      "image/png": "[encoded data removed]",
      "text/plain": [
       "<Figure size 600x400 with 1 Axes>"
      ]
     },
     "metadata": {},
     "output_type": "display_data"
    }
   ],
   "source": [
    "for target_class in range(10):\n",
    "  plot_targeted_asr_vs_patch_size(resnet18, target_class)"
   ]
  },
  {
   "cell_type": "markdown",
   "id": "aaad9912-b17e-4dcb-ab2e-f3ce64c117be",
   "metadata": {
    "id": "aaad9912-b17e-4dcb-ab2e-f3ce64c117be"
   },
   "source": [
    "## Experiment 4: Transferring patches to other models"
   ]
  },
  {
   "cell_type": "code",
   "execution_count": 21,
   "id": "e2acfab8-fbaa-40ce-9d8d-0c57d3c223d2",
   "metadata": {
    "id": "e2acfab8-fbaa-40ce-9d8d-0c57d3c223d2",
    "scrolled": true
   },
   "outputs": [
    {
     "name": "stdout",
     "output_type": "stream",
     "text": [
      "Epoch 1: Training accuracy = 0.510425\n",
      "Validation accuracy: 0.6711\n",
      "Saved new best model with accuracy: 0.6711\n",
      "Epoch 2: Training accuracy = 0.529675\n",
      "Validation accuracy: 0.7079\n",
      "Saved new best model with accuracy: 0.7079\n",
      "Epoch 3: Training accuracy = 0.687575\n",
      "Validation accuracy: 0.6877\n",
      "Epoch 4: Training accuracy = 0.737075\n",
      "Validation accuracy: 0.7099\n",
      "Saved new best model with accuracy: 0.7099\n",
      "Epoch 5: Training accuracy = 0.765425\n",
      "Validation accuracy: 0.7542\n",
      "Saved new best model with accuracy: 0.7542\n",
      "Epoch 6: Training accuracy = 0.78125\n",
      "Validation accuracy: 0.7604\n",
      "Saved new best model with accuracy: 0.7604\n",
      "Epoch 7: Training accuracy = 0.79515\n",
      "Validation accuracy: 0.7685\n",
      "Saved new best model with accuracy: 0.7685\n",
      "Epoch 8: Training accuracy = 0.807\n",
      "Validation accuracy: 0.7741\n",
      "Saved new best model with accuracy: 0.7741\n",
      "Epoch 9: Training accuracy = 0.8189\n",
      "Validation accuracy: 0.7839\n",
      "Saved new best model with accuracy: 0.7839\n",
      "Epoch 10: Training accuracy = 0.826925\n",
      "Validation accuracy: 0.8056\n",
      "Saved new best model with accuracy: 0.8056\n",
      "Epoch 11: Training accuracy = 0.8329\n",
      "Validation accuracy: 0.8252\n",
      "Saved new best model with accuracy: 0.8252\n",
      "Epoch 12: Training accuracy = 0.84115\n",
      "Validation accuracy: 0.8015\n",
      "Epoch 13: Training accuracy = 0.845\n",
      "Validation accuracy: 0.7884\n",
      "Epoch 14: Training accuracy = 0.850875\n",
      "Validation accuracy: 0.8365\n",
      "Saved new best model with accuracy: 0.8365\n",
      "Epoch 15: Training accuracy = 0.856075\n",
      "Validation accuracy: 0.8303\n",
      "Epoch 16: Training accuracy = 0.861575\n",
      "Validation accuracy: 0.8181\n",
      "Epoch 17: Training accuracy = 0.868675\n",
      "Validation accuracy: 0.8161\n",
      "Epoch 18: Training accuracy = 0.8711\n",
      "Validation accuracy: 0.8099\n",
      "Epoch 19: Training accuracy = 0.873225\n",
      "Validation accuracy: 0.8269\n",
      "Epoch 20: Training accuracy = 0.877575\n",
      "Validation accuracy: 0.8345\n",
      "Epoch 21: Training accuracy = 0.88245\n",
      "Validation accuracy: 0.8366\n",
      "Saved new best model with accuracy: 0.8366\n",
      "Epoch 22: Training accuracy = 0.88375\n",
      "Validation accuracy: 0.8383\n",
      "Saved new best model with accuracy: 0.8383\n",
      "Epoch 23: Training accuracy = 0.890325\n",
      "Validation accuracy: 0.8482\n",
      "Saved new best model with accuracy: 0.8482\n",
      "Epoch 24: Training accuracy = 0.887175\n",
      "Validation accuracy: 0.8471\n",
      "Epoch 25: Training accuracy = 0.893725\n",
      "Validation accuracy: 0.836\n",
      "Epoch 26: Training accuracy = 0.896825\n",
      "Validation accuracy: 0.8421\n",
      "Epoch 27: Training accuracy = 0.897875\n",
      "Validation accuracy: 0.8443\n",
      "Epoch 28: Training accuracy = 0.89605\n",
      "Validation accuracy: 0.8514\n",
      "Saved new best model with accuracy: 0.8514\n",
      "Epoch 29: Training accuracy = 0.902125\n",
      "Validation accuracy: 0.8403\n",
      "Epoch 30: Training accuracy = 0.905125\n",
      "Validation accuracy: 0.851\n",
      "Model accuracy on clean test set: 85.86%\n",
      "\n",
      "------------------------------------------------------------------------------------\n",
      "TESTING PATCH TRANSFER FROM RESNET18 TO RESNET50\n",
      "Model accuracy with adversarial patch: 47.29%\n",
      "Untargeted attack success rate on test set: 52.71%\n",
      "Model accuracy with adversarial patch: 45.62%\n",
      "Untargeted attack success rate on test set: 54.38%\n",
      "Targeted attack success rate on test set for class 5: 29.18%\n"
     ]
    },
    {
     "data": {
      "text/plain": [
       "(0.4562, 0.5438, 0.2918)"
      ]
     },
     "execution_count": 21,
     "metadata": {},
     "output_type": "execute_result"
    }
   ],
   "source": [
    "# Load pre-trained model\n",
    "resnet50 = models.resnet50(weights=\"DEFAULT\")\n",
    "\n",
    "# ResNet is trained on ImageNet, which has 1000 classes\n",
    "# So we need to modify the output layer for CIFAR-10, which has 10 classes\n",
    "resnet50.fc = nn.Linear(resnet50.fc.in_features, 10)\n",
    "\n",
    "# Finetune the model\n",
    "fine_tune_for_cifar10(model=resnet50, num_epochs=30, model_path=\"resnet50.pth\")\n",
    "\n",
    "# Load best model checkpoint\n",
    "resnet50 = load_model(resnet50, \"resnet50.pth\", device=device)\n",
    "\n",
    "# Test model performance on clean test dataset\n",
    "test(model=resnet50, patch=None, target_class=None)\n",
    "\n",
    "print(\"\\n------------------------------------------------------------------------------------\\nTESTING PATCH TRANSFER FROM RESNET18 TO RESNET50\")\n",
    "\n",
    "# Untargeted Attack\n",
    "test(model=resnet50, patch=patch_untargeted_size8, target_class=None)\n",
    "\n",
    "# Targeted Attack\n",
    "test(model=resnet50, patch=patch_targeted_size8, target_class=5)"
   ]
  },
  {
   "cell_type": "markdown",
   "id": "a64005c4-e6c2-435a-928e-2e0d96038cc0",
   "metadata": {
    "id": "a64005c4-e6c2-435a-928e-2e0d96038cc0"
   },
   "source": [
    "### Test untarget & target attack on VGG19"
   ]
  },
  {
   "cell_type": "code",
   "execution_count": 23,
   "id": "c80466fd-f3f7-4fb7-8d44-c9544dd0346b",
   "metadata": {
    "id": "c80466fd-f3f7-4fb7-8d44-c9544dd0346b",
    "scrolled": true
   },
   "outputs": [
    {
     "name": "stdout",
     "output_type": "stream",
     "text": [
      "Model accuracy on clean test set: 88.29%\n",
      "\n",
      "------------------------------------------------------------------------------------\n",
      "TESTING PATCH TRANSFER FROM RESNET18 TO VGG19\n",
      "Model accuracy with adversarial patch: 31.95%\n",
      "Untargeted attack success rate on test set: 68.05%\n",
      "Model accuracy with adversarial patch: 44.69%\n",
      "Untargeted attack success rate on test set: 55.31%\n",
      "Targeted attack success rate on test set for class 5: 35.47%\n"
     ]
    },
    {
     "data": {
      "text/plain": [
       "(0.4469, 0.5531, 0.3547)"
      ]
     },
     "execution_count": 23,
     "metadata": {},
     "output_type": "execute_result"
    }
   ],
   "source": [
    "# Load pre-trained model\n",
    "vgg19 = models.vgg19(weights=\"DEFAULT\")\n",
    "\n",
    "# Get the number of input features to the classifier\n",
    "num_features = vgg19.classifier[-1].in_features\n",
    "\n",
    "# Replace the last layer (classifier) for CIFAR-10, which has 10 classes\n",
    "vgg19.classifier[-1] = nn.Linear(num_features, 10)\n",
    "\n",
    "# Finetune the model\n",
    "fine_tune_for_cifar10(model=vgg19, num_epochs=30, model_path=\"vgg19.pth\")\n",
    "\n",
    "# Load best model checkpoint\n",
    "vgg19 = load_model(vgg19, \"vgg19.pth\")\n",
    "\n",
    "# Test model performance on clean test dataset\n",
    "test(model=vgg19, patch=None, target_class=None)\n",
    "\n",
    "print(\"\\n------------------------------------------------------------------------------------\\nTESTING PATCH TRANSFER FROM RESNET18 TO VGG19\")\n",
    "\n",
    "# Untargeted Attack\n",
    "test(model=vgg19, patch=patch_untargeted_size8, target_class=None)\n",
    "\n",
    "# Targeted Attack\n",
    "test(model=vgg19, patch=patch_targeted_size8, target_class=5)"
   ]
  },
  {
   "cell_type": "markdown",
   "id": "4d7d9869-859c-41f6-81ec-68354ee9f502",
   "metadata": {
    "id": "4d7d9869-859c-41f6-81ec-68354ee9f502"
   },
   "source": [
    "### Test untarget & target attack on DenseNet121"
   ]
  },
  {
   "cell_type": "code",
   "execution_count": 25,
   "id": "864dc4b4-9a41-4aea-8fea-67c829b7192f",
   "metadata": {
    "id": "864dc4b4-9a41-4aea-8fea-67c829b7192f",
    "scrolled": true
   },
   "outputs": [
    {
     "name": "stdout",
     "output_type": "stream",
     "text": [
      "Epoch 1: Training accuracy = 0.2156\n",
      "Validation accuracy: 0.2913\n",
      "Saved new best model with accuracy: 0.2913\n",
      "Epoch 2: Training accuracy = 0.32075\n",
      "Validation accuracy: 0.3634\n",
      "Saved new best model with accuracy: 0.3634\n",
      "Epoch 3: Training accuracy = 0.383625\n",
      "Validation accuracy: 0.4153\n",
      "Saved new best model with accuracy: 0.4153\n",
      "Epoch 4: Training accuracy = 0.421275\n",
      "Validation accuracy: 0.4499\n",
      "Saved new best model with accuracy: 0.4499\n",
      "Epoch 5: Training accuracy = 0.462125\n",
      "Validation accuracy: 0.4843\n",
      "Saved new best model with accuracy: 0.4843\n",
      "Epoch 6: Training accuracy = 0.4928\n",
      "Validation accuracy: 0.5098\n",
      "Saved new best model with accuracy: 0.5098\n",
      "Epoch 7: Training accuracy = 0.5114\n",
      "Validation accuracy: 0.5349\n",
      "Saved new best model with accuracy: 0.5349\n",
      "Epoch 8: Training accuracy = 0.530475\n",
      "Validation accuracy: 0.5543\n",
      "Saved new best model with accuracy: 0.5543\n",
      "Epoch 9: Training accuracy = 0.55275\n",
      "Validation accuracy: 0.5652\n",
      "Saved new best model with accuracy: 0.5652\n",
      "Epoch 10: Training accuracy = 0.564275\n",
      "Validation accuracy: 0.566\n",
      "Saved new best model with accuracy: 0.5660\n",
      "Epoch 11: Training accuracy = 0.57785\n",
      "Validation accuracy: 0.5811\n",
      "Saved new best model with accuracy: 0.5811\n",
      "Epoch 12: Training accuracy = 0.590325\n",
      "Validation accuracy: 0.5874\n",
      "Saved new best model with accuracy: 0.5874\n",
      "Epoch 13: Training accuracy = 0.60565\n",
      "Validation accuracy: 0.6067\n",
      "Saved new best model with accuracy: 0.6067\n",
      "Epoch 14: Training accuracy = 0.613575\n",
      "Validation accuracy: 0.6269\n",
      "Saved new best model with accuracy: 0.6269\n",
      "Epoch 15: Training accuracy = 0.62485\n",
      "Validation accuracy: 0.6208\n",
      "Epoch 16: Training accuracy = 0.631525\n",
      "Validation accuracy: 0.6234\n",
      "Epoch 17: Training accuracy = 0.64205\n",
      "Validation accuracy: 0.6381\n",
      "Saved new best model with accuracy: 0.6381\n",
      "Epoch 18: Training accuracy = 0.648075\n",
      "Validation accuracy: 0.6274\n",
      "Epoch 19: Training accuracy = 0.653475\n",
      "Validation accuracy: 0.6636\n",
      "Saved new best model with accuracy: 0.6636\n",
      "Epoch 20: Training accuracy = 0.659525\n",
      "Validation accuracy: 0.6429\n",
      "Epoch 21: Training accuracy = 0.664775\n",
      "Validation accuracy: 0.6468\n",
      "Epoch 22: Training accuracy = 0.671875\n",
      "Validation accuracy: 0.6705\n",
      "Saved new best model with accuracy: 0.6705\n",
      "Epoch 23: Training accuracy = 0.677275\n",
      "Validation accuracy: 0.6796\n",
      "Saved new best model with accuracy: 0.6796\n",
      "Epoch 24: Training accuracy = 0.6853\n",
      "Validation accuracy: 0.6731\n",
      "Epoch 25: Training accuracy = 0.687225\n",
      "Validation accuracy: 0.6809\n",
      "Saved new best model with accuracy: 0.6809\n",
      "Epoch 26: Training accuracy = 0.69185\n",
      "Validation accuracy: 0.6766\n",
      "Epoch 27: Training accuracy = 0.69705\n",
      "Validation accuracy: 0.692\n",
      "Saved new best model with accuracy: 0.6920\n",
      "Epoch 28: Training accuracy = 0.70135\n",
      "Validation accuracy: 0.6775\n",
      "Epoch 29: Training accuracy = 0.703525\n",
      "Validation accuracy: 0.6782\n",
      "Epoch 30: Training accuracy = 0.7106\n",
      "Validation accuracy: 0.6995\n",
      "Saved new best model with accuracy: 0.6995\n",
      "Model accuracy on clean test set: 69.56%\n",
      "\n",
      "------------------------------------------------------------------------------------\n",
      "TESTING PATCH TRANSFER FROM RESNET18 TO DENSENET121\n",
      "Model accuracy with adversarial patch: 32.28%\n",
      "Untargeted attack success rate on test set: 67.72%\n",
      "Model accuracy with adversarial patch: 27.45%\n",
      "Untargeted attack success rate on test set: 72.55%\n",
      "Targeted attack success rate on test set for class 5: 19.15%\n"
     ]
    },
    {
     "data": {
      "text/plain": [
       "(0.2745, 0.7255, 0.1915)"
      ]
     },
     "execution_count": 25,
     "metadata": {},
     "output_type": "execute_result"
    }
   ],
   "source": [
    "# Load pre-trained model\n",
    "densenet121 = models.densenet121(weights=\"DEFAULT\")\n",
    "\n",
    "num_features = densenet121.classifier.in_features  # Get the number of input features\n",
    "densenet121.classifier = nn.Linear(num_features, 10)  # Replace the classifier for CIFAR-10\n",
    "\n",
    "# Finetune the model\n",
    "fine_tune_for_cifar10(model=densenet121, num_epochs=30, model_path=\"densenet121.pth\")\n",
    "# Load best model checkpoint\n",
    "densenet121 = load_model(densenet121, \"densenet121.pth\")\n",
    "# Test model performance on clean test dataset\n",
    "test(model=densenet121, patch=None, target_class=None)\n",
    "\n",
    "print(\"\\n------------------------------------------------------------------------------------\\nTESTING PATCH TRANSFER FROM RESNET18 TO DENSENET121\")\n",
    "\n",
    "# Untargeted Attack\n",
    "test(model=densenet121, patch=patch_untargeted_size8, target_class=None)\n",
    "# Targeted Attack\n",
    "test(model=densenet121, patch=patch_targeted_size8, target_class=5)"
   ]
  },
  {
   "cell_type": "code",
   "execution_count": 27,
   "id": "8b3068d4-fd83-4177-b9e0-56666519c779",
   "metadata": {
    "id": "8b3068d4-fd83-4177-b9e0-56666519c779",
    "outputId": "56a4eaa2-de12-47d9-f7e1-b98de203b83d"
   },
   "outputs": [
    {
     "name": "stdout",
     "output_type": "stream",
     "text": [
      "+-------------+------------------+----------------+\n",
      "| Model       |   Untargeted ASR |   Targeted ASR |\n",
      "+=============+==================+================+\n",
      "| ResNet50    |           0.5271 |         0.2918 |\n",
      "+-------------+------------------+----------------+\n",
      "| DenseNet121 |           0.6772 |         0.1915 |\n",
      "+-------------+------------------+----------------+\n",
      "| VGG19       |           0.6805 |         0.3547 |\n",
      "+-------------+------------------+----------------+\n"
     ]
    }
   ],
   "source": [
    "from tabulate import tabulate\n",
    "\n",
    "# Define the table data\n",
    "table_data = [\n",
    "    [\"Model\", \"Untargeted ASR\", \"Targeted ASR\"],\n",
    "    [\"ResNet50\", 0.5271, 0.2918],\n",
    "    [\"DenseNet121\", 0.6772, 0.1915],\n",
    "    [\"VGG19\", 0.6805, 0.3547]\n",
    "\n",
    "]\n",
    "\n",
    "# Print the table\n",
    "print(tabulate(table_data, headers=\"firstrow\", tablefmt=\"grid\"))\n"
   ]
  },
  {
   "cell_type": "markdown",
   "id": "dd7485f6",
   "metadata": {
    "id": "dd7485f6"
   },
   "source": [
    "## Experiment 5: Creating patches that are robust to more transformations"
   ]
  },
  {
   "cell_type": "code",
   "execution_count": 28,
   "id": "eb8452f4",
   "metadata": {
    "id": "eb8452f4"
   },
   "outputs": [],
   "source": [
    "# Apply patch to a batch of images with additional transformations (rotation, horizontal flip, vertical flip, color inversion)\n",
    "def apply_extension(patch, batch_of_images):\n",
    "    num_images = batch_of_images.shape[0]\n",
    "    patch_size = patch.shape[1]\n",
    "\n",
    "    # Iterate through each image in the batch\n",
    "    for i in range(num_images):\n",
    "        # Rotate the patch by a random number of degrees\n",
    "        degree = random.uniform(0, 360)\n",
    "        patch_rotated = TF.rotate(patch, angle=degree)\n",
    "\n",
    "        # Apply horizontal flip with 50% probability\n",
    "        if random.random() > 0.5:\n",
    "            patch_rotated = TF.hflip(patch_rotated)\n",
    "\n",
    "        # Apply vertical flip with 50% probability\n",
    "        if random.random() > 0.5:\n",
    "            patch_rotated = TF.vflip(patch_rotated)\n",
    "\n",
    "        # Apply color inversion with 50% probability\n",
    "        if random.random() > 0.5:\n",
    "            patch_rotated = TF.invert(patch_rotated)\n",
    "\n",
    "        # Randomly choose an (x, y) coordinate on the 32x32 CIFAR-10 image\n",
    "        # This coordinate will be where the top left corner of the rotated patch goes\n",
    "        top_left_x = random.randint(0, 31 - patch_size)\n",
    "        top_left_y = random.randint(0, 31 - patch_size)\n",
    "\n",
    "        # Apply the randomly transformed patch at the random location\n",
    "        batch_of_images[i, :, top_left_x:top_left_x+patch_size, top_left_y:top_left_y+patch_size] = patch_rotated\n",
    "\n",
    "    return batch_of_images\n"
   ]
  },
  {
   "cell_type": "code",
   "execution_count": 34,
   "id": "7373a6df",
   "metadata": {
    "id": "7373a6df"
   },
   "outputs": [
    {
     "name": "stdout",
     "output_type": "stream",
     "text": [
      "Model accuracy on clean test set: 82.47%\n"
     ]
    },
    {
     "data": {
      "text/plain": [
       "(0.8247, 0.1753)"
      ]
     },
     "execution_count": 34,
     "metadata": {},
     "output_type": "execute_result"
    }
   ],
   "source": [
    "# # Load pre-trained model\n",
    "# resnet18ex = models.resnet18(weights=\"DEFAULT\")\n",
    "\n",
    "# # ResNet is trained on ImageNet, which has 1000 classes\n",
    "# # So we need to modify the output layer for CIFAR-10, which has 10 classes\n",
    "# resnet18ex.fc = nn.Linear(resnet18ex.fc.in_features, 10)\n",
    "\n",
    "# # Finetune the model\n",
    "# fine_tune_for_cifar10(model=resnet18ex, num_epochs=30, model_path=\"resnet18ex.pth\")\n",
    "# # Load best model checkpoint\n",
    "# resnet18ex = load_model(resnet18ex, \"resnet18ex.pth\", device=device)\n",
    "# # Test model performance on clean test dataset\n",
    "test(model=resnet18, patch=None, target_class=None)"
   ]
  },
  {
   "cell_type": "code",
   "execution_count": 35,
   "id": "aa653734",
   "metadata": {
    "id": "aa653734",
    "scrolled": true
   },
   "outputs": [
    {
     "name": "stdout",
     "output_type": "stream",
     "text": [
      "Epoch 1\n",
      "Target class: None\n",
      "Accuracy: 0.5794\n",
      "\n",
      "Epoch 2\n",
      "Target class: None\n",
      "Accuracy: 0.2226\n",
      "\n",
      "Epoch 3\n",
      "Target class: None\n",
      "Accuracy: 0.1675\n",
      "\n",
      "Epoch 4\n",
      "Target class: None\n",
      "Accuracy: 0.1632\n",
      "\n",
      "Epoch 5\n",
      "Target class: None\n",
      "Accuracy: 0.1632\n",
      "\n",
      "Epoch 6\n",
      "Target class: None\n",
      "Accuracy: 0.15\n",
      "\n",
      "Epoch 7\n",
      "Target class: None\n",
      "Accuracy: 0.1526\n",
      "\n",
      "Epoch 8\n",
      "Target class: None\n",
      "Accuracy: 0.1506\n",
      "\n",
      "Epoch 9\n",
      "Target class: None\n",
      "Accuracy: 0.1484\n",
      "\n",
      "Epoch 10\n",
      "Target class: None\n",
      "Accuracy: 0.1447\n",
      "\n"
     ]
    },
    {
     "data": {
      "image/png": "[encoded data removed]",
      "text/plain": [
       "<Figure size 640x480 with 1 Axes>"
      ]
     },
     "metadata": {},
     "output_type": "display_data"
    },
    {
     "name": "stdout",
     "output_type": "stream",
     "text": [
      "Model accuracy with adversarial patch: 16.40%\n",
      "Untargeted attack success rate on test set: 83.60%\n"
     ]
    },
    {
     "data": {
      "text/plain": [
       "(0.164, 0.836)"
      ]
     },
     "execution_count": 35,
     "metadata": {},
     "output_type": "execute_result"
    }
   ],
   "source": [
    "# Generate adversarial patch\n",
    "patch_untarget_stronger = generate_adversarial_patch(model=resnet18, patch_size=8, target_class=None, num_epochs=10, lr=1e-1, momentum=0.8, apply=apply_extension)\n",
    "# Visualize the generated patch\n",
    "visualize_patch(patch_untarget_stronger)\n",
    "# Test adversarial success rate on test dataset\n",
    "test(model=resnet18, patch=patch_untarget_stronger, target_class=None, apply=apply_extension)"
   ]
  },
  {
   "cell_type": "code",
   "execution_count": 36,
   "id": "254471df",
   "metadata": {
    "id": "254471df",
    "scrolled": true
   },
   "outputs": [
    {
     "name": "stdout",
     "output_type": "stream",
     "text": [
      "Epoch 1\n",
      "Target class: 5\n",
      "Percentage of samples predicted as target class 5: 7.470000000000001\n",
      "Accuracy: 0.5679\n",
      "\n",
      "Epoch 2\n",
      "Target class: 5\n",
      "Percentage of samples predicted as target class 5: 52.75\n",
      "Accuracy: 0.2673\n",
      "\n",
      "Epoch 3\n",
      "Target class: 5\n",
      "Percentage of samples predicted as target class 5: 57.37\n",
      "Accuracy: 0.2364\n",
      "\n",
      "Epoch 4\n",
      "Target class: 5\n",
      "Percentage of samples predicted as target class 5: 60.78\n",
      "Accuracy: 0.2238\n",
      "\n",
      "Epoch 5\n",
      "Target class: 5\n",
      "Percentage of samples predicted as target class 5: 60.89\n",
      "Accuracy: 0.2196\n",
      "\n",
      "Epoch 6\n",
      "Target class: 5\n",
      "Percentage of samples predicted as target class 5: 62.839999999999996\n",
      "Accuracy: 0.2104\n",
      "\n",
      "Epoch 7\n",
      "Target class: 5\n",
      "Percentage of samples predicted as target class 5: 64.23\n",
      "Accuracy: 0.2076\n",
      "\n",
      "Epoch 8\n",
      "Target class: 5\n",
      "Percentage of samples predicted as target class 5: 64.55\n",
      "Accuracy: 0.2049\n",
      "\n",
      "Epoch 9\n",
      "Target class: 5\n",
      "Percentage of samples predicted as target class 5: 64.77000000000001\n",
      "Accuracy: 0.2026\n",
      "\n",
      "Epoch 10\n",
      "Target class: 5\n",
      "Percentage of samples predicted as target class 5: 64.59\n",
      "Accuracy: 0.2114\n",
      "\n"
     ]
    },
    {
     "data": {
      "image/png": "[encoded data removed]",
      "text/plain": [
       "<Figure size 640x480 with 1 Axes>"
      ]
     },
     "metadata": {},
     "output_type": "display_data"
    },
    {
     "name": "stdout",
     "output_type": "stream",
     "text": [
      "Model accuracy with adversarial patch: 25.66%\n",
      "Untargeted attack success rate on test set: 74.34%\n",
      "Targeted attack success rate on test set for class 5: 34.45%\n"
     ]
    },
    {
     "data": {
      "text/plain": [
       "(0.2566, 0.7434, 0.3445)"
      ]
     },
     "execution_count": 36,
     "metadata": {},
     "output_type": "execute_result"
    }
   ],
   "source": [
    "# Generate adversarial patch\n",
    "patch_target_stronger = generate_adversarial_patch(model=resnet18, patch_size=8, target_class=5, num_epochs=10, lr=1e-1, momentum=0.8, apply=apply_extension)\n",
    "# Visualize the generated patch\n",
    "visualize_patch(patch_target_stronger)\n",
    "# Test adversarial success rate on test dataset\n",
    "test(model=resnet18, patch=patch_target_stronger, target_class=5, apply=apply_extension)"
   ]
  },
  {
   "cell_type": "code",
   "execution_count": 37,
   "id": "6e061db6-872e-4755-9e6c-1209a68b9163",
   "metadata": {},
   "outputs": [
    {
     "name": "stdout",
     "output_type": "stream",
     "text": [
      "Model accuracy on clean test set: 88.29%\n",
      "Model accuracy with adversarial patch: 20.59%\n",
      "Untargeted attack success rate on test set: 79.41%\n",
      "Model accuracy with adversarial patch: 34.15%\n",
      "Untargeted attack success rate on test set: 65.85%\n",
      "Targeted attack success rate on test set for class 5: 22.02%\n"
     ]
    },
    {
     "data": {
      "text/plain": [
       "(0.3415, 0.6585, 0.2202)"
      ]
     },
     "execution_count": 37,
     "metadata": {},
     "output_type": "execute_result"
    }
   ],
   "source": [
    "# Load pre-trained model\n",
    "vgg19 = models.vgg19(weights=\"DEFAULT\")\n",
    "\n",
    "# Get the number of input features to the classifier\n",
    "num_features = vgg19.classifier[-1].in_features\n",
    "\n",
    "# Replace the last layer (classifier) for CIFAR-10, which has 10 classes\n",
    "vgg19.classifier[-1] = nn.Linear(num_features, 10)\n",
    "\n",
    "# Finetune the model\n",
    "# fine_tune_for_cifar10(model=vgg19, num_epochs=30, model_path=\"vgg19.pth\")\n",
    "# Load best model checkpoint\n",
    "vgg19 = load_model(vgg19, \"vgg19.pth\", device=device)\n",
    "# Test model performance on clean test dataset\n",
    "test(model=vgg19, patch=None, target_class=None, apply=apply_extension)\n",
    "\n",
    "# Untargeted Attack\n",
    "test(model=vgg19, patch=patch_untarget_stronger, target_class=None, apply=apply_extension)\n",
    "# Targeted Attack\n",
    "test(model=vgg19, patch=patch_target_stronger, target_class=5, apply=apply_extension)"
   ]
  },
  {
   "cell_type": "code",
   "execution_count": 38,
   "id": "326ad32f-2faa-413b-96ab-dd80f126c8f4",
   "metadata": {},
   "outputs": [
    {
     "name": "stdout",
     "output_type": "stream",
     "text": [
      "Model accuracy on clean test set: 69.56%\n",
      "Model accuracy with adversarial patch: 24.16%\n",
      "Untargeted attack success rate on test set: 75.84%\n",
      "Model accuracy with adversarial patch: 27.75%\n",
      "Untargeted attack success rate on test set: 72.25%\n",
      "Targeted attack success rate on test set for class 5: 29.66%\n"
     ]
    },
    {
     "data": {
      "text/plain": [
       "(0.2775, 0.7225, 0.2966)"
      ]
     },
     "execution_count": 38,
     "metadata": {},
     "output_type": "execute_result"
    }
   ],
   "source": [
    "# Load pre-trained model\n",
    "densenet121 = models.densenet121(weights=\"DEFAULT\")\n",
    "\n",
    "num_features = densenet121.classifier.in_features  # Get the number of input features\n",
    "densenet121.classifier = nn.Linear(num_features, 10)  # Replace the classifier for CIFAR-10\n",
    "\n",
    "# Finetune the model\n",
    "# fine_tune_for_cifar10(model=densenet121, num_epochs=30, model_path=\"densenet121.pth\")\n",
    "# Load best model checkpoint\n",
    "densenet121 = load_model(densenet121, \"densenet121.pth\", device=device)\n",
    "# Test model performance on clean test dataset\n",
    "test(model=densenet121, patch=None, target_class=None, apply=apply_extension)\n",
    "\n",
    "# Untargeted Attack\n",
    "test(model=densenet121, patch=patch_untarget_stronger, target_class=None, apply=apply_extension)\n",
    "# Targeted Attack\n",
    "test(model=densenet121, patch=patch_target_stronger, target_class=5, apply=apply_extension)"
   ]
  },
  {
   "cell_type": "code",
   "execution_count": 39,
   "id": "6416216a-cdf5-474e-a208-a4feb0a544f6",
   "metadata": {},
   "outputs": [
    {
     "name": "stdout",
     "output_type": "stream",
     "text": [
      "Model accuracy on clean test set: 85.86%\n",
      "Model accuracy with adversarial patch: 26.05%\n",
      "Untargeted attack success rate on test set: 73.95%\n",
      "Model accuracy with adversarial patch: 43.04%\n",
      "Untargeted attack success rate on test set: 56.96%\n",
      "Targeted attack success rate on test set for class 5: 11.71%\n"
     ]
    },
    {
     "data": {
      "text/plain": [
       "(0.4304, 0.5696, 0.1171)"
      ]
     },
     "execution_count": 39,
     "metadata": {},
     "output_type": "execute_result"
    }
   ],
   "source": [
    "# Load pre-trained model\n",
    "resnet50 = models.resnet50(weights=\"DEFAULT\")\n",
    "\n",
    "# ResNet is trained on ImageNet, which has 1000 classes\n",
    "# So we need to modify the output layer for CIFAR-10, which has 10 classes\n",
    "resnet50.fc = nn.Linear(resnet50.fc.in_features, 10)\n",
    "# Load best model checkpoint\n",
    "resnet50 = load_model(resnet50, \"resnet50.pth\", device=device)\n",
    "# Test model performance on clean test dataset\n",
    "test(model=resnet50, patch=None, target_class=None, apply=apply_extension)\n",
    "\n",
    "# Untargeted Attack\n",
    "test(model=resnet50, patch=patch_untarget_stronger, target_class=None, apply=apply_extension)\n",
    "# Targeted Attack\n",
    "test(model=resnet50, patch=patch_target_stronger, target_class=5, apply=apply_extension)"
   ]
  },
  {
   "cell_type": "code",
   "execution_count": 40,
   "id": "23733847-fc61-4b3c-96ee-8629f5b78a9e",
   "metadata": {},
   "outputs": [
    {
     "name": "stdout",
     "output_type": "stream",
     "text": [
      "With extended data augmentation:\n",
      "+-------------+------------------+----------------+\n",
      "| Model       |   Untargeted ASR |   Targeted ASR |\n",
      "+=============+==================+================+\n",
      "| ResNet18    |           0.836  |         0.3445 |\n",
      "+-------------+------------------+----------------+\n",
      "| ResNet50    |           0.7395 |         0.1171 |\n",
      "+-------------+------------------+----------------+\n",
      "| DenseNet121 |           0.7584 |         0.2966 |\n",
      "+-------------+------------------+----------------+\n",
      "| VGG19       |           0.7941 |         0.2202 |\n",
      "+-------------+------------------+----------------+\n"
     ]
    }
   ],
   "source": [
    "# Define the table data\n",
    "table_data = [\n",
    "    [\"Model\", \"Untargeted ASR\", \"Targeted ASR\"],\n",
    "    [\"ResNet18\", 0.8360, 0.3445],\n",
    "    [\"ResNet50\", 0.7395, 0.1171],\n",
    "    [\"DenseNet121\", 0.7584, 0.2966],\n",
    "    [\"VGG19\", 0.7941, 0.2202]\n",
    "\n",
    "]\n",
    "\n",
    "# Print the table\n",
    "print(\"With extended data augmentation:\")\n",
    "print(tabulate(table_data, headers=\"firstrow\", tablefmt=\"grid\"))"
   ]
  },
  {
   "cell_type": "markdown",
   "id": "f9af8021",
   "metadata": {
    "id": "f9af8021"
   },
   "source": [
    "### (Extension) Generate patches with side length of 3,5,7,10,13,16. Visualize patch_sizes v.s. untargeted ASR."
   ]
  },
  {
   "cell_type": "code",
   "execution_count": 43,
   "id": "6c42d2d7",
   "metadata": {
    "id": "6c42d2d7"
   },
   "outputs": [
    {
     "name": "stdout",
     "output_type": "stream",
     "text": [
      "Epoch 1\n",
      "Target class: None\n",
      "Accuracy: 0.6276\n",
      "\n",
      "Epoch 2\n",
      "Target class: None\n",
      "Accuracy: 0.4252\n",
      "\n",
      "Epoch 3\n",
      "Target class: None\n",
      "Accuracy: 0.3107\n",
      "\n",
      "Epoch 4\n",
      "Target class: None\n",
      "Accuracy: 0.2466\n",
      "\n",
      "Epoch 5\n",
      "Target class: None\n",
      "Accuracy: 0.2155\n",
      "\n",
      "Epoch 6\n",
      "Target class: None\n",
      "Accuracy: 0.1995\n",
      "\n",
      "Epoch 7\n",
      "Target class: None\n",
      "Accuracy: 0.1837\n",
      "\n",
      "Epoch 8\n",
      "Target class: None\n",
      "Accuracy: 0.1838\n",
      "\n",
      "Epoch 9\n",
      "Target class: None\n",
      "Accuracy: 0.1826\n",
      "\n",
      "Epoch 10\n",
      "Target class: None\n",
      "Accuracy: 0.1828\n",
      "\n"
     ]
    },
    {
     "data": {
      "image/png": "[encoded data removed]",
      "text/plain": [
       "<Figure size 640x480 with 1 Axes>"
      ]
     },
     "metadata": {},
     "output_type": "display_data"
    },
    {
     "name": "stdout",
     "output_type": "stream",
     "text": [
      "Model accuracy with adversarial patch: 22.30%\n",
      "Untargeted attack success rate on test set: 77.70%\n",
      "Epoch 1\n",
      "Target class: None\n",
      "Accuracy: 0.5766\n",
      "\n",
      "Epoch 2\n",
      "Target class: None\n",
      "Accuracy: 0.4496\n",
      "\n",
      "Epoch 3\n",
      "Target class: None\n",
      "Accuracy: 0.3476\n",
      "\n",
      "Epoch 4\n",
      "Target class: None\n",
      "Accuracy: 0.262\n",
      "\n",
      "Epoch 5\n",
      "Target class: None\n",
      "Accuracy: 0.2039\n",
      "\n",
      "Epoch 6\n",
      "Target class: None\n",
      "Accuracy: 0.1796\n",
      "\n",
      "Epoch 7\n",
      "Target class: None\n",
      "Accuracy: 0.1646\n",
      "\n",
      "Epoch 8\n",
      "Target class: None\n",
      "Accuracy: 0.1596\n",
      "\n",
      "Epoch 9\n",
      "Target class: None\n",
      "Accuracy: 0.1561\n",
      "\n",
      "Epoch 10\n",
      "Target class: None\n",
      "Accuracy: 0.1554\n",
      "\n"
     ]
    },
    {
     "data": {
      "image/png": "[encoded data removed]",
      "text/plain": [
       "<Figure size 640x480 with 1 Axes>"
      ]
     },
     "metadata": {},
     "output_type": "display_data"
    },
    {
     "name": "stdout",
     "output_type": "stream",
     "text": [
      "Model accuracy with adversarial patch: 17.99%\n",
      "Untargeted attack success rate on test set: 82.01%\n",
      "Epoch 1\n",
      "Target class: None\n",
      "Accuracy: 0.5475\n",
      "\n",
      "Epoch 2\n",
      "Target class: None\n",
      "Accuracy: 0.3187\n",
      "\n",
      "Epoch 3\n",
      "Target class: None\n",
      "Accuracy: 0.2212\n",
      "\n",
      "Epoch 4\n",
      "Target class: None\n",
      "Accuracy: 0.195\n",
      "\n",
      "Epoch 5\n",
      "Target class: None\n",
      "Accuracy: 0.1797\n",
      "\n",
      "Epoch 6\n",
      "Target class: None\n",
      "Accuracy: 0.172\n",
      "\n",
      "Epoch 7\n",
      "Target class: None\n",
      "Accuracy: 0.1707\n",
      "\n",
      "Epoch 8\n",
      "Target class: None\n",
      "Accuracy: 0.1678\n",
      "\n",
      "Epoch 9\n",
      "Target class: None\n",
      "Accuracy: 0.1658\n",
      "\n",
      "Epoch 10\n",
      "Target class: None\n",
      "Accuracy: 0.1589\n",
      "\n"
     ]
    },
    {
     "data": {
      "image/png": "[encoded data removed]",
      "text/plain": [
       "<Figure size 640x480 with 1 Axes>"
      ]
     },
     "metadata": {},
     "output_type": "display_data"
    },
    {
     "name": "stdout",
     "output_type": "stream",
     "text": [
      "Model accuracy with adversarial patch: 16.87%\n",
      "Untargeted attack success rate on test set: 83.13%\n",
      "Epoch 1\n",
      "Target class: None\n",
      "Accuracy: 0.4805\n",
      "\n",
      "Epoch 2\n",
      "Target class: None\n",
      "Accuracy: 0.2369\n",
      "\n",
      "Epoch 3\n",
      "Target class: None\n",
      "Accuracy: 0.195\n",
      "\n",
      "Epoch 4\n",
      "Target class: None\n",
      "Accuracy: 0.1811\n",
      "\n",
      "Epoch 5\n",
      "Target class: None\n",
      "Accuracy: 0.1743\n",
      "\n",
      "Epoch 6\n",
      "Target class: None\n",
      "Accuracy: 0.1655\n",
      "\n",
      "Epoch 7\n",
      "Target class: None\n",
      "Accuracy: 0.1656\n",
      "\n",
      "Epoch 8\n",
      "Target class: None\n",
      "Accuracy: 0.158\n",
      "\n",
      "Epoch 9\n",
      "Target class: None\n",
      "Accuracy: 0.1577\n",
      "\n",
      "Epoch 10\n",
      "Target class: None\n",
      "Accuracy: 0.1592\n",
      "\n"
     ]
    },
    {
     "data": {
      "image/png": "[encoded data removed]",
      "text/plain": [
       "<Figure size 640x480 with 1 Axes>"
      ]
     },
     "metadata": {},
     "output_type": "display_data"
    },
    {
     "name": "stdout",
     "output_type": "stream",
     "text": [
      "Model accuracy with adversarial patch: 16.44%\n",
      "Untargeted attack success rate on test set: 83.56%\n",
      "Epoch 1\n",
      "Target class: None\n",
      "Accuracy: 0.4753\n",
      "\n",
      "Epoch 2\n",
      "Target class: None\n",
      "Accuracy: 0.2053\n",
      "\n",
      "Epoch 3\n",
      "Target class: None\n",
      "Accuracy: 0.183\n",
      "\n",
      "Epoch 4\n",
      "Target class: None\n",
      "Accuracy: 0.1796\n",
      "\n",
      "Epoch 5\n",
      "Target class: None\n",
      "Accuracy: 0.181\n",
      "\n",
      "Epoch 6\n",
      "Target class: None\n",
      "Accuracy: 0.1789\n",
      "\n",
      "Epoch 7\n",
      "Target class: None\n",
      "Accuracy: 0.179\n",
      "\n",
      "Epoch 8\n",
      "Target class: None\n",
      "Accuracy: 0.1751\n",
      "\n",
      "Epoch 9\n",
      "Target class: None\n",
      "Accuracy: 0.1725\n",
      "\n",
      "Epoch 10\n",
      "Target class: None\n",
      "Accuracy: 0.1728\n",
      "\n"
     ]
    },
    {
     "data": {
      "image/png": "[encoded data removed]",
      "text/plain": [
       "<Figure size 640x480 with 1 Axes>"
      ]
     },
     "metadata": {},
     "output_type": "display_data"
    },
    {
     "name": "stdout",
     "output_type": "stream",
     "text": [
      "Model accuracy with adversarial patch: 18.30%\n",
      "Untargeted attack success rate on test set: 81.70%\n",
      "Epoch 1\n",
      "Target class: None\n",
      "Accuracy: 0.3881\n",
      "\n",
      "Epoch 2\n",
      "Target class: None\n",
      "Accuracy: 0.193\n",
      "\n",
      "Epoch 3\n",
      "Target class: None\n",
      "Accuracy: 0.1734\n",
      "\n",
      "Epoch 4\n",
      "Target class: None\n",
      "Accuracy: 0.1687\n",
      "\n",
      "Epoch 5\n",
      "Target class: None\n",
      "Accuracy: 0.1652\n",
      "\n",
      "Epoch 6\n",
      "Target class: None\n",
      "Accuracy: 0.1743\n",
      "\n",
      "Epoch 7\n",
      "Target class: None\n",
      "Accuracy: 0.1681\n",
      "\n",
      "Epoch 8\n",
      "Target class: None\n",
      "Accuracy: 0.1669\n",
      "\n",
      "Epoch 9\n",
      "Target class: None\n",
      "Accuracy: 0.1656\n",
      "\n",
      "Epoch 10\n",
      "Target class: None\n",
      "Accuracy: 0.1659\n",
      "\n"
     ]
    },
    {
     "data": {
      "image/png": "[encoded data removed]",
      "text/plain": [
       "<Figure size 640x480 with 1 Axes>"
      ]
     },
     "metadata": {},
     "output_type": "display_data"
    },
    {
     "name": "stdout",
     "output_type": "stream",
     "text": [
      "Model accuracy with adversarial patch: 17.05%\n",
      "Untargeted attack success rate on test set: 82.95%\n"
     ]
    },
    {
     "data": {
      "image/png": "[encoded data removed]",
      "text/plain": [
       "<Figure size 600x400 with 1 Axes>"
      ]
     },
     "metadata": {},
     "output_type": "display_data"
    }
   ],
   "source": [
    "patch_sizes = [3, 5, 7, 10, 13, 16]\n",
    "untargetted_asr_results = {}\n",
    "for size in patch_sizes:\n",
    "  patch = generate_adversarial_patch(model=resnet18, patch_size=size, target_class=None, num_epochs=10,\\\n",
    "                                      lr=1e-1, momentum=0.8, apply=apply_extension)\n",
    "  visualize_patch(patch)\n",
    "  adversarial_accuracy, untargetted_asr = test(model=resnet18, patch=patch, target_class=None, apply=apply_extension)\n",
    "  untargetted_asr_results[size] = untargetted_asr\n",
    "plot_asr_vs_patch_size(patch_sizes, untargetted_asr_results)"
   ]
  },
  {
   "cell_type": "markdown",
   "id": "78c1fd56",
   "metadata": {
    "id": "78c1fd56"
   },
   "source": [
    "### (Extension) Generate patches with side length of 3,5,7,10,13,16. Visualize patch_sizes v.s. targeted ASR. Target class is set to 5 here."
   ]
  },
  {
   "cell_type": "code",
   "execution_count": 44,
   "id": "27b05dcf",
   "metadata": {
    "id": "27b05dcf"
   },
   "outputs": [
    {
     "name": "stdout",
     "output_type": "stream",
     "text": [
      "Epoch 1\n",
      "Target class: 5\n",
      "Percentage of samples predicted as target class 5: 8.38\n",
      "Accuracy: 0.6146\n",
      "\n",
      "Epoch 2\n",
      "Target class: 5\n",
      "Percentage of samples predicted as target class 5: 18.310000000000002\n",
      "Accuracy: 0.4308\n",
      "\n",
      "Epoch 3\n",
      "Target class: 5\n",
      "Percentage of samples predicted as target class 5: 18.55\n",
      "Accuracy: 0.3714\n",
      "\n",
      "Epoch 4\n",
      "Target class: 5\n",
      "Percentage of samples predicted as target class 5: 19.24\n",
      "Accuracy: 0.345\n",
      "\n",
      "Epoch 5\n",
      "Target class: 5\n",
      "Percentage of samples predicted as target class 5: 18.12\n",
      "Accuracy: 0.3352\n",
      "\n",
      "Epoch 6\n",
      "Target class: 5\n",
      "Percentage of samples predicted as target class 5: 17.36\n",
      "Accuracy: 0.3413\n",
      "\n",
      "Epoch 7\n",
      "Target class: 5\n",
      "Percentage of samples predicted as target class 5: 18.34\n",
      "Accuracy: 0.3216\n",
      "\n",
      "Epoch 8\n",
      "Target class: 5\n",
      "Percentage of samples predicted as target class 5: 18.63\n",
      "Accuracy: 0.3251\n",
      "\n",
      "Epoch 9\n",
      "Target class: 5\n",
      "Percentage of samples predicted as target class 5: 18.13\n",
      "Accuracy: 0.3189\n",
      "\n",
      "Epoch 10\n",
      "Target class: 5\n",
      "Percentage of samples predicted as target class 5: 18.15\n",
      "Accuracy: 0.3135\n",
      "\n"
     ]
    },
    {
     "data": {
      "image/png": "[encoded data removed]",
      "text/plain": [
       "<Figure size 640x480 with 1 Axes>"
      ]
     },
     "metadata": {},
     "output_type": "display_data"
    },
    {
     "name": "stdout",
     "output_type": "stream",
     "text": [
      "Model accuracy with adversarial patch: 34.39%\n",
      "Untargeted attack success rate on test set: 65.61%\n",
      "Targeted attack success rate on test set for class 5: 15.46%\n",
      "Epoch 1\n",
      "Target class: 5\n",
      "Percentage of samples predicted as target class 5: 9.030000000000001\n",
      "Accuracy: 0.6013\n",
      "\n",
      "Epoch 2\n",
      "Target class: 5\n",
      "Percentage of samples predicted as target class 5: 32.190000000000005\n",
      "Accuracy: 0.373\n",
      "\n",
      "Epoch 3\n",
      "Target class: 5\n",
      "Percentage of samples predicted as target class 5: 33.660000000000004\n",
      "Accuracy: 0.3222\n",
      "\n",
      "Epoch 4\n",
      "Target class: 5\n",
      "Percentage of samples predicted as target class 5: 33.93\n",
      "Accuracy: 0.2948\n",
      "\n",
      "Epoch 5\n",
      "Target class: 5\n",
      "Percentage of samples predicted as target class 5: 33.79\n",
      "Accuracy: 0.29\n",
      "\n",
      "Epoch 6\n",
      "Target class: 5\n",
      "Percentage of samples predicted as target class 5: 35.55\n",
      "Accuracy: 0.2854\n",
      "\n",
      "Epoch 7\n",
      "Target class: 5\n",
      "Percentage of samples predicted as target class 5: 34.83\n",
      "Accuracy: 0.2837\n",
      "\n",
      "Epoch 8\n",
      "Target class: 5\n",
      "Percentage of samples predicted as target class 5: 35.13\n",
      "Accuracy: 0.2794\n",
      "\n",
      "Epoch 9\n",
      "Target class: 5\n",
      "Percentage of samples predicted as target class 5: 35.13\n",
      "Accuracy: 0.2803\n",
      "\n",
      "Epoch 10\n",
      "Target class: 5\n",
      "Percentage of samples predicted as target class 5: 35.78\n",
      "Accuracy: 0.2724\n",
      "\n"
     ]
    },
    {
     "data": {
      "image/png": "[encoded data removed]",
      "text/plain": [
       "<Figure size 640x480 with 1 Axes>"
      ]
     },
     "metadata": {},
     "output_type": "display_data"
    },
    {
     "name": "stdout",
     "output_type": "stream",
     "text": [
      "Model accuracy with adversarial patch: 28.71%\n",
      "Untargeted attack success rate on test set: 71.29%\n",
      "Targeted attack success rate on test set for class 5: 18.68%\n",
      "Epoch 1\n",
      "Target class: 5\n",
      "Percentage of samples predicted as target class 5: 8.82\n",
      "Accuracy: 0.5833\n",
      "\n",
      "Epoch 2\n",
      "Target class: 5\n",
      "Percentage of samples predicted as target class 5: 48.17\n",
      "Accuracy: 0.2904\n",
      "\n",
      "Epoch 3\n",
      "Target class: 5\n",
      "Percentage of samples predicted as target class 5: 55.81\n",
      "Accuracy: 0.2441\n",
      "\n",
      "Epoch 4\n",
      "Target class: 5\n",
      "Percentage of samples predicted as target class 5: 58.199999999999996\n",
      "Accuracy: 0.2327\n",
      "\n",
      "Epoch 5\n",
      "Target class: 5\n",
      "Percentage of samples predicted as target class 5: 60.38\n",
      "Accuracy: 0.2198\n",
      "\n",
      "Epoch 6\n",
      "Target class: 5\n",
      "Percentage of samples predicted as target class 5: 60.83\n",
      "Accuracy: 0.2187\n",
      "\n",
      "Epoch 7\n",
      "Target class: 5\n",
      "Percentage of samples predicted as target class 5: 61.95\n",
      "Accuracy: 0.2161\n",
      "\n",
      "Epoch 8\n",
      "Target class: 5\n",
      "Percentage of samples predicted as target class 5: 61.31999999999999\n",
      "Accuracy: 0.2123\n",
      "\n",
      "Epoch 9\n",
      "Target class: 5\n",
      "Percentage of samples predicted as target class 5: 62.260000000000005\n",
      "Accuracy: 0.2118\n",
      "\n",
      "Epoch 10\n",
      "Target class: 5\n",
      "Percentage of samples predicted as target class 5: 62.339999999999996\n",
      "Accuracy: 0.211\n",
      "\n"
     ]
    },
    {
     "data": {
      "image/png": "[encoded data removed]",
      "text/plain": [
       "<Figure size 640x480 with 1 Axes>"
      ]
     },
     "metadata": {},
     "output_type": "display_data"
    },
    {
     "name": "stdout",
     "output_type": "stream",
     "text": [
      "Model accuracy with adversarial patch: 25.29%\n",
      "Untargeted attack success rate on test set: 74.71%\n",
      "Targeted attack success rate on test set for class 5: 34.93%\n",
      "Epoch 1\n",
      "Target class: 5\n",
      "Percentage of samples predicted as target class 5: 9.29\n",
      "Accuracy: 0.5425\n",
      "\n",
      "Epoch 2\n",
      "Target class: 5\n",
      "Percentage of samples predicted as target class 5: 66.74\n",
      "Accuracy: 0.2183\n",
      "\n",
      "Epoch 3\n",
      "Target class: 5\n",
      "Percentage of samples predicted as target class 5: 70.09\n",
      "Accuracy: 0.1999\n",
      "\n",
      "Epoch 4\n",
      "Target class: 5\n",
      "Percentage of samples predicted as target class 5: 73.07000000000001\n",
      "Accuracy: 0.1878\n",
      "\n",
      "Epoch 5\n",
      "Target class: 5\n",
      "Percentage of samples predicted as target class 5: 74.1\n",
      "Accuracy: 0.1803\n",
      "\n",
      "Epoch 6\n",
      "Target class: 5\n",
      "Percentage of samples predicted as target class 5: 74.06\n",
      "Accuracy: 0.1791\n",
      "\n",
      "Epoch 7\n",
      "Target class: 5\n",
      "Percentage of samples predicted as target class 5: 73.95\n",
      "Accuracy: 0.1762\n",
      "\n",
      "Epoch 8\n",
      "Target class: 5\n",
      "Percentage of samples predicted as target class 5: 74.79\n",
      "Accuracy: 0.1805\n",
      "\n",
      "Epoch 9\n",
      "Target class: 5\n",
      "Percentage of samples predicted as target class 5: 75.57000000000001\n",
      "Accuracy: 0.1726\n",
      "\n",
      "Epoch 10\n",
      "Target class: 5\n",
      "Percentage of samples predicted as target class 5: 75.92999999999999\n",
      "Accuracy: 0.1729\n",
      "\n"
     ]
    },
    {
     "data": {
      "image/png": "[encoded data removed]",
      "text/plain": [
       "<Figure size 640x480 with 1 Axes>"
      ]
     },
     "metadata": {},
     "output_type": "display_data"
    },
    {
     "name": "stdout",
     "output_type": "stream",
     "text": [
      "Model accuracy with adversarial patch: 23.50%\n",
      "Untargeted attack success rate on test set: 76.50%\n",
      "Targeted attack success rate on test set for class 5: 53.12%\n",
      "Epoch 1\n",
      "Target class: 5\n",
      "Percentage of samples predicted as target class 5: 10.8\n",
      "Accuracy: 0.5129\n",
      "\n",
      "Epoch 2\n",
      "Target class: 5\n",
      "Percentage of samples predicted as target class 5: 82.28\n",
      "Accuracy: 0.1769\n",
      "\n",
      "Epoch 3\n",
      "Target class: 5\n",
      "Percentage of samples predicted as target class 5: 84.36\n",
      "Accuracy: 0.168\n",
      "\n",
      "Epoch 4\n",
      "Target class: 5\n",
      "Percentage of samples predicted as target class 5: 85.14\n",
      "Accuracy: 0.1623\n",
      "\n",
      "Epoch 5\n",
      "Target class: 5\n",
      "Percentage of samples predicted as target class 5: 85.22\n",
      "Accuracy: 0.1621\n",
      "\n",
      "Epoch 6\n",
      "Target class: 5\n",
      "Percentage of samples predicted as target class 5: 85.52\n",
      "Accuracy: 0.1594\n",
      "\n",
      "Epoch 7\n",
      "Target class: 5\n",
      "Percentage of samples predicted as target class 5: 85.89\n",
      "Accuracy: 0.1594\n",
      "\n",
      "Epoch 8\n",
      "Target class: 5\n",
      "Percentage of samples predicted as target class 5: 86.05000000000001\n",
      "Accuracy: 0.1574\n",
      "\n",
      "Epoch 9\n",
      "Target class: 5\n",
      "Percentage of samples predicted as target class 5: 85.91\n",
      "Accuracy: 0.1582\n",
      "\n",
      "Epoch 10\n",
      "Target class: 5\n",
      "Percentage of samples predicted as target class 5: 86.69\n",
      "Accuracy: 0.1512\n",
      "\n"
     ]
    },
    {
     "data": {
      "image/png": "[encoded data removed]",
      "text/plain": [
       "<Figure size 640x480 with 1 Axes>"
      ]
     },
     "metadata": {},
     "output_type": "display_data"
    },
    {
     "name": "stdout",
     "output_type": "stream",
     "text": [
      "Model accuracy with adversarial patch: 19.02%\n",
      "Untargeted attack success rate on test set: 80.98%\n",
      "Targeted attack success rate on test set for class 5: 68.98%\n",
      "Epoch 1\n",
      "Target class: 5\n",
      "Percentage of samples predicted as target class 5: 6.11\n",
      "Accuracy: 0.3816\n",
      "\n",
      "Epoch 2\n",
      "Target class: 5\n",
      "Percentage of samples predicted as target class 5: 90.59\n",
      "Accuracy: 0.1377\n",
      "\n",
      "Epoch 3\n",
      "Target class: 5\n",
      "Percentage of samples predicted as target class 5: 91.8\n",
      "Accuracy: 0.1317\n",
      "\n",
      "Epoch 4\n",
      "Target class: 5\n",
      "Percentage of samples predicted as target class 5: 92.96\n",
      "Accuracy: 0.1264\n",
      "\n",
      "Epoch 5\n",
      "Target class: 5\n",
      "Percentage of samples predicted as target class 5: 93.25\n",
      "Accuracy: 0.1235\n",
      "\n",
      "Epoch 6\n",
      "Target class: 5\n",
      "Percentage of samples predicted as target class 5: 93.64\n",
      "Accuracy: 0.1235\n",
      "\n",
      "Epoch 7\n",
      "Target class: 5\n",
      "Percentage of samples predicted as target class 5: 94.39999999999999\n",
      "Accuracy: 0.1154\n",
      "\n",
      "Epoch 8\n",
      "Target class: 5\n",
      "Percentage of samples predicted as target class 5: 94.78\n",
      "Accuracy: 0.1172\n",
      "\n",
      "Epoch 9\n",
      "Target class: 5\n",
      "Percentage of samples predicted as target class 5: 94.89\n",
      "Accuracy: 0.1178\n",
      "\n",
      "Epoch 10\n",
      "Target class: 5\n",
      "Percentage of samples predicted as target class 5: 95.07\n",
      "Accuracy: 0.1135\n",
      "\n"
     ]
    },
    {
     "data": {
      "image/png": "[encoded data removed]",
      "text/plain": [
       "<Figure size 640x480 with 1 Axes>"
      ]
     },
     "metadata": {},
     "output_type": "display_data"
    },
    {
     "name": "stdout",
     "output_type": "stream",
     "text": [
      "Model accuracy with adversarial patch: 14.01%\n",
      "Untargeted attack success rate on test set: 85.99%\n",
      "Targeted attack success rate on test set for class 5: 80.42%\n"
     ]
    },
    {
     "data": {
      "image/png": "[encoded data removed]",
      "text/plain": [
       "<Figure size 600x400 with 1 Axes>"
      ]
     },
     "metadata": {},
     "output_type": "display_data"
    }
   ],
   "source": [
    "patch_sizes = [3, 5, 7, 10, 13, 16]\n",
    "targetted_asr_results = {}\n",
    "for size in patch_sizes:\n",
    "  patch = generate_adversarial_patch(model=resnet18, patch_size=size, target_class=5, num_epochs=10, \\\n",
    "                                     lr=1e-1, momentum=0.8, apply=apply_extension)\n",
    "  visualize_patch(patch)\n",
    "  adversarial_accuracy, untargetted_asr, targetted_asr = test(model=resnet18, patch=patch, target_class=5, apply=apply_extension)\n",
    "  targetted_asr_results[size] = targetted_asr\n",
    "plot_asr_vs_patch_size(patch_sizes, targetted_asr_results)"
   ]
  },
  {
   "cell_type": "code",
   "execution_count": null,
   "id": "77a7c79a-9aca-4cff-ab47-be95925499ff",
   "metadata": {},
   "outputs": [],
   "source": []
  }
 ],
 "metadata": {
  "accelerator": "GPU",
  "colab": {
   "gpuType": "T4",
   "provenance": []
  },
  "kernelspec": {
   "display_name": "Python 3 (ipykernel)",
   "language": "python",
   "name": "python3"
  },
  "language_info": {
   "codemirror_mode": {
    "name": "ipython",
    "version": 3
   },
   "file_extension": ".py",
   "mimetype": "text/x-python",
   "name": "python",
   "nbconvert_exporter": "python",
   "pygments_lexer": "ipython3",
   "version": "3.11.8"
  }
 },
 "nbformat": 4,
 "nbformat_minor": 5
}
