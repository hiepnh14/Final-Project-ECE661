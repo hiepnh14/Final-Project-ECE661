{
 "cells": [
  {
   "cell_type": "code",
   "execution_count": 3,
   "id": "eb0dab0f-20b3-4188-8a9f-21c2a1065904",
   "metadata": {},
   "outputs": [
    {
     "name": "stdout",
     "output_type": "stream",
     "text": [
      "cpu\n"
     ]
    }
   ],
   "source": [
    "# Import necessary libraries\n",
    "import numpy as np\n",
    "import pandas as pd\n",
    "from matplotlib import pyplot as plt\n",
    "\n",
    "import torch\n",
    "import torch.nn as nn\n",
    "import torch.nn.functional as F\n",
    "import torch.optim as optim\n",
    "from torchvision import datasets, transforms, models\n",
    "from torch.utils.data import random_split, DataLoader\n",
    "import torchvision.transforms.functional as TF\n",
    "import random\n",
    "import tqdm\n",
    "\n",
    "device = \"cuda\" if torch.cuda.is_available() else \"cpu\"\n",
    "print(device)"
   ]
  },
  {
   "cell_type": "code",
   "execution_count": 4,
   "id": "1eecd4a0",
   "metadata": {},
   "outputs": [
    {
     "name": "stdout",
     "output_type": "stream",
     "text": [
      "mps\n"
     ]
    }
   ],
   "source": [
    "if torch.backends.mps.is_available():\n",
    "    device = torch.device(\"mps\")\n",
    "print(device)"
   ]
  },
  {
   "cell_type": "code",
   "execution_count": 5,
   "id": "e15bf51f-04cb-4313-9516-f1bbd92ea43d",
   "metadata": {},
   "outputs": [
    {
     "name": "stdout",
     "output_type": "stream",
     "text": [
      "Downloading https://www.cs.toronto.edu/~kriz/cifar-10-python.tar.gz to ./data/cifar-10-python.tar.gz\n"
     ]
    },
    {
     "name": "stderr",
     "output_type": "stream",
     "text": [
      "100.0%\n"
     ]
    },
    {
     "name": "stdout",
     "output_type": "stream",
     "text": [
      "Extracting ./data/cifar-10-python.tar.gz to ./data\n",
      "Files already downloaded and verified\n"
     ]
    }
   ],
   "source": [
    "# Normalization statistics for ImageNet data\n",
    "normalize = transforms.Normalize(mean=[0.485, 0.456, 0.406],\n",
    "                                 std=[0.229, 0.224, 0.225])\n",
    "\n",
    "transform_train = transforms.Compose([\n",
    "    transforms.RandomHorizontalFlip(),\n",
    "    transforms.RandomCrop(32, padding=4),\n",
    "    transforms.ToTensor(),\n",
    "    normalize\n",
    "])\n",
    "\n",
    "transform_test = transforms.Compose([\n",
    "    transforms.ToTensor(),\n",
    "    normalize\n",
    "])\n",
    "\n",
    "# Load dataset\n",
    "train_data = datasets.CIFAR10(root='./data', train=True, download=True, transform=transform_train)\n",
    "test_data = datasets.CIFAR10(root='./data', train=False, download=True, transform=transform_test)\n",
    "\n",
    "# Split training data into training and validation sets\n",
    "train_set, val_set = random_split(train_data, [40000, 10000])  \n",
    "\n",
    "# Define dataloaders\n",
    "train_loader = DataLoader(train_set, batch_size=32, shuffle=True)\n",
    "val_loader = DataLoader(val_set, batch_size=32, shuffle=False)\n",
    "test_loader = DataLoader(test_data, batch_size=32, shuffle=False)\n"
   ]
  },
  {
   "cell_type": "markdown",
   "id": "37d372f7-3048-4304-97f8-6252db026c44",
   "metadata": {},
   "source": [
    "### To be solved: \n",
    "In the following eval() function, the target_percentage is calculated by total_target/total. I(Jamie) am not sure if we should set it to total_misclassified_target/total. In the test() function I wrote, I set targeted_attack_rate = total_targeted_hits(total_misclassified_target) / total. In actual, eval() and test() are pretty similar and can be considered to combine. I do not spend time combining them."
   ]
  },
  {
   "cell_type": "code",
   "execution_count": 48,
   "id": "7dcdeae2-844b-4f36-9171-6992186565ea",
   "metadata": {},
   "outputs": [],
   "source": [
    "# This function evaluates a model's accuracy on the validation set\n",
    "# Optionally, one can pass an adversarial patch as an argument to evaluate the model's performance against a patch attack\n",
    "def eval(model, patch=None, target_class=None, apply=apply):\n",
    "  # Stats to use to calculate accuracy after the eval loop\n",
    "  total_correct = 0\n",
    "  total = 0\n",
    "  total_target = 0\n",
    "  # Put model on GPU and switch to eval mode\n",
    "  model = model.to(device)\n",
    "  model.eval()\n",
    "  # Evaluation loop\n",
    "  with torch.no_grad():\n",
    "    for batch_idx, (images, labels) in enumerate(val_loader):\n",
    "      # Put data on GPU\n",
    "      images = images.to(device)\n",
    "      if patch is not None:\n",
    "        images = apply(patch, images)\n",
    "      labels = labels.to(device)\n",
    "      # Make predictions\n",
    "      predictions = model(images)\n",
    "      predictions = torch.argmax(predictions, dim=1)\n",
    "      # Update validation accuracy information\n",
    "      total += len(images)\n",
    "      num_correct = (predictions == labels).float().sum().item()\n",
    "      total_correct += num_correct\n",
    "      if target_class is not None:\n",
    "        target = torch.zeros(len(images), dtype=torch.long).fill_(target_class).to(device)\n",
    "        num_target = (predictions == target).float().sum().item()\n",
    "        total_target += num_target\n",
    "  # If evaluating the effects of a targeted patch attach, it is nice to see whether or not the model is classifying lots of examples to the target class\n",
    "  if target_class is not None:\n",
    "    target_percentage = total_target / total\n",
    "    print(f\"Percentage of samples predicted as target class {target_class}: {100 * target_percentage}\")\n",
    "  # Calculate accuracy\n",
    "  accuracy = total_correct / total\n",
    "  return accuracy"
   ]
  },
  {
   "cell_type": "code",
   "execution_count": 49,
   "id": "36c77eea-21cc-4d92-accb-e9076cd0ae0e",
   "metadata": {},
   "outputs": [],
   "source": [
    "# This function is designed to take in a pretrained ResNet model and fine-tune its weights for the CIFAR-10 dataset\n",
    "# The idea is to fine-tune ResNet for the CIFAR-10 dataset (accuracy should be around 82%) and then degrade that performance via an adversarial patch attack\n",
    "def fine_tune_for_cifar10(model, num_epochs=30, model_path=\"resnet18.pth\"):\n",
    "  # Put model on GPU and put model in training mode\n",
    "  model = model.to(device)\n",
    "  model.train()\n",
    "  # Define loss function and optimizer\n",
    "  criterion = nn.CrossEntropyLoss()\n",
    "  optimizer = optim.SGD(model.parameters(), lr=0.01, momentum=0.9, weight_decay=1e-4)\n",
    "  best_accuracy = 0.0\n",
    "  best_model_path = model_path\n",
    "  # Training loop\n",
    "  for i in range(num_epochs):\n",
    "    # Stats to use for calculating accuracy\n",
    "    total_correct = 0\n",
    "    total = 0\n",
    "    # Iterate through each batch of data\n",
    "    for batch_idx, (images, labels) in enumerate(train_loader):\n",
    "      # Put data on GPU\n",
    "      images = images.to(device)\n",
    "      labels = labels.to(device)\n",
    "      # Make predictions\n",
    "      predictions = model(images)\n",
    "      # Calculate loss for the batch\n",
    "      loss = criterion(predictions, labels)\n",
    "      # Gradient descent\n",
    "      optimizer.zero_grad()\n",
    "      loss.backward()\n",
    "      optimizer.step()\n",
    "      # Update training accuracy information\n",
    "      total += len(images)\n",
    "      predictions = torch.argmax(predictions, dim=1)\n",
    "      num_correct = (predictions == labels).float().sum().item()\n",
    "      total_correct += num_correct\n",
    "    # Print training accuracy\n",
    "    print(f\"Epoch {str(i + 1)}: Training accuracy = {str(total_correct / total)}\")\n",
    "    # Print validation accuracy\n",
    "    val_accuracy = eval(model, patch=None, target_class=None)\n",
    "    print(f\"Validation accuracy: {str(val_accuracy)}\")\n",
    "    \n",
    "    if val_accuracy > best_accuracy:\n",
    "      best_accuracy = val_accuracy\n",
    "      torch.save(model.state_dict(), best_model_path)\n",
    "      print(f\"Saved new best model with accuracy: {best_accuracy:.4f}\")    \n",
    "\n"
   ]
  },
  {
   "cell_type": "code",
   "execution_count": 50,
   "id": "c26bd8ae-07b4-432a-a673-6fd48c0fc1eb",
   "metadata": {},
   "outputs": [],
   "source": [
    "# Apply patch to a batch of images\n",
    "def apply(patch, batch_of_images):\n",
    "  num_images = batch_of_images.shape[0]\n",
    "  patch_size = patch.shape[1]\n",
    "  # Iterate through each image in the batch\n",
    "  for i in range(num_images):\n",
    "    # Rotate the patch by a random number of degrees\n",
    "    degree = random.uniform(0, 360)\n",
    "    patch_rotated = TF.rotate(patch, angle=degree)\n",
    "    # Randomly choose an (x, y) coordinate on the 32x32 CIFAR-10 image\n",
    "    # This coordinate will be where the top left corner of the rotated patch goes\n",
    "    top_left_x = random.randint(0, 31 - patch_size)\n",
    "    top_left_y = random.randint(0, 31 - patch_size)\n",
    "    # Apply the randomly rotated patch at the random location\n",
    "    batch_of_images[i, :, top_left_x:top_left_x+patch_size, top_left_y:top_left_y+patch_size] = patch\n",
    "  return batch_of_images"
   ]
  },
  {
   "cell_type": "code",
   "execution_count": 51,
   "id": "00f2cc52-15f3-4645-a1d6-a44e135ed004",
   "metadata": {},
   "outputs": [],
   "source": [
    "# Function to load the best model checkpoint\n",
    "def load_model(model, path, device=\"cuda\"):\n",
    "    model.load_state_dict(torch.load(path, map_location=device))\n",
    "    model = model.to(device)\n",
    "    return model"
   ]
  },
  {
   "cell_type": "code",
   "execution_count": 52,
   "id": "ff1e40d9-8fc9-4b1c-b046-edcbbd197bc8",
   "metadata": {},
   "outputs": [],
   "source": [
    "# This function fine-tunes an adversarial patch against a provided whitebox model\n",
    "# Model accuracy against the patch attack is reported at each step\n",
    "def generate_adversarial_patch(model, patch_size, target_class=None, num_epochs=10, lr=1e-1, momentum=0.8, apply=apply):\n",
    "  model = model.to(device)\n",
    "  model.train()\n",
    "  \n",
    "  # Initialize patch to all zeros\n",
    "  patch = nn.Parameter(torch.zeros(3, patch_size, patch_size), requires_grad=True)\n",
    "  optimizer = optim.SGD([patch], lr, momentum)\n",
    "  criterion = nn.CrossEntropyLoss()\n",
    "  # Optimize the patch\n",
    "  for i in range(num_epochs):\n",
    "    print(f\"Epoch {str(i + 1)}\")\n",
    "    for batch_idx, (images, labels) in enumerate(train_loader):\n",
    "      # Put data on the GPU\n",
    "      images = images.to(device)\n",
    "      labels = labels.to(device)\n",
    "      # Apply the patch at a random location and with a random rotation for each image in the batch\n",
    "      images = apply(patch, images)\n",
    "      # Make predictions on the patched images\n",
    "      predictions = resnet18(images)\n",
    "      # For an untargeted attack, create false labels by incrementing the true labels by 1\n",
    "      if target_class is None:\n",
    "        false_labels = (labels + 1) % 10\n",
    "      # For a targeted attack, set all the false labels to the target class\n",
    "      else:\n",
    "        false_labels = torch.zeros(len(images), dtype=torch.long).fill_(target_class).to(device)\n",
    "      # Tune the patch\n",
    "      loss = criterion(predictions, false_labels)\n",
    "      optimizer.zero_grad()\n",
    "      loss.backward()\n",
    "      optimizer.step()\n",
    "    # See how the patch performs\n",
    "    print(f\"Target class: {target_class}\")\n",
    "    accuracy = eval(model, patch=patch, target_class=target_class)\n",
    "    print(f\"Accuracy: {str(accuracy)}\\n\")\n",
    "  return patch"
   ]
  },
  {
   "cell_type": "code",
   "execution_count": 53,
   "id": "a909b997-766e-4acb-bc2b-35b535ebcd5b",
   "metadata": {},
   "outputs": [],
   "source": [
    "# This function test the model accuracy on clean test dataset\n",
    "# Optinally, if pass in an adversarial patch, this function test model accuracy, untargetted and targetted ASR\n",
    "def test(model, patch=None, target_class=None, apply=apply):\n",
    "  model.eval()\n",
    "  total = 0\n",
    "  total_correct = 0\n",
    "  total_misclassified = 0\n",
    "  total_targeted_hits = 0\n",
    "\n",
    "  with torch.no_grad():\n",
    "    for images, labels in test_loader:\n",
    "      images = images.to(device)\n",
    "      labels = labels.to(device)\n",
    "      \n",
    "      if patch is not None:\n",
    "        images = apply(patch, images)\n",
    "\n",
    "      outputs = model(images)\n",
    "      predictions = torch.argmax(outputs, dim=1)\n",
    "      total += labels.size(0)\n",
    "      total_correct += (predictions == labels).sum().item()\n",
    "      total_misclassified += (predictions != labels).sum().item()\n",
    "\n",
    "      if target_class is not None:\n",
    "        targeted_misclassifications = ((predictions != labels) & (predictions == target_class))\n",
    "        total_targeted_hits += targeted_misclassifications.sum().item()\n",
    "\n",
    "  adversarial_accuracy = total_correct / total\n",
    "  untargeted_attack_rate = total_misclassified / total\n",
    "\n",
    "  if patch is not None:\n",
    "    print(f\"Model accuracy with adversarial patch: {adversarial_accuracy * 100:.2f}%\")\n",
    "    print(f\"Untargeted attack success rate on test set: {untargeted_attack_rate * 100:.2f}%\")\n",
    "  else:\n",
    "    print(f\"Model accuracy on clean test set: {adversarial_accuracy * 100:.2f}%\")\n",
    "\n",
    "  if target_class is not None:\n",
    "    targeted_attack_rate = total_targeted_hits / total\n",
    "    print(f\"Targeted attack success rate on test set for class {target_class}: {targeted_attack_rate * 100:.2f}%\")\n",
    "    return adversarial_accuracy, untargeted_attack_rate, targeted_attack_rate\n",
    "  else:\n",
    "    return adversarial_accuracy, untargeted_attack_rate"
   ]
  },
  {
   "cell_type": "code",
   "execution_count": 13,
   "id": "0fd0d3c9-f23a-423f-8eed-54986125e2cd",
   "metadata": {},
   "outputs": [],
   "source": [
    "# This function takes in a patch and outputs it visually\n",
    "def visualize_patch(patch):\n",
    "    patch = patch.detach() \n",
    "    patch = (patch - patch.min()) / (patch.max() - patch.min())  # Normalize to [0, 1]\n",
    "\n",
    "    # Convert to numpy and transpose dimensions from [C, H, W] to [H, W, C] for visualization\n",
    "    patch_np = patch.cpu().numpy().transpose(1, 2, 0)\n",
    "    plt.imshow(patch_np)\n",
    "    plt.axis('off') \n",
    "    plt.show()\n"
   ]
  },
  {
   "cell_type": "code",
   "execution_count": 14,
   "id": "8d7729eb-ea35-4563-8584-bf832068dccc",
   "metadata": {},
   "outputs": [],
   "source": [
    "# This function is used to plot the (untargeted or targeted) ASR v.s. patch size \n",
    "def plot_asr_vs_patch_size(patch_sizes, asr_results):\n",
    "    asr_values = [asr_results[size] * 100 for size in patch_sizes]\n",
    "    plt.figure(figsize=(6,4))\n",
    "    plt.plot(patch_sizes, asr_values, marker='o', linestyle='-', color='b')\n",
    "    plt.title('Attack Success Rate vs Patch Size')\n",
    "    plt.xlabel('Patch Size (pixels)')\n",
    "    plt.ylabel('ASR (%)')\n",
    "    plt.grid(True)\n",
    "    plt.xticks(patch_sizes)  \n",
    "    plt.show()\n"
   ]
  },
  {
   "cell_type": "markdown",
   "id": "3ef920b6-6336-4b2e-886a-7ec11386efe0",
   "metadata": {},
   "source": [
    "## Untargetted patch attack on ResNet18, patch size = 8\n",
    "\n",
    "### First, load the pretrained resnet18 and finetune it. After finetuning it with 30 epochs, the test accuracy should achieve ~82%"
   ]
  },
  {
   "cell_type": "code",
   "execution_count": 15,
   "id": "eae7f907-4717-4181-a806-ba2bff9eca82",
   "metadata": {
    "scrolled": true
   },
   "outputs": [
    {
     "name": "stderr",
     "output_type": "stream",
     "text": [
      "Downloading: \"https://download.pytorch.org/models/resnet18-f37072fd.pth\" to /Users/hiepnguyen/.cache/torch/hub/checkpoints/resnet18-f37072fd.pth\n",
      "100.0%\n"
     ]
    },
    {
     "name": "stdout",
     "output_type": "stream",
     "text": [
      "Epoch 1: Training accuracy = 0.26435\n",
      "Validation accuracy: 0.3354\n",
      "Saved new best model with accuracy: 0.3354\n",
      "Epoch 2: Training accuracy = 0.417025\n",
      "Validation accuracy: 0.4756\n",
      "Saved new best model with accuracy: 0.4756\n",
      "Epoch 3: Training accuracy = 0.520325\n",
      "Validation accuracy: 0.5645\n",
      "Saved new best model with accuracy: 0.5645\n",
      "Epoch 4: Training accuracy = 0.584325\n",
      "Validation accuracy: 0.5668\n",
      "Saved new best model with accuracy: 0.5668\n",
      "Epoch 5: Training accuracy = 0.6268\n",
      "Validation accuracy: 0.6243\n",
      "Saved new best model with accuracy: 0.6243\n",
      "Epoch 6: Training accuracy = 0.65055\n",
      "Validation accuracy: 0.6638\n",
      "Saved new best model with accuracy: 0.6638\n",
      "Epoch 7: Training accuracy = 0.68375\n",
      "Validation accuracy: 0.6854\n",
      "Saved new best model with accuracy: 0.6854\n",
      "Epoch 8: Training accuracy = 0.698125\n",
      "Validation accuracy: 0.6851\n",
      "Epoch 9: Training accuracy = 0.712125\n",
      "Validation accuracy: 0.7064\n",
      "Saved new best model with accuracy: 0.7064\n",
      "Epoch 10: Training accuracy = 0.728375\n",
      "Validation accuracy: 0.7243\n",
      "Saved new best model with accuracy: 0.7243\n",
      "Epoch 11: Training accuracy = 0.7321\n",
      "Validation accuracy: 0.7225\n",
      "Epoch 12: Training accuracy = 0.74625\n",
      "Validation accuracy: 0.7506\n",
      "Saved new best model with accuracy: 0.7506\n",
      "Epoch 13: Training accuracy = 0.754475\n",
      "Validation accuracy: 0.7478\n",
      "Epoch 14: Training accuracy = 0.76155\n",
      "Validation accuracy: 0.7319\n",
      "Epoch 15: Training accuracy = 0.768625\n",
      "Validation accuracy: 0.745\n",
      "Epoch 16: Training accuracy = 0.772625\n",
      "Validation accuracy: 0.7392\n",
      "Epoch 17: Training accuracy = 0.78235\n",
      "Validation accuracy: 0.762\n",
      "Saved new best model with accuracy: 0.7620\n",
      "Epoch 18: Training accuracy = 0.7879\n",
      "Validation accuracy: 0.7469\n",
      "Epoch 19: Training accuracy = 0.789525\n",
      "Validation accuracy: 0.7771\n",
      "Saved new best model with accuracy: 0.7771\n",
      "Epoch 20: Training accuracy = 0.7962\n",
      "Validation accuracy: 0.7695\n",
      "Epoch 21: Training accuracy = 0.796875\n",
      "Validation accuracy: 0.7709\n",
      "Epoch 22: Training accuracy = 0.802675\n",
      "Validation accuracy: 0.7684\n",
      "Epoch 23: Training accuracy = 0.80695\n",
      "Validation accuracy: 0.7698\n",
      "Epoch 24: Training accuracy = 0.80875\n",
      "Validation accuracy: 0.7702\n",
      "Epoch 25: Training accuracy = 0.812125\n",
      "Validation accuracy: 0.771\n",
      "Epoch 26: Training accuracy = 0.81685\n",
      "Validation accuracy: 0.7703\n",
      "Epoch 27: Training accuracy = 0.820125\n",
      "Validation accuracy: 0.7844\n",
      "Saved new best model with accuracy: 0.7844\n",
      "Epoch 28: Training accuracy = 0.823025\n",
      "Validation accuracy: 0.7687\n",
      "Epoch 29: Training accuracy = 0.827675\n",
      "Validation accuracy: 0.7833\n",
      "Epoch 30: Training accuracy = 0.827625\n",
      "Validation accuracy: 0.7922\n",
      "Saved new best model with accuracy: 0.7922\n",
      "Model accuracy on clean test set: 80.10%\n"
     ]
    },
    {
     "data": {
      "text/plain": [
       "(0.801, 0.199)"
      ]
     },
     "execution_count": 15,
     "metadata": {},
     "output_type": "execute_result"
    }
   ],
   "source": [
    "# # Load pre-trained model\n",
    "# resnet18 = models.resnet18(weights=\"DEFAULT\")\n",
    "\n",
    "# # ResNet is trained on ImageNet, which has 1000 classes\n",
    "# # So we need to modify the output layer for CIFAR-10, which has 10 classes\n",
    "# resnet18.fc = nn.Linear(resnet18.fc.in_features, 10)\n",
    "\n",
    "# # Finetune the model\n",
    "# fine_tune_for_cifar10(model=resnet18, num_epochs=30, model_path=\"resnet18.pth\")\n",
    "# # Load best model checkpoint\n",
    "# resnet18 = load_model(resnet18, \"resnet18.pth\", device=device)\n",
    "# # Test model performance on clean test dataset\n",
    "# test(model=resnet18, patch=None, target_class=None)"
   ]
  },
  {
   "cell_type": "code",
   "execution_count": 31,
   "id": "c0cf3bdd",
   "metadata": {},
   "outputs": [
    {
     "name": "stdout",
     "output_type": "stream",
     "text": [
      "Model accuracy on clean test set: 82.36%\n"
     ]
    },
    {
     "data": {
      "text/plain": [
       "(0.8236, 0.1764)"
      ]
     },
     "execution_count": 31,
     "metadata": {},
     "output_type": "execute_result"
    }
   ],
   "source": [
    "# Load pre-trained model\n",
    "resnet18 = models.resnet18(weights=\"DEFAULT\")\n",
    "# Load best model checkpoint after fine-tuning\n",
    "resnet18 = load_model(resnet18, \"resnet18.pth\", device=torch.device(\"mps\"))\n",
    "# Test model performance on clean test dataset\n",
    "test(model=resnet18, patch=None, target_class=None)"
   ]
  },
  {
   "cell_type": "markdown",
   "id": "ac973637",
   "metadata": {},
   "source": [
    "I tried to finetune again, and got 80.1%"
   ]
  },
  {
   "cell_type": "markdown",
   "id": "662a5a10-ba13-450a-b843-98ee0d4bc086",
   "metadata": {},
   "source": [
    "### Generate untargetted adversarial patch of size 8*8. With this patch applied to images, the model accuracy degrades to ~20%; the untargeted ASR achieves ~80%"
   ]
  },
  {
   "cell_type": "code",
   "execution_count": 35,
   "id": "cab68097-7b0b-4dab-93ff-34b147b0be5e",
   "metadata": {
    "scrolled": true
   },
   "outputs": [
    {
     "name": "stdout",
     "output_type": "stream",
     "text": [
      "Epoch 1\n",
      "Target class: None\n",
      "Accuracy: 0.4849\n",
      "\n",
      "Epoch 2\n",
      "Target class: None\n",
      "Accuracy: 0.3446\n",
      "\n",
      "Epoch 3\n",
      "Target class: None\n",
      "Accuracy: 0.2827\n",
      "\n",
      "Epoch 4\n",
      "Target class: None\n",
      "Accuracy: 0.2498\n",
      "\n",
      "Epoch 5\n",
      "Target class: None\n",
      "Accuracy: 0.2257\n",
      "\n",
      "Epoch 6\n",
      "Target class: None\n",
      "Accuracy: 0.2035\n",
      "\n",
      "Epoch 7\n",
      "Target class: None\n",
      "Accuracy: 0.1864\n",
      "\n",
      "Epoch 8\n",
      "Target class: None\n",
      "Accuracy: 0.1737\n",
      "\n",
      "Epoch 9\n",
      "Target class: None\n",
      "Accuracy: 0.1687\n",
      "\n",
      "Epoch 10\n",
      "Target class: None\n",
      "Accuracy: 0.1544\n",
      "\n"
     ]
    },
    {
     "data": {
      "image/png": "[encoded data removed]",
      "text/plain": [
       "<Figure size 640x480 with 1 Axes>"
      ]
     },
     "metadata": {},
     "output_type": "display_data"
    },
    {
     "name": "stdout",
     "output_type": "stream",
     "text": [
      "Model accuracy with adversarial patch: 17.94%\n",
      "Untargeted attack success rate on test set: 82.06%\n"
     ]
    },
    {
     "data": {
      "text/plain": [
       "(0.1794, 0.8206)"
      ]
     },
     "execution_count": 35,
     "metadata": {},
     "output_type": "execute_result"
    }
   ],
   "source": [
    "# Generate adversarial patch\n",
    "patch_untarget = generate_adversarial_patch(model=resnet18, patch_size=8, target_class=None, num_epochs=10, lr=1e-1, momentum=0.8)\n",
    "# Visualize the generated patch\n",
    "visualize_patch(patch_untarget)\n",
    "# Test adversarial success rate on test dataset\n",
    "test(model=resnet18, patch=patch_untarget, target_class=None)"
   ]
  },
  {
   "cell_type": "markdown",
   "id": "7980d290-2ae5-4d51-932f-7e3f5e2df79e",
   "metadata": {},
   "source": [
    "### Generate targetted adversarial patch of size 8*8, target class is set to 5 here.  With this patch applied to images, the model accuracy degrades to ~16%; the untargeted ASR achieves ~84%, the targetted ASR achieves ~72%"
   ]
  },
  {
   "cell_type": "code",
   "execution_count": 40,
   "id": "4ce4de4b-051c-4496-96dd-92572f47ec6b",
   "metadata": {
    "scrolled": true
   },
   "outputs": [
    {
     "name": "stdout",
     "output_type": "stream",
     "text": [
      "Epoch 1\n",
      "Target class: 5\n",
      "Percentage of samples predicted as target class 5: 5.76\n",
      "Accuracy: 0.5504\n",
      "\n",
      "Epoch 2\n",
      "Target class: 5\n",
      "Percentage of samples predicted as target class 5: 64.36\n",
      "Accuracy: 0.2499\n",
      "\n",
      "Epoch 3\n",
      "Target class: 5\n",
      "Percentage of samples predicted as target class 5: 71.82\n",
      "Accuracy: 0.2137\n",
      "\n",
      "Epoch 4\n",
      "Target class: 5\n",
      "Percentage of samples predicted as target class 5: 76.61\n",
      "Accuracy: 0.1824\n",
      "\n",
      "Epoch 5\n",
      "Target class: 5\n",
      "Percentage of samples predicted as target class 5: 77.8\n",
      "Accuracy: 0.1786\n",
      "\n",
      "Epoch 6\n",
      "Target class: 5\n",
      "Percentage of samples predicted as target class 5: 80.01\n",
      "Accuracy: 0.1734\n",
      "\n",
      "Epoch 7\n",
      "Target class: 5\n",
      "Percentage of samples predicted as target class 5: 80.5\n",
      "Accuracy: 0.1741\n",
      "\n",
      "Epoch 8\n",
      "Target class: 5\n",
      "Percentage of samples predicted as target class 5: 81.02000000000001\n",
      "Accuracy: 0.1641\n",
      "\n",
      "Epoch 9\n",
      "Target class: 5\n",
      "Percentage of samples predicted as target class 5: 82.96\n",
      "Accuracy: 0.1575\n",
      "\n",
      "Epoch 10\n",
      "Target class: 5\n",
      "Percentage of samples predicted as target class 5: 82.21000000000001\n",
      "Accuracy: 0.1602\n",
      "\n"
     ]
    },
    {
     "data": {
      "image/png": "[encoded data removed]",
      "text/plain": [
       "<Figure size 640x480 with 1 Axes>"
      ]
     },
     "metadata": {},
     "output_type": "display_data"
    },
    {
     "name": "stdout",
     "output_type": "stream",
     "text": [
      "Model accuracy with adversarial patch: 16.55%\n",
      "Untargeted attack success rate on test set: 83.45%\n",
      "Targeted attack success rate on test set for class 5: 71.14%\n"
     ]
    },
    {
     "data": {
      "text/plain": [
       "(0.1655, 0.8345, 0.7114)"
      ]
     },
     "execution_count": 40,
     "metadata": {},
     "output_type": "execute_result"
    }
   ],
   "source": [
    "# Generate adversarial patch\n",
    "patch_target = generate_adversarial_patch(model=resnet18, patch_size=8, target_class=5, num_epochs=10, lr=1e-1, momentum=0.8)\n",
    "# Visualize the generated patch\n",
    "visualize_patch(patch_target)\n",
    "# Test adversarial success rate on test dataset\n",
    "test(model=resnet18, patch=patch_target, target_class=5)"
   ]
  },
  {
   "cell_type": "markdown",
   "id": "7ccb2a1e-f6d6-4ac9-bf43-bf35070726c0",
   "metadata": {},
   "source": [
    "### Generate patches with side length of 3,5,7,10,13,16. Visualize patch_sizes v.s. untargeted ASR."
   ]
  },
  {
   "cell_type": "code",
   "execution_count": 14,
   "id": "4f7a4745-2d7c-4a1b-ac47-d26138fc52c4",
   "metadata": {
    "scrolled": true
   },
   "outputs": [
    {
     "name": "stdout",
     "output_type": "stream",
     "text": [
      "Epoch 1\n",
      "Target class: None\n",
      "Accuracy: 0.5982\n",
      "\n",
      "Epoch 2\n",
      "Target class: None\n",
      "Accuracy: 0.5081\n",
      "\n",
      "Epoch 3\n",
      "Target class: None\n",
      "Accuracy: 0.4407\n",
      "\n",
      "Epoch 4\n",
      "Target class: None\n",
      "Accuracy: 0.3934\n",
      "\n",
      "Epoch 5\n",
      "Target class: None\n",
      "Accuracy: 0.3668\n",
      "\n",
      "Epoch 6\n",
      "Target class: None\n",
      "Accuracy: 0.3316\n",
      "\n",
      "Epoch 7\n",
      "Target class: None\n",
      "Accuracy: 0.313\n",
      "\n",
      "Epoch 8\n",
      "Target class: None\n",
      "Accuracy: 0.2874\n",
      "\n",
      "Epoch 9\n",
      "Target class: None\n",
      "Accuracy: 0.2727\n",
      "\n",
      "Epoch 10\n",
      "Target class: None\n",
      "Accuracy: 0.2512\n",
      "\n"
     ]
    },
    {
     "data": {
      "image/png": "[encoded data removed]",
      "text/plain": [
       "<Figure size 640x480 with 1 Axes>"
      ]
     },
     "metadata": {},
     "output_type": "display_data"
    },
    {
     "name": "stdout",
     "output_type": "stream",
     "text": [
      "Model accuracy with adversarial patch: 28.18%\n",
      "Untargeted attack success rate on test set: 71.82%\n",
      "Epoch 1\n",
      "Target class: None\n",
      "Accuracy: 0.5421\n",
      "\n",
      "Epoch 2\n",
      "Target class: None\n",
      "Accuracy: 0.4564\n",
      "\n",
      "Epoch 3\n",
      "Target class: None\n",
      "Accuracy: 0.4099\n",
      "\n",
      "Epoch 4\n",
      "Target class: None\n",
      "Accuracy: 0.3684\n",
      "\n",
      "Epoch 5\n",
      "Target class: None\n",
      "Accuracy: 0.348\n",
      "\n",
      "Epoch 6\n",
      "Target class: None\n",
      "Accuracy: 0.3373\n",
      "\n",
      "Epoch 7\n",
      "Target class: None\n",
      "Accuracy: 0.32\n",
      "\n",
      "Epoch 8\n",
      "Target class: None\n",
      "Accuracy: 0.2999\n",
      "\n",
      "Epoch 9\n",
      "Target class: None\n",
      "Accuracy: 0.2816\n",
      "\n",
      "Epoch 10\n",
      "Target class: None\n",
      "Accuracy: 0.2638\n",
      "\n"
     ]
    },
    {
     "data": {
      "image/png": "[encoded data removed]",
      "text/plain": [
       "<Figure size 640x480 with 1 Axes>"
      ]
     },
     "metadata": {},
     "output_type": "display_data"
    },
    {
     "name": "stdout",
     "output_type": "stream",
     "text": [
      "Model accuracy with adversarial patch: 29.85%\n",
      "Untargeted attack success rate on test set: 70.15%\n",
      "Epoch 1\n",
      "Target class: None\n",
      "Accuracy: 0.5154\n",
      "\n",
      "Epoch 2\n",
      "Target class: None\n",
      "Accuracy: 0.4003\n",
      "\n",
      "Epoch 3\n",
      "Target class: None\n",
      "Accuracy: 0.334\n",
      "\n",
      "Epoch 4\n",
      "Target class: None\n",
      "Accuracy: 0.2888\n",
      "\n",
      "Epoch 5\n",
      "Target class: None\n",
      "Accuracy: 0.2608\n",
      "\n",
      "Epoch 6\n",
      "Target class: None\n",
      "Accuracy: 0.2421\n",
      "\n",
      "Epoch 7\n",
      "Target class: None\n",
      "Accuracy: 0.2175\n",
      "\n",
      "Epoch 8\n",
      "Target class: None\n",
      "Accuracy: 0.2132\n",
      "\n",
      "Epoch 9\n",
      "Target class: None\n",
      "Accuracy: 0.1966\n",
      "\n",
      "Epoch 10\n",
      "Target class: None\n",
      "Accuracy: 0.188\n",
      "\n"
     ]
    },
    {
     "data": {
      "image/png": "[encoded data removed]",
      "text/plain": [
       "<Figure size 640x480 with 1 Axes>"
      ]
     },
     "metadata": {},
     "output_type": "display_data"
    },
    {
     "name": "stdout",
     "output_type": "stream",
     "text": [
      "Model accuracy with adversarial patch: 21.03%\n",
      "Untargeted attack success rate on test set: 78.97%\n",
      "Epoch 1\n",
      "Target class: None\n",
      "Accuracy: 0.4646\n",
      "\n",
      "Epoch 2\n",
      "Target class: None\n",
      "Accuracy: 0.3515\n",
      "\n",
      "Epoch 3\n",
      "Target class: None\n",
      "Accuracy: 0.2698\n",
      "\n",
      "Epoch 4\n",
      "Target class: None\n",
      "Accuracy: 0.2305\n",
      "\n",
      "Epoch 5\n",
      "Target class: None\n",
      "Accuracy: 0.2045\n",
      "\n",
      "Epoch 6\n",
      "Target class: None\n",
      "Accuracy: 0.1788\n",
      "\n",
      "Epoch 7\n",
      "Target class: None\n",
      "Accuracy: 0.1765\n",
      "\n",
      "Epoch 8\n",
      "Target class: None\n",
      "Accuracy: 0.1626\n",
      "\n",
      "Epoch 9\n",
      "Target class: None\n",
      "Accuracy: 0.1588\n",
      "\n",
      "Epoch 10\n",
      "Target class: None\n",
      "Accuracy: 0.151\n",
      "\n"
     ]
    },
    {
     "data": {
      "image/png": "[encoded data removed]",
      "text/plain": [
       "<Figure size 640x480 with 1 Axes>"
      ]
     },
     "metadata": {},
     "output_type": "display_data"
    },
    {
     "name": "stdout",
     "output_type": "stream",
     "text": [
      "Model accuracy with adversarial patch: 16.09%\n",
      "Untargeted attack success rate on test set: 83.91%\n",
      "Epoch 1\n",
      "Target class: None\n",
      "Accuracy: 0.4151\n",
      "\n",
      "Epoch 2\n",
      "Target class: None\n",
      "Accuracy: 0.3326\n",
      "\n",
      "Epoch 3\n",
      "Target class: None\n",
      "Accuracy: 0.2947\n",
      "\n",
      "Epoch 4\n",
      "Target class: None\n",
      "Accuracy: 0.2726\n",
      "\n",
      "Epoch 5\n",
      "Target class: None\n",
      "Accuracy: 0.2517\n",
      "\n",
      "Epoch 6\n",
      "Target class: None\n",
      "Accuracy: 0.2549\n",
      "\n",
      "Epoch 7\n",
      "Target class: None\n",
      "Accuracy: 0.2386\n",
      "\n",
      "Epoch 8\n",
      "Target class: None\n",
      "Accuracy: 0.2352\n",
      "\n",
      "Epoch 9\n",
      "Target class: None\n",
      "Accuracy: 0.2286\n",
      "\n",
      "Epoch 10\n",
      "Target class: None\n",
      "Accuracy: 0.2163\n",
      "\n"
     ]
    },
    {
     "data": {
      "image/png": "[encoded data removed]",
      "text/plain": [
       "<Figure size 640x480 with 1 Axes>"
      ]
     },
     "metadata": {},
     "output_type": "display_data"
    },
    {
     "name": "stdout",
     "output_type": "stream",
     "text": [
      "Model accuracy with adversarial patch: 23.93%\n",
      "Untargeted attack success rate on test set: 76.07%\n",
      "Epoch 1\n",
      "Target class: None\n",
      "Accuracy: 0.3482\n",
      "\n",
      "Epoch 2\n",
      "Target class: None\n",
      "Accuracy: 0.2727\n",
      "\n",
      "Epoch 3\n",
      "Target class: None\n",
      "Accuracy: 0.2442\n",
      "\n",
      "Epoch 4\n",
      "Target class: None\n",
      "Accuracy: 0.1749\n",
      "\n",
      "Epoch 5\n",
      "Target class: None\n",
      "Accuracy: 0.1485\n",
      "\n",
      "Epoch 6\n",
      "Target class: None\n",
      "Accuracy: 0.1366\n",
      "\n",
      "Epoch 7\n",
      "Target class: None\n",
      "Accuracy: 0.1369\n",
      "\n",
      "Epoch 8\n",
      "Target class: None\n",
      "Accuracy: 0.1343\n",
      "\n",
      "Epoch 9\n",
      "Target class: None\n",
      "Accuracy: 0.1332\n",
      "\n",
      "Epoch 10\n",
      "Target class: None\n",
      "Accuracy: 0.1316\n",
      "\n"
     ]
    },
    {
     "data": {
      "image/png": "[encoded data removed]",
      "text/plain": [
       "<Figure size 640x480 with 1 Axes>"
      ]
     },
     "metadata": {},
     "output_type": "display_data"
    },
    {
     "name": "stdout",
     "output_type": "stream",
     "text": [
      "Model accuracy with adversarial patch: 13.66%\n",
      "Untargeted attack success rate on test set: 86.34%\n"
     ]
    },
    {
     "data": {
      "image/png": "[encoded data removed]",
      "text/plain": [
       "<Figure size 600x400 with 1 Axes>"
      ]
     },
     "metadata": {},
     "output_type": "display_data"
    }
   ],
   "source": [
    "patch_sizes = [3, 5, 7, 10, 13, 16]\n",
    "untargetted_asr_results = {}\n",
    "for size in patch_sizes:\n",
    "  patch = generate_adversarial_patch(model=resnet18, patch_size=size, target_class=None, num_epochs=10, lr=1e-1, momentum=0.8)\n",
    "  visualize_patch(patch)\n",
    "  adversarial_accuracy, untargetted_asr = test(model=resnet18, patch=patch, target_class=None)\n",
    "  untargetted_asr_results[size] = untargetted_asr\n",
    "plot_asr_vs_patch_size(patch_sizes, untargetted_asr_results)"
   ]
  },
  {
   "cell_type": "markdown",
   "id": "08c0bc71-330c-436a-8dbd-d16dfe7f35ef",
   "metadata": {},
   "source": [
    "### Generate patches with side length of 3,5,7,10,13,16. Visualize patch_sizes v.s. targeted ASR. Target class is set to 5 here."
   ]
  },
  {
   "cell_type": "code",
   "execution_count": 15,
   "id": "0d32b237-5078-49d4-a317-edc7631d2e98",
   "metadata": {
    "scrolled": true
   },
   "outputs": [
    {
     "name": "stdout",
     "output_type": "stream",
     "text": [
      "Epoch 1\n",
      "Target class: 5\n",
      "Percentage of samples predicted as target class 5: 5.88\n",
      "Accuracy: 0.592\n",
      "\n",
      "Epoch 2\n",
      "Target class: 5\n",
      "Percentage of samples predicted as target class 5: 21.97\n",
      "Accuracy: 0.3986\n",
      "\n",
      "Epoch 3\n",
      "Target class: 5\n",
      "Percentage of samples predicted as target class 5: 30.94\n",
      "Accuracy: 0.3238\n",
      "\n",
      "Epoch 4\n",
      "Target class: 5\n",
      "Percentage of samples predicted as target class 5: 35.099999999999994\n",
      "Accuracy: 0.2824\n",
      "\n",
      "Epoch 5\n",
      "Target class: 5\n",
      "Percentage of samples predicted as target class 5: 37.51\n",
      "Accuracy: 0.2559\n",
      "\n",
      "Epoch 6\n",
      "Target class: 5\n",
      "Percentage of samples predicted as target class 5: 39.15\n",
      "Accuracy: 0.2376\n",
      "\n",
      "Epoch 7\n",
      "Target class: 5\n",
      "Percentage of samples predicted as target class 5: 40.48\n",
      "Accuracy: 0.2323\n",
      "\n",
      "Epoch 8\n",
      "Target class: 5\n",
      "Percentage of samples predicted as target class 5: 41.199999999999996\n",
      "Accuracy: 0.2238\n",
      "\n",
      "Epoch 9\n",
      "Target class: 5\n",
      "Percentage of samples predicted as target class 5: 42.1\n",
      "Accuracy: 0.2234\n",
      "\n",
      "Epoch 10\n",
      "Target class: 5\n",
      "Percentage of samples predicted as target class 5: 43.19\n",
      "Accuracy: 0.2131\n",
      "\n"
     ]
    },
    {
     "data": {
      "image/png": "[encoded data removed]",
      "text/plain": [
       "<Figure size 640x480 with 1 Axes>"
      ]
     },
     "metadata": {},
     "output_type": "display_data"
    },
    {
     "name": "stdout",
     "output_type": "stream",
     "text": [
      "Model accuracy with adversarial patch: 23.14%\n",
      "Untargeted attack success rate on test set: 76.86%\n",
      "Targeted attack success rate on test set for class 5: 35.78%\n",
      "Epoch 1\n",
      "Target class: 5\n",
      "Percentage of samples predicted as target class 5: 4.71\n",
      "Accuracy: 0.5725\n",
      "\n",
      "Epoch 2\n",
      "Target class: 5\n",
      "Percentage of samples predicted as target class 5: 36.04\n",
      "Accuracy: 0.3453\n",
      "\n",
      "Epoch 3\n",
      "Target class: 5\n",
      "Percentage of samples predicted as target class 5: 47.24\n",
      "Accuracy: 0.2607\n",
      "\n",
      "Epoch 4\n",
      "Target class: 5\n",
      "Percentage of samples predicted as target class 5: 50.51\n",
      "Accuracy: 0.2261\n",
      "\n",
      "Epoch 5\n",
      "Target class: 5\n",
      "Percentage of samples predicted as target class 5: 52.93\n",
      "Accuracy: 0.2211\n",
      "\n",
      "Epoch 6\n",
      "Target class: 5\n",
      "Percentage of samples predicted as target class 5: 55.03\n",
      "Accuracy: 0.2057\n",
      "\n",
      "Epoch 7\n",
      "Target class: 5\n",
      "Percentage of samples predicted as target class 5: 55.65\n",
      "Accuracy: 0.1999\n",
      "\n",
      "Epoch 8\n",
      "Target class: 5\n",
      "Percentage of samples predicted as target class 5: 56.38999999999999\n",
      "Accuracy: 0.1924\n",
      "\n",
      "Epoch 9\n",
      "Target class: 5\n",
      "Percentage of samples predicted as target class 5: 57.550000000000004\n",
      "Accuracy: 0.1898\n",
      "\n",
      "Epoch 10\n",
      "Target class: 5\n",
      "Percentage of samples predicted as target class 5: 58.809999999999995\n",
      "Accuracy: 0.1829\n",
      "\n"
     ]
    },
    {
     "data": {
      "image/png": "[encoded data removed]",
      "text/plain": [
       "<Figure size 640x480 with 1 Axes>"
      ]
     },
     "metadata": {},
     "output_type": "display_data"
    },
    {
     "name": "stdout",
     "output_type": "stream",
     "text": [
      "Model accuracy with adversarial patch: 20.00%\n",
      "Untargeted attack success rate on test set: 80.00%\n",
      "Targeted attack success rate on test set for class 5: 49.88%\n",
      "Epoch 1\n",
      "Target class: 5\n",
      "Percentage of samples predicted as target class 5: 6.65\n",
      "Accuracy: 0.511\n",
      "\n",
      "Epoch 2\n",
      "Target class: 5\n",
      "Percentage of samples predicted as target class 5: 44.81\n",
      "Accuracy: 0.2938\n",
      "\n",
      "Epoch 3\n",
      "Target class: 5\n",
      "Percentage of samples predicted as target class 5: 54.790000000000006\n",
      "Accuracy: 0.2433\n",
      "\n",
      "Epoch 4\n",
      "Target class: 5\n",
      "Percentage of samples predicted as target class 5: 58.720000000000006\n",
      "Accuracy: 0.2361\n",
      "\n",
      "Epoch 5\n",
      "Target class: 5\n",
      "Percentage of samples predicted as target class 5: 61.91\n",
      "Accuracy: 0.2206\n",
      "\n",
      "Epoch 6\n",
      "Target class: 5\n",
      "Percentage of samples predicted as target class 5: 64.05\n",
      "Accuracy: 0.2146\n",
      "\n",
      "Epoch 7\n",
      "Target class: 5\n",
      "Percentage of samples predicted as target class 5: 65.25999999999999\n",
      "Accuracy: 0.2046\n",
      "\n",
      "Epoch 8\n",
      "Target class: 5\n",
      "Percentage of samples predicted as target class 5: 67.38\n",
      "Accuracy: 0.1976\n",
      "\n",
      "Epoch 9\n",
      "Target class: 5\n",
      "Percentage of samples predicted as target class 5: 68.02\n",
      "Accuracy: 0.195\n",
      "\n",
      "Epoch 10\n",
      "Target class: 5\n",
      "Percentage of samples predicted as target class 5: 69.93\n",
      "Accuracy: 0.1823\n",
      "\n"
     ]
    },
    {
     "data": {
      "image/png": "[encoded data removed]",
      "text/plain": [
       "<Figure size 640x480 with 1 Axes>"
      ]
     },
     "metadata": {},
     "output_type": "display_data"
    },
    {
     "name": "stdout",
     "output_type": "stream",
     "text": [
      "Model accuracy with adversarial patch: 20.93%\n",
      "Untargeted attack success rate on test set: 79.07%\n",
      "Targeted attack success rate on test set for class 5: 59.15%\n",
      "Epoch 1\n",
      "Target class: 5\n",
      "Percentage of samples predicted as target class 5: 5.18\n",
      "Accuracy: 0.4907\n",
      "\n",
      "Epoch 2\n",
      "Target class: 5\n",
      "Percentage of samples predicted as target class 5: 75.49\n",
      "Accuracy: 0.2105\n",
      "\n",
      "Epoch 3\n",
      "Target class: 5\n",
      "Percentage of samples predicted as target class 5: 82.28\n",
      "Accuracy: 0.177\n",
      "\n",
      "Epoch 4\n",
      "Target class: 5\n",
      "Percentage of samples predicted as target class 5: 85.50999999999999\n",
      "Accuracy: 0.1606\n",
      "\n",
      "Epoch 5\n",
      "Target class: 5\n",
      "Percentage of samples predicted as target class 5: 87.48\n",
      "Accuracy: 0.1545\n",
      "\n",
      "Epoch 6\n",
      "Target class: 5\n",
      "Percentage of samples predicted as target class 5: 89.2\n",
      "Accuracy: 0.1458\n",
      "\n",
      "Epoch 7\n",
      "Target class: 5\n",
      "Percentage of samples predicted as target class 5: 90.72\n",
      "Accuracy: 0.1375\n",
      "\n",
      "Epoch 8\n",
      "Target class: 5\n",
      "Percentage of samples predicted as target class 5: 91.28\n",
      "Accuracy: 0.1404\n",
      "\n",
      "Epoch 9\n",
      "Target class: 5\n",
      "Percentage of samples predicted as target class 5: 92.39\n",
      "Accuracy: 0.1343\n",
      "\n",
      "Epoch 10\n",
      "Target class: 5\n",
      "Percentage of samples predicted as target class 5: 92.5\n",
      "Accuracy: 0.134\n",
      "\n"
     ]
    },
    {
     "data": {
      "image/png": "[encoded data removed]",
      "text/plain": [
       "<Figure size 640x480 with 1 Axes>"
      ]
     },
     "metadata": {},
     "output_type": "display_data"
    },
    {
     "name": "stdout",
     "output_type": "stream",
     "text": [
      "Model accuracy with adversarial patch: 13.51%\n",
      "Untargeted attack success rate on test set: 86.49%\n",
      "Targeted attack success rate on test set for class 5: 80.51%\n",
      "Epoch 1\n",
      "Target class: 5\n",
      "Percentage of samples predicted as target class 5: 4.66\n",
      "Accuracy: 0.4145\n",
      "\n",
      "Epoch 2\n",
      "Target class: 5\n",
      "Percentage of samples predicted as target class 5: 89.3\n",
      "Accuracy: 0.1467\n",
      "\n",
      "Epoch 3\n",
      "Target class: 5\n",
      "Percentage of samples predicted as target class 5: 93.77\n",
      "Accuracy: 0.1297\n",
      "\n",
      "Epoch 4\n",
      "Target class: 5\n",
      "Percentage of samples predicted as target class 5: 95.86\n",
      "Accuracy: 0.1225\n",
      "\n",
      "Epoch 5\n",
      "Target class: 5\n",
      "Percentage of samples predicted as target class 5: 96.64\n",
      "Accuracy: 0.1178\n",
      "\n",
      "Epoch 6\n",
      "Target class: 5\n",
      "Percentage of samples predicted as target class 5: 96.97\n",
      "Accuracy: 0.1167\n",
      "\n",
      "Epoch 7\n",
      "Target class: 5\n",
      "Percentage of samples predicted as target class 5: 97.2\n",
      "Accuracy: 0.1137\n",
      "\n",
      "Epoch 8\n",
      "Target class: 5\n",
      "Percentage of samples predicted as target class 5: 97.63\n",
      "Accuracy: 0.1137\n",
      "\n",
      "Epoch 9\n",
      "Target class: 5\n",
      "Percentage of samples predicted as target class 5: 97.85000000000001\n",
      "Accuracy: 0.1125\n",
      "\n",
      "Epoch 10\n",
      "Target class: 5\n",
      "Percentage of samples predicted as target class 5: 98.06\n",
      "Accuracy: 0.1108\n",
      "\n"
     ]
    },
    {
     "data": {
      "image/png": "[encoded data removed]",
      "text/plain": [
       "<Figure size 640x480 with 1 Axes>"
      ]
     },
     "metadata": {},
     "output_type": "display_data"
    },
    {
     "name": "stdout",
     "output_type": "stream",
     "text": [
      "Model accuracy with adversarial patch: 11.19%\n",
      "Untargeted attack success rate on test set: 88.81%\n",
      "Targeted attack success rate on test set for class 5: 86.97%\n",
      "Epoch 1\n",
      "Target class: 5\n",
      "Percentage of samples predicted as target class 5: 5.52\n",
      "Accuracy: 0.3656\n",
      "\n",
      "Epoch 2\n",
      "Target class: 5\n",
      "Percentage of samples predicted as target class 5: 98.37\n",
      "Accuracy: 0.111\n",
      "\n",
      "Epoch 3\n",
      "Target class: 5\n",
      "Percentage of samples predicted as target class 5: 99.0\n",
      "Accuracy: 0.1076\n",
      "\n",
      "Epoch 4\n",
      "Target class: 5\n",
      "Percentage of samples predicted as target class 5: 99.31\n",
      "Accuracy: 0.106\n",
      "\n",
      "Epoch 5\n",
      "Target class: 5\n",
      "Percentage of samples predicted as target class 5: 99.24\n",
      "Accuracy: 0.1078\n",
      "\n",
      "Epoch 6\n",
      "Target class: 5\n",
      "Percentage of samples predicted as target class 5: 99.53\n",
      "Accuracy: 0.1052\n",
      "\n",
      "Epoch 7\n",
      "Target class: 5\n",
      "Percentage of samples predicted as target class 5: 99.68\n",
      "Accuracy: 0.1052\n",
      "\n",
      "Epoch 8\n",
      "Target class: 5\n",
      "Percentage of samples predicted as target class 5: 99.62\n",
      "Accuracy: 0.1051\n",
      "\n",
      "Epoch 9\n",
      "Target class: 5\n",
      "Percentage of samples predicted as target class 5: 99.72\n",
      "Accuracy: 0.1049\n",
      "\n",
      "Epoch 10\n",
      "Target class: 5\n",
      "Percentage of samples predicted as target class 5: 99.74\n",
      "Accuracy: 0.1047\n",
      "\n"
     ]
    },
    {
     "data": {
      "image/png": "[encoded data removed]",
      "text/plain": [
       "<Figure size 640x480 with 1 Axes>"
      ]
     },
     "metadata": {},
     "output_type": "display_data"
    },
    {
     "name": "stdout",
     "output_type": "stream",
     "text": [
      "Model accuracy with adversarial patch: 10.13%\n",
      "Untargeted attack success rate on test set: 89.87%\n",
      "Targeted attack success rate on test set for class 5: 89.59%\n"
     ]
    },
    {
     "data": {
      "image/png": "[encoded data removed]",
      "text/plain": [
       "<Figure size 600x400 with 1 Axes>"
      ]
     },
     "metadata": {},
     "output_type": "display_data"
    }
   ],
   "source": [
    "patch_sizes = [3, 5, 7, 10, 13, 16]\n",
    "targetted_asr_results = {}\n",
    "for size in patch_sizes:\n",
    "  patch = generate_adversarial_patch(model=resnet18, patch_size=size, target_class=5, num_epochs=10, lr=1e-1, momentum=0.8)\n",
    "  visualize_patch(patch)\n",
    "  adversarial_accuracy, untargetted_asr, targetted_asr = test(model=resnet18, patch=patch, target_class=5)\n",
    "  targetted_asr_results[size] = targetted_asr\n",
    "plot_asr_vs_patch_size(patch_sizes, targetted_asr_results)"
   ]
  },
  {
   "cell_type": "markdown",
   "id": "aaad9912-b17e-4dcb-ab2e-f3ce64c117be",
   "metadata": {},
   "source": [
    "### Test untarget & target attack on ResNet50, using the 8*8 patch."
   ]
  },
  {
   "cell_type": "code",
   "execution_count": 16,
   "id": "e2acfab8-fbaa-40ce-9d8d-0c57d3c223d2",
   "metadata": {
    "scrolled": true
   },
   "outputs": [
    {
     "name": "stdout",
     "output_type": "stream",
     "text": [
      "Epoch 1: Training accuracy = 0.5049\n",
      "Validation accuracy: 0.6656\n",
      "Saved new best model with accuracy: 0.6656\n",
      "Epoch 2: Training accuracy = 0.574475\n",
      "Validation accuracy: 0.6607\n",
      "Epoch 3: Training accuracy = 0.6967\n",
      "Validation accuracy: 0.7399\n",
      "Saved new best model with accuracy: 0.7399\n",
      "Epoch 4: Training accuracy = 0.739175\n",
      "Validation accuracy: 0.7597\n",
      "Saved new best model with accuracy: 0.7597\n",
      "Epoch 5: Training accuracy = 0.7605\n",
      "Validation accuracy: 0.7874\n",
      "Saved new best model with accuracy: 0.7874\n",
      "Epoch 6: Training accuracy = 0.7839\n",
      "Validation accuracy: 0.8058\n",
      "Saved new best model with accuracy: 0.8058\n",
      "Epoch 7: Training accuracy = 0.7987\n",
      "Validation accuracy: 0.7682\n",
      "Epoch 8: Training accuracy = 0.808225\n",
      "Validation accuracy: 0.7908\n",
      "Epoch 9: Training accuracy = 0.8207\n",
      "Validation accuracy: 0.811\n",
      "Saved new best model with accuracy: 0.8110\n",
      "Epoch 10: Training accuracy = 0.827525\n",
      "Validation accuracy: 0.8183\n",
      "Saved new best model with accuracy: 0.8183\n",
      "Epoch 11: Training accuracy = 0.836525\n",
      "Validation accuracy: 0.8317\n",
      "Saved new best model with accuracy: 0.8317\n",
      "Epoch 12: Training accuracy = 0.843625\n",
      "Validation accuracy: 0.8077\n",
      "Epoch 13: Training accuracy = 0.848525\n",
      "Validation accuracy: 0.8119\n",
      "Epoch 14: Training accuracy = 0.853225\n",
      "Validation accuracy: 0.8345\n",
      "Saved new best model with accuracy: 0.8345\n",
      "Epoch 15: Training accuracy = 0.859525\n",
      "Validation accuracy: 0.8004\n",
      "Epoch 16: Training accuracy = 0.86505\n",
      "Validation accuracy: 0.8278\n",
      "Epoch 17: Training accuracy = 0.866975\n",
      "Validation accuracy: 0.8389\n",
      "Saved new best model with accuracy: 0.8389\n",
      "Epoch 18: Training accuracy = 0.872\n",
      "Validation accuracy: 0.8373\n",
      "Epoch 19: Training accuracy = 0.874875\n",
      "Validation accuracy: 0.8424\n",
      "Saved new best model with accuracy: 0.8424\n",
      "Epoch 20: Training accuracy = 0.881025\n",
      "Validation accuracy: 0.845\n",
      "Saved new best model with accuracy: 0.8450\n",
      "Epoch 21: Training accuracy = 0.882575\n",
      "Validation accuracy: 0.8436\n",
      "Epoch 22: Training accuracy = 0.884675\n",
      "Validation accuracy: 0.8379\n",
      "Epoch 23: Training accuracy = 0.88975\n",
      "Validation accuracy: 0.8453\n",
      "Saved new best model with accuracy: 0.8453\n",
      "Epoch 24: Training accuracy = 0.894175\n",
      "Validation accuracy: 0.8408\n",
      "Epoch 25: Training accuracy = 0.896475\n",
      "Validation accuracy: 0.8458\n",
      "Saved new best model with accuracy: 0.8458\n",
      "Epoch 26: Training accuracy = 0.89725\n",
      "Validation accuracy: 0.8551\n",
      "Saved new best model with accuracy: 0.8551\n",
      "Epoch 27: Training accuracy = 0.899875\n",
      "Validation accuracy: 0.8627\n",
      "Saved new best model with accuracy: 0.8627\n",
      "Epoch 28: Training accuracy = 0.90215\n",
      "Validation accuracy: 0.8532\n",
      "Epoch 29: Training accuracy = 0.903625\n",
      "Validation accuracy: 0.8513\n",
      "Epoch 30: Training accuracy = 0.904425\n",
      "Validation accuracy: 0.8496\n",
      "Model accuracy on clean test set: 87.30%\n",
      "Model accuracy with adversarial patch: 13.01%\n",
      "Untargeted attack success rate on test set: 86.99%\n",
      "Model accuracy with adversarial patch: 28.87%\n",
      "Untargeted attack success rate on test set: 71.13%\n",
      "Targeted attack success rate on test set for class 5: 16.20%\n"
     ]
    },
    {
     "data": {
      "text/plain": [
       "(0.2887, 0.7113, 0.162)"
      ]
     },
     "execution_count": 16,
     "metadata": {},
     "output_type": "execute_result"
    }
   ],
   "source": [
    "# # Load pre-trained model\n",
    "# resnet50 = models.resnet50(weights=\"DEFAULT\")\n",
    "\n",
    "# # ResNet is trained on ImageNet, which has 1000 classes\n",
    "# # So we need to modify the output layer for CIFAR-10, which has 10 classes\n",
    "# resnet50.fc = nn.Linear(resnet50.fc.in_features, 10)\n",
    "\n",
    "# # Finetune the model\n",
    "# fine_tune_for_cifar10(model=resnet50, num_epochs=30, model_path=\"resnet50.pth\")\n"
   ]
  },
  {
   "cell_type": "code",
   "execution_count": 42,
   "id": "4e99c789",
   "metadata": {},
   "outputs": [
    {
     "name": "stdout",
     "output_type": "stream",
     "text": [
      "Model accuracy on clean test set: 87.30%\n",
      "Model accuracy with adversarial patch: 11.28%\n",
      "Untargeted attack success rate on test set: 88.72%\n",
      "Model accuracy with adversarial patch: 25.19%\n",
      "Untargeted attack success rate on test set: 74.81%\n",
      "Targeted attack success rate on test set for class 5: 17.55%\n"
     ]
    },
    {
     "data": {
      "text/plain": [
       "(0.2519, 0.7481, 0.1755)"
      ]
     },
     "execution_count": 42,
     "metadata": {},
     "output_type": "execute_result"
    }
   ],
   "source": [
    "# Load pre-trained model\n",
    "resnet50 = models.resnet50(weights=\"DEFAULT\")\n",
    "\n",
    "# ResNet is trained on ImageNet, which has 1000 classes\n",
    "# So we need to modify the output layer for CIFAR-10, which has 10 classes\n",
    "resnet50.fc = nn.Linear(resnet50.fc.in_features, 10)\n",
    "# Load best model checkpoint\n",
    "resnet50 = load_model(resnet50, \"resnet50.pth\", device=device)\n",
    "# Test model performance on clean test dataset\n",
    "test(model=resnet50, patch=None, target_class=None)\n",
    "\n",
    "# Untargeted Attack\n",
    "test(model=resnet50, patch=patch_untarget, target_class=None)\n",
    "# Targeted Attack\n",
    "test(model=resnet50, patch=patch_target, target_class=5)"
   ]
  },
  {
   "cell_type": "markdown",
   "id": "a64005c4-e6c2-435a-928e-2e0d96038cc0",
   "metadata": {},
   "source": [
    "### Test untarget & target attack on VGG19"
   ]
  },
  {
   "cell_type": "code",
   "execution_count": 18,
   "id": "c80466fd-f3f7-4fb7-8d44-c9544dd0346b",
   "metadata": {
    "scrolled": true
   },
   "outputs": [
    {
     "name": "stdout",
     "output_type": "stream",
     "text": [
      "Epoch 1: Training accuracy = 0.5275\n",
      "Validation accuracy: 0.7048\n",
      "Saved new best model with accuracy: 0.7048\n",
      "Epoch 2: Training accuracy = 0.737375\n",
      "Validation accuracy: 0.7765\n",
      "Saved new best model with accuracy: 0.7765\n",
      "Epoch 3: Training accuracy = 0.78545\n",
      "Validation accuracy: 0.754\n",
      "Epoch 4: Training accuracy = 0.8114\n",
      "Validation accuracy: 0.8062\n",
      "Saved new best model with accuracy: 0.8062\n",
      "Epoch 5: Training accuracy = 0.827975\n",
      "Validation accuracy: 0.8081\n",
      "Saved new best model with accuracy: 0.8081\n",
      "Epoch 6: Training accuracy = 0.840475\n",
      "Validation accuracy: 0.8022\n",
      "Epoch 7: Training accuracy = 0.851325\n",
      "Validation accuracy: 0.8392\n",
      "Saved new best model with accuracy: 0.8392\n",
      "Epoch 8: Training accuracy = 0.863825\n",
      "Validation accuracy: 0.8489\n",
      "Saved new best model with accuracy: 0.8489\n",
      "Epoch 9: Training accuracy = 0.871475\n",
      "Validation accuracy: 0.8587\n",
      "Saved new best model with accuracy: 0.8587\n",
      "Epoch 10: Training accuracy = 0.87895\n",
      "Validation accuracy: 0.8558\n",
      "Epoch 11: Training accuracy = 0.88135\n",
      "Validation accuracy: 0.8565\n",
      "Epoch 12: Training accuracy = 0.8917\n",
      "Validation accuracy: 0.8632\n",
      "Saved new best model with accuracy: 0.8632\n",
      "Epoch 13: Training accuracy = 0.896425\n",
      "Validation accuracy: 0.8634\n",
      "Saved new best model with accuracy: 0.8634\n",
      "Epoch 14: Training accuracy = 0.897925\n",
      "Validation accuracy: 0.8677\n",
      "Saved new best model with accuracy: 0.8677\n",
      "Epoch 15: Training accuracy = 0.905325\n",
      "Validation accuracy: 0.8765\n",
      "Saved new best model with accuracy: 0.8765\n",
      "Epoch 16: Training accuracy = 0.907425\n",
      "Validation accuracy: 0.8353\n",
      "Epoch 17: Training accuracy = 0.91135\n",
      "Validation accuracy: 0.8604\n",
      "Epoch 18: Training accuracy = 0.9144\n",
      "Validation accuracy: 0.869\n",
      "Epoch 19: Training accuracy = 0.918875\n",
      "Validation accuracy: 0.8746\n",
      "Epoch 20: Training accuracy = 0.9198\n",
      "Validation accuracy: 0.8493\n",
      "Epoch 21: Training accuracy = 0.919425\n",
      "Validation accuracy: 0.8697\n",
      "Epoch 22: Training accuracy = 0.92065\n",
      "Validation accuracy: 0.8725\n",
      "Epoch 23: Training accuracy = 0.92815\n",
      "Validation accuracy: 0.8773\n",
      "Saved new best model with accuracy: 0.8773\n",
      "Epoch 24: Training accuracy = 0.9294\n",
      "Validation accuracy: 0.8782\n",
      "Saved new best model with accuracy: 0.8782\n",
      "Epoch 25: Training accuracy = 0.93205\n",
      "Validation accuracy: 0.8672\n",
      "Epoch 26: Training accuracy = 0.93735\n",
      "Validation accuracy: 0.8699\n",
      "Epoch 27: Training accuracy = 0.9356\n",
      "Validation accuracy: 0.8803\n",
      "Saved new best model with accuracy: 0.8803\n",
      "Epoch 28: Training accuracy = 0.9337\n",
      "Validation accuracy: 0.8778\n",
      "Epoch 29: Training accuracy = 0.939525\n",
      "Validation accuracy: 0.8777\n",
      "Epoch 30: Training accuracy = 0.94065\n",
      "Validation accuracy: 0.8836\n",
      "Saved new best model with accuracy: 0.8836\n",
      "Model accuracy on clean test set: 88.50%\n",
      "Model accuracy with adversarial patch: 17.03%\n",
      "Untargeted attack success rate on test set: 82.97%\n",
      "Model accuracy with adversarial patch: 20.00%\n",
      "Untargeted attack success rate on test set: 80.00%\n",
      "Targeted attack success rate on test set for class 5: 7.88%\n"
     ]
    },
    {
     "data": {
      "text/plain": [
       "(0.2, 0.8, 0.0788)"
      ]
     },
     "execution_count": 18,
     "metadata": {},
     "output_type": "execute_result"
    }
   ],
   "source": [
    "# Load pre-trained model\n",
    "vgg19 = models.vgg19(weights=\"DEFAULT\")\n",
    "\n",
    "# Get the number of input features to the classifier\n",
    "num_features = vgg19.classifier[-1].in_features\n",
    "\n",
    "# Replace the last layer (classifier) for CIFAR-10, which has 10 classes\n",
    "vgg19.classifier[-1] = nn.Linear(num_features, 10)\n",
    "\n",
    "# Finetune the model\n",
    "fine_tune_for_cifar10(model=vgg19, num_epochs=30, model_path=\"vgg19.pth\")\n",
    "# Load best model checkpoint\n",
    "vgg19 = load_model(vgg19, \"vgg19.pth\")\n",
    "# Test model performance on clean test dataset\n",
    "test(model=vgg19, patch=None, target_class=None)\n",
    "\n",
    "# Untargeted Attack\n",
    "test(model=vgg19, patch=patch_untarget, target_class=None)\n",
    "# Targeted Attack\n",
    "test(model=vgg19, patch=patch_target, target_class=5)"
   ]
  },
  {
   "cell_type": "markdown",
   "id": "4d7d9869-859c-41f6-81ec-68354ee9f502",
   "metadata": {},
   "source": [
    "### Test untarget & target attack on DenseNet121"
   ]
  },
  {
   "cell_type": "code",
   "execution_count": 19,
   "id": "864dc4b4-9a41-4aea-8fea-67c829b7192f",
   "metadata": {},
   "outputs": [
    {
     "name": "stderr",
     "output_type": "stream",
     "text": [
      "Downloading: \"https://download.pytorch.org/models/densenet121-a639ec97.pth\" to /home/jamie/.cache/torch/hub/checkpoints/densenet121-a639ec97.pth\n",
      "100%|██████████| 30.8M/30.8M [00:00<00:00, 77.7MB/s]\n"
     ]
    },
    {
     "name": "stdout",
     "output_type": "stream",
     "text": [
      "Epoch 1: Training accuracy = 0.215075\n",
      "Validation accuracy: 0.2725\n",
      "Saved new best model with accuracy: 0.2725\n",
      "Epoch 2: Training accuracy = 0.2906\n",
      "Validation accuracy: 0.3427\n",
      "Saved new best model with accuracy: 0.3427\n",
      "Epoch 3: Training accuracy = 0.36095\n",
      "Validation accuracy: 0.3635\n",
      "Saved new best model with accuracy: 0.3635\n",
      "Epoch 4: Training accuracy = 0.391225\n",
      "Validation accuracy: 0.4132\n",
      "Saved new best model with accuracy: 0.4132\n",
      "Epoch 5: Training accuracy = 0.418175\n",
      "Validation accuracy: 0.4053\n",
      "Epoch 6: Training accuracy = 0.443925\n",
      "Validation accuracy: 0.4458\n",
      "Saved new best model with accuracy: 0.4458\n",
      "Epoch 7: Training accuracy = 0.4673\n",
      "Validation accuracy: 0.4831\n",
      "Saved new best model with accuracy: 0.4831\n",
      "Epoch 8: Training accuracy = 0.4839\n",
      "Validation accuracy: 0.4772\n",
      "Epoch 9: Training accuracy = 0.494725\n",
      "Validation accuracy: 0.5023\n",
      "Saved new best model with accuracy: 0.5023\n",
      "Epoch 10: Training accuracy = 0.510225\n",
      "Validation accuracy: 0.5168\n",
      "Saved new best model with accuracy: 0.5168\n",
      "Epoch 11: Training accuracy = 0.524275\n",
      "Validation accuracy: 0.4969\n",
      "Epoch 12: Training accuracy = 0.537775\n",
      "Validation accuracy: 0.5334\n",
      "Saved new best model with accuracy: 0.5334\n",
      "Epoch 13: Training accuracy = 0.54865\n",
      "Validation accuracy: 0.5386\n",
      "Saved new best model with accuracy: 0.5386\n",
      "Epoch 14: Training accuracy = 0.556425\n",
      "Validation accuracy: 0.5392\n",
      "Saved new best model with accuracy: 0.5392\n",
      "Epoch 15: Training accuracy = 0.567125\n",
      "Validation accuracy: 0.5748\n",
      "Saved new best model with accuracy: 0.5748\n",
      "Epoch 16: Training accuracy = 0.5776\n",
      "Validation accuracy: 0.5852\n",
      "Saved new best model with accuracy: 0.5852\n",
      "Epoch 17: Training accuracy = 0.584275\n",
      "Validation accuracy: 0.5798\n",
      "Epoch 18: Training accuracy = 0.593125\n",
      "Validation accuracy: 0.5714\n",
      "Epoch 19: Training accuracy = 0.601725\n",
      "Validation accuracy: 0.6033\n",
      "Saved new best model with accuracy: 0.6033\n",
      "Epoch 20: Training accuracy = 0.612075\n",
      "Validation accuracy: 0.6139\n",
      "Saved new best model with accuracy: 0.6139\n",
      "Epoch 21: Training accuracy = 0.619525\n",
      "Validation accuracy: 0.6122\n",
      "Epoch 22: Training accuracy = 0.621125\n",
      "Validation accuracy: 0.5675\n",
      "Epoch 23: Training accuracy = 0.62875\n",
      "Validation accuracy: 0.625\n",
      "Saved new best model with accuracy: 0.6250\n",
      "Epoch 24: Training accuracy = 0.634625\n",
      "Validation accuracy: 0.6145\n",
      "Epoch 25: Training accuracy = 0.643675\n",
      "Validation accuracy: 0.6135\n",
      "Epoch 26: Training accuracy = 0.647625\n",
      "Validation accuracy: 0.6481\n",
      "Saved new best model with accuracy: 0.6481\n",
      "Epoch 27: Training accuracy = 0.6549\n",
      "Validation accuracy: 0.6194\n",
      "Epoch 28: Training accuracy = 0.655075\n",
      "Validation accuracy: 0.6552\n",
      "Saved new best model with accuracy: 0.6552\n",
      "Epoch 29: Training accuracy = 0.6616\n",
      "Validation accuracy: 0.6608\n",
      "Saved new best model with accuracy: 0.6608\n",
      "Epoch 30: Training accuracy = 0.668025\n",
      "Validation accuracy: 0.6531\n",
      "Model accuracy on clean test set: 67.29%\n",
      "Model accuracy with adversarial patch: 20.97%\n",
      "Untargeted attack success rate on test set: 79.03%\n",
      "Model accuracy with adversarial patch: 23.34%\n",
      "Untargeted attack success rate on test set: 76.66%\n",
      "Targeted attack success rate on test set for class 5: 32.50%\n"
     ]
    },
    {
     "data": {
      "text/plain": [
       "(0.2334, 0.7666, 0.325)"
      ]
     },
     "execution_count": 19,
     "metadata": {},
     "output_type": "execute_result"
    }
   ],
   "source": [
    "# Load pre-trained model\n",
    "densenet121 = models.densenet121(weights=\"DEFAULT\")\n",
    "\n",
    "num_features = densenet121.classifier.in_features  # Get the number of input features\n",
    "densenet121.classifier = nn.Linear(num_features, 10)  # Replace the classifier for CIFAR-10\n",
    "\n",
    "# Finetune the model\n",
    "fine_tune_for_cifar10(model=densenet121, num_epochs=30, model_path=\"densenet121.pth\")\n",
    "# Load best model checkpoint\n",
    "densenet121 = load_model(densenet121, \"densenet121.pth\")\n",
    "# Test model performance on clean test dataset\n",
    "test(model=densenet121, patch=None, target_class=None)\n",
    "\n",
    "# Untargeted Attack\n",
    "test(model=densenet121, patch=patch_untarget, target_class=None)\n",
    "# Targeted Attack\n",
    "test(model=densenet121, patch=patch_target, target_class=5)"
   ]
  },
  {
   "cell_type": "code",
   "execution_count": 43,
   "id": "8b3068d4-fd83-4177-b9e0-56666519c779",
   "metadata": {},
   "outputs": [
    {
     "name": "stdout",
     "output_type": "stream",
     "text": [
      "+-------------+------------------+----------------+\n",
      "| Model       |   Untargeted ASR |   Targeted ASR |\n",
      "+=============+==================+================+\n",
      "| ResNet50    |          0.74811 |         0.1755 |\n",
      "+-------------+------------------+----------------+\n",
      "| DenseNet121 |          0.7666  |         0.325  |\n",
      "+-------------+------------------+----------------+\n",
      "| VGG19       |          0.8     |         0.0788 |\n",
      "+-------------+------------------+----------------+\n"
     ]
    }
   ],
   "source": [
    "from tabulate import tabulate\n",
    "\n",
    "# Define the table data\n",
    "table_data = [\n",
    "    [\"Model\", \"Untargeted ASR\", \"Targeted ASR\"],\n",
    "    [\"ResNet50\", 0.74811, 0.1755],\n",
    "    [\"DenseNet121\", 0.7666, 0.3250],\n",
    "    [\"VGG19\", 0.800, 0.0788]\n",
    "\n",
    "]\n",
    "\n",
    "# Print the table\n",
    "print(tabulate(table_data, headers=\"firstrow\", tablefmt=\"grid\"))\n"
   ]
  },
  {
   "cell_type": "markdown",
   "id": "dd7485f6",
   "metadata": {},
   "source": [
    "### Extension: more Data Augmentation: horizontal flips, vertical flips, and color inversions."
   ]
  },
  {
   "cell_type": "code",
   "execution_count": 44,
   "id": "eb8452f4",
   "metadata": {},
   "outputs": [],
   "source": [
    "# Apply patch to a batch of images with additional transformations (rotation, horizontal flip, vertical flip, color inversion)\n",
    "def apply_extension(patch, batch_of_images):\n",
    "    num_images = batch_of_images.shape[0]\n",
    "    patch_size = patch.shape[1]  \n",
    "    \n",
    "    # Iterate through each image in the batch\n",
    "    for i in range(num_images):\n",
    "        # Rotate the patch by a random number of degrees\n",
    "        degree = random.uniform(0, 360)\n",
    "        patch_rotated = TF.rotate(patch, angle=degree)\n",
    "\n",
    "        # Apply horizontal flip with 50% probability\n",
    "        if random.random() > 0.5:\n",
    "            patch_rotated = TF.hflip(patch_rotated)\n",
    "        \n",
    "        # Apply vertical flip with 50% probability\n",
    "        if random.random() > 0.5:\n",
    "            patch_rotated = TF.vflip(patch_rotated)\n",
    "\n",
    "        # Apply color inversion with 50% probability\n",
    "        if random.random() > 0.5:\n",
    "            patch_rotated = TF.invert(patch_rotated)\n",
    "\n",
    "        # Randomly choose an (x, y) coordinate on the 32x32 CIFAR-10 image\n",
    "        # This coordinate will be where the top left corner of the rotated patch goes\n",
    "        top_left_x = random.randint(0, 31 - patch_size)\n",
    "        top_left_y = random.randint(0, 31 - patch_size)\n",
    "\n",
    "        # Apply the randomly transformed patch at the random location\n",
    "        batch_of_images[i, :, top_left_x:top_left_x+patch_size, top_left_y:top_left_y+patch_size] = patch_rotated\n",
    "\n",
    "    return batch_of_images\n"
   ]
  },
  {
   "cell_type": "code",
   "execution_count": null,
   "id": "7373a6df",
   "metadata": {},
   "outputs": [],
   "source": [
    "# Load pre-trained model\n",
    "resnet18ex = models.resnet18(weights=\"DEFAULT\")\n",
    "\n",
    "# ResNet is trained on ImageNet, which has 1000 classes\n",
    "# So we need to modify the output layer for CIFAR-10, which has 10 classes\n",
    "resnet18ex.fc = nn.Linear(resnet18ex.fc.in_features, 10)\n",
    "\n",
    "# Finetune the model\n",
    "fine_tune_for_cifar10(model=resnet18ex, num_epochs=30, model_path=\"resnet18ex.pth\")\n",
    "# Load best model checkpoint\n",
    "resnet18ex = load_model(resnet18ex, \"resnet18ex.pth\", device=device)\n",
    "# Test model performance on clean test dataset\n",
    "test(model=resnet18ex, patch=None, target_class=None)"
   ]
  },
  {
   "cell_type": "code",
   "execution_count": 54,
   "id": "aa653734",
   "metadata": {},
   "outputs": [
    {
     "name": "stdout",
     "output_type": "stream",
     "text": [
      "Epoch 1\n",
      "Target class: None\n",
      "Accuracy: 0.5416\n",
      "\n",
      "Epoch 2\n",
      "Target class: None\n",
      "Accuracy: 0.4188\n",
      "\n",
      "Epoch 3\n",
      "Target class: None\n",
      "Accuracy: 0.3621\n",
      "\n",
      "Epoch 4\n",
      "Target class: None\n",
      "Accuracy: 0.3208\n",
      "\n",
      "Epoch 5\n",
      "Target class: None\n",
      "Accuracy: 0.2961\n",
      "\n",
      "Epoch 6\n",
      "Target class: None\n",
      "Accuracy: 0.2738\n",
      "\n",
      "Epoch 7\n",
      "Target class: None\n",
      "Accuracy: 0.2575\n",
      "\n",
      "Epoch 8\n",
      "Target class: None\n",
      "Accuracy: 0.25\n",
      "\n",
      "Epoch 9\n",
      "Target class: None\n",
      "Accuracy: 0.2404\n",
      "\n",
      "Epoch 10\n",
      "Target class: None\n",
      "Accuracy: 0.2234\n",
      "\n"
     ]
    },
    {
     "data": {
      "image/png": "[encoded data removed]",
      "text/plain": [
       "<Figure size 640x480 with 1 Axes>"
      ]
     },
     "metadata": {},
     "output_type": "display_data"
    },
    {
     "name": "stdout",
     "output_type": "stream",
     "text": [
      "Model accuracy with adversarial patch: 24.15%\n",
      "Untargeted attack success rate on test set: 75.85%\n"
     ]
    },
    {
     "data": {
      "text/plain": [
       "(0.2415, 0.7585)"
      ]
     },
     "execution_count": 54,
     "metadata": {},
     "output_type": "execute_result"
    }
   ],
   "source": [
    "# Generate adversarial patch\n",
    "patch_untarget = generate_adversarial_patch(model=resnet18, patch_size=8, target_class=None, num_epochs=10, lr=1e-1, momentum=0.8, apply=apply_extension)\n",
    "# Visualize the generated patch\n",
    "visualize_patch(patch_untarget)\n",
    "# Test adversarial success rate on test dataset\n",
    "test(model=resnet18, patch=patch_untarget, target_class=None, apply=apply_extension)"
   ]
  },
  {
   "cell_type": "code",
   "execution_count": 55,
   "id": "254471df",
   "metadata": {},
   "outputs": [
    {
     "name": "stdout",
     "output_type": "stream",
     "text": [
      "Epoch 1\n",
      "Target class: 5\n",
      "Percentage of samples predicted as target class 5: 7.93\n",
      "Accuracy: 0.544\n",
      "\n",
      "Epoch 2\n",
      "Target class: 5\n",
      "Percentage of samples predicted as target class 5: 12.3\n",
      "Accuracy: 0.3323\n",
      "\n",
      "Epoch 3\n",
      "Target class: 5\n",
      "Percentage of samples predicted as target class 5: 11.790000000000001\n",
      "Accuracy: 0.2445\n",
      "\n",
      "Epoch 4\n",
      "Target class: 5\n",
      "Percentage of samples predicted as target class 5: 11.75\n",
      "Accuracy: 0.2075\n",
      "\n",
      "Epoch 5\n",
      "Target class: 5\n",
      "Percentage of samples predicted as target class 5: 10.35\n",
      "Accuracy: 0.1916\n",
      "\n",
      "Epoch 6\n",
      "Target class: 5\n",
      "Percentage of samples predicted as target class 5: 9.99\n",
      "Accuracy: 0.1773\n",
      "\n",
      "Epoch 7\n",
      "Target class: 5\n",
      "Percentage of samples predicted as target class 5: 9.73\n",
      "Accuracy: 0.173\n",
      "\n",
      "Epoch 8\n",
      "Target class: 5\n",
      "Percentage of samples predicted as target class 5: 9.879999999999999\n",
      "Accuracy: 0.1674\n",
      "\n",
      "Epoch 9\n",
      "Target class: 5\n",
      "Percentage of samples predicted as target class 5: 9.370000000000001\n",
      "Accuracy: 0.1628\n",
      "\n",
      "Epoch 10\n",
      "Target class: 5\n",
      "Percentage of samples predicted as target class 5: 9.46\n",
      "Accuracy: 0.1576\n",
      "\n"
     ]
    },
    {
     "data": {
      "image/png": "[encoded data removed]",
      "text/plain": [
       "<Figure size 640x480 with 1 Axes>"
      ]
     },
     "metadata": {},
     "output_type": "display_data"
    },
    {
     "name": "stdout",
     "output_type": "stream",
     "text": [
      "Model accuracy with adversarial patch: 20.39%\n",
      "Untargeted attack success rate on test set: 79.61%\n",
      "Targeted attack success rate on test set for class 5: 11.67%\n"
     ]
    },
    {
     "data": {
      "text/plain": [
       "(0.2039, 0.7961, 0.1167)"
      ]
     },
     "execution_count": 55,
     "metadata": {},
     "output_type": "execute_result"
    }
   ],
   "source": [
    "# Generate adversarial patch\n",
    "patch_target = generate_adversarial_patch(model=resnet18, patch_size=8, target_class=5, num_epochs=10, lr=1e-1, momentum=0.8, apply=apply_extension)\n",
    "# Visualize the generated patch\n",
    "visualize_patch(patch_target)\n",
    "# Test adversarial success rate on test dataset\n",
    "test(model=resnet18, patch=patch_target, target_class=5, apply=apply_extension)"
   ]
  },
  {
   "cell_type": "markdown",
   "id": "f9af8021",
   "metadata": {},
   "source": [
    "### (Extension) Generate patches with side length of 3,5,7,10,13,16. Visualize patch_sizes v.s. untargeted ASR. "
   ]
  },
  {
   "cell_type": "code",
   "execution_count": 56,
   "id": "6c42d2d7",
   "metadata": {},
   "outputs": [
    {
     "name": "stdout",
     "output_type": "stream",
     "text": [
      "Epoch 1\n",
      "Target class: None\n",
      "Accuracy: 0.59\n",
      "\n",
      "Epoch 2\n",
      "Target class: None\n",
      "Accuracy: 0.443\n",
      "\n",
      "Epoch 3\n",
      "Target class: None\n",
      "Accuracy: 0.3887\n",
      "\n",
      "Epoch 4\n",
      "Target class: None\n",
      "Accuracy: 0.3536\n",
      "\n",
      "Epoch 5\n",
      "Target class: None\n",
      "Accuracy: 0.3279\n",
      "\n",
      "Epoch 6\n",
      "Target class: None\n",
      "Accuracy: 0.3088\n",
      "\n",
      "Epoch 7\n",
      "Target class: None\n",
      "Accuracy: 0.285\n",
      "\n",
      "Epoch 8\n",
      "Target class: None\n",
      "Accuracy: 0.2742\n",
      "\n",
      "Epoch 9\n",
      "Target class: None\n",
      "Accuracy: 0.2715\n",
      "\n",
      "Epoch 10\n",
      "Target class: None\n",
      "Accuracy: 0.2548\n",
      "\n"
     ]
    },
    {
     "data": {
      "image/png": "[encoded data removed]",
      "text/plain": [
       "<Figure size 640x480 with 1 Axes>"
      ]
     },
     "metadata": {},
     "output_type": "display_data"
    },
    {
     "name": "stdout",
     "output_type": "stream",
     "text": [
      "Model accuracy with adversarial patch: 28.58%\n",
      "Untargeted attack success rate on test set: 71.42%\n",
      "Epoch 1\n",
      "Target class: None\n",
      "Accuracy: 0.5443\n",
      "\n",
      "Epoch 2\n",
      "Target class: None\n",
      "Accuracy: 0.4676\n",
      "\n",
      "Epoch 3\n",
      "Target class: None\n",
      "Accuracy: 0.4104\n",
      "\n",
      "Epoch 4\n",
      "Target class: None\n",
      "Accuracy: 0.3602\n",
      "\n",
      "Epoch 5\n",
      "Target class: None\n",
      "Accuracy: 0.3344\n",
      "\n",
      "Epoch 6\n",
      "Target class: None\n",
      "Accuracy: 0.3133\n",
      "\n",
      "Epoch 7\n",
      "Target class: None\n",
      "Accuracy: 0.2888\n",
      "\n",
      "Epoch 8\n",
      "Target class: None\n",
      "Accuracy: 0.2681\n",
      "\n",
      "Epoch 9\n",
      "Target class: None\n",
      "Accuracy: 0.2504\n",
      "\n",
      "Epoch 10\n",
      "Target class: None\n",
      "Accuracy: 0.2443\n",
      "\n"
     ]
    },
    {
     "data": {
      "image/png": "[encoded data removed]",
      "text/plain": [
       "<Figure size 640x480 with 1 Axes>"
      ]
     },
     "metadata": {},
     "output_type": "display_data"
    },
    {
     "name": "stdout",
     "output_type": "stream",
     "text": [
      "Model accuracy with adversarial patch: 29.53%\n",
      "Untargeted attack success rate on test set: 70.47%\n",
      "Epoch 1\n",
      "Target class: None\n",
      "Accuracy: 0.5352\n",
      "\n",
      "Epoch 2\n",
      "Target class: None\n",
      "Accuracy: 0.3878\n",
      "\n",
      "Epoch 3\n",
      "Target class: None\n",
      "Accuracy: 0.3408\n",
      "\n",
      "Epoch 4\n",
      "Target class: None\n",
      "Accuracy: 0.2939\n",
      "\n",
      "Epoch 5\n",
      "Target class: None\n",
      "Accuracy: 0.2694\n",
      "\n",
      "Epoch 6\n",
      "Target class: None\n",
      "Accuracy: 0.2553\n",
      "\n",
      "Epoch 7\n",
      "Target class: None\n",
      "Accuracy: 0.2362\n",
      "\n",
      "Epoch 8\n",
      "Target class: None\n",
      "Accuracy: 0.2263\n",
      "\n",
      "Epoch 9\n",
      "Target class: None\n",
      "Accuracy: 0.2177\n",
      "\n",
      "Epoch 10\n",
      "Target class: None\n",
      "Accuracy: 0.197\n",
      "\n"
     ]
    },
    {
     "data": {
      "image/png": "[encoded data removed]",
      "text/plain": [
       "<Figure size 640x480 with 1 Axes>"
      ]
     },
     "metadata": {},
     "output_type": "display_data"
    },
    {
     "name": "stdout",
     "output_type": "stream",
     "text": [
      "Model accuracy with adversarial patch: 25.72%\n",
      "Untargeted attack success rate on test set: 74.28%\n",
      "Epoch 1\n",
      "Target class: None\n",
      "Accuracy: 0.4514\n",
      "\n",
      "Epoch 2\n",
      "Target class: None\n",
      "Accuracy: 0.3904\n",
      "\n",
      "Epoch 3\n",
      "Target class: None\n",
      "Accuracy: 0.3567\n",
      "\n",
      "Epoch 4\n",
      "Target class: None\n",
      "Accuracy: 0.3328\n",
      "\n",
      "Epoch 5\n",
      "Target class: None\n",
      "Accuracy: 0.2995\n",
      "\n",
      "Epoch 6\n",
      "Target class: None\n",
      "Accuracy: 0.296\n",
      "\n",
      "Epoch 7\n",
      "Target class: None\n",
      "Accuracy: 0.2805\n",
      "\n",
      "Epoch 8\n",
      "Target class: None\n",
      "Accuracy: 0.2677\n",
      "\n",
      "Epoch 9\n",
      "Target class: None\n",
      "Accuracy: 0.2594\n",
      "\n",
      "Epoch 10\n",
      "Target class: None\n",
      "Accuracy: 0.2477\n",
      "\n"
     ]
    },
    {
     "data": {
      "image/png": "[encoded data removed]",
      "text/plain": [
       "<Figure size 640x480 with 1 Axes>"
      ]
     },
     "metadata": {},
     "output_type": "display_data"
    },
    {
     "name": "stdout",
     "output_type": "stream",
     "text": [
      "Model accuracy with adversarial patch: 26.31%\n",
      "Untargeted attack success rate on test set: 73.69%\n",
      "Epoch 1\n",
      "Target class: None\n",
      "Accuracy: 0.4169\n",
      "\n",
      "Epoch 2\n",
      "Target class: None\n",
      "Accuracy: 0.3037\n",
      "\n",
      "Epoch 3\n",
      "Target class: None\n",
      "Accuracy: 0.2565\n",
      "\n",
      "Epoch 4\n",
      "Target class: None\n",
      "Accuracy: 0.2302\n",
      "\n",
      "Epoch 5\n",
      "Target class: None\n",
      "Accuracy: 0.2176\n",
      "\n",
      "Epoch 6\n",
      "Target class: None\n",
      "Accuracy: 0.214\n",
      "\n",
      "Epoch 7\n",
      "Target class: None\n",
      "Accuracy: 0.2027\n",
      "\n",
      "Epoch 8\n",
      "Target class: None\n",
      "Accuracy: 0.1938\n",
      "\n",
      "Epoch 9\n",
      "Target class: None\n",
      "Accuracy: 0.1853\n",
      "\n",
      "Epoch 10\n",
      "Target class: None\n",
      "Accuracy: 0.1859\n",
      "\n"
     ]
    },
    {
     "data": {
      "image/png": "[encoded data removed]",
      "text/plain": [
       "<Figure size 640x480 with 1 Axes>"
      ]
     },
     "metadata": {},
     "output_type": "display_data"
    },
    {
     "name": "stdout",
     "output_type": "stream",
     "text": [
      "Model accuracy with adversarial patch: 20.11%\n",
      "Untargeted attack success rate on test set: 79.89%\n",
      "Epoch 1\n",
      "Target class: None\n",
      "Accuracy: 0.3607\n",
      "\n",
      "Epoch 2\n",
      "Target class: None\n",
      "Accuracy: 0.2763\n",
      "\n",
      "Epoch 3\n",
      "Target class: None\n",
      "Accuracy: 0.2531\n",
      "\n",
      "Epoch 4\n",
      "Target class: None\n",
      "Accuracy: 0.2259\n",
      "\n",
      "Epoch 5\n",
      "Target class: None\n",
      "Accuracy: 0.2076\n",
      "\n",
      "Epoch 6\n",
      "Target class: None\n",
      "Accuracy: 0.1893\n",
      "\n",
      "Epoch 7\n",
      "Target class: None\n",
      "Accuracy: 0.1769\n",
      "\n",
      "Epoch 8\n",
      "Target class: None\n",
      "Accuracy: 0.1695\n",
      "\n",
      "Epoch 9\n",
      "Target class: None\n",
      "Accuracy: 0.1614\n",
      "\n",
      "Epoch 10\n",
      "Target class: None\n",
      "Accuracy: 0.149\n",
      "\n"
     ]
    },
    {
     "data": {
      "image/png": "[encoded data removed]",
      "text/plain": [
       "<Figure size 640x480 with 1 Axes>"
      ]
     },
     "metadata": {},
     "output_type": "display_data"
    },
    {
     "name": "stdout",
     "output_type": "stream",
     "text": [
      "Model accuracy with adversarial patch: 20.45%\n",
      "Untargeted attack success rate on test set: 79.55%\n"
     ]
    },
    {
     "data": {
      "image/png": "[encoded data removed]",
      "text/plain": [
       "<Figure size 600x400 with 1 Axes>"
      ]
     },
     "metadata": {},
     "output_type": "display_data"
    }
   ],
   "source": [
    "patch_sizes = [3, 5, 7, 10, 13, 16]\n",
    "untargetted_asr_results = {}\n",
    "for size in patch_sizes:\n",
    "  patch = generate_adversarial_patch(model=resnet18, patch_size=size, target_class=None, num_epochs=10,\\\n",
    "                                      lr=1e-1, momentum=0.8, apply=apply_extension)\n",
    "  visualize_patch(patch)\n",
    "  adversarial_accuracy, untargetted_asr = test(model=resnet18, patch=patch, target_class=None, apply=apply_extension)\n",
    "  untargetted_asr_results[size] = untargetted_asr\n",
    "plot_asr_vs_patch_size(patch_sizes, untargetted_asr_results)"
   ]
  },
  {
   "cell_type": "markdown",
   "id": "78c1fd56",
   "metadata": {},
   "source": [
    "### (Extension) Generate patches with side length of 3,5,7,10,13,16. Visualize patch_sizes v.s. targeted ASR. Target class is set to 5 here. "
   ]
  },
  {
   "cell_type": "code",
   "execution_count": 59,
   "id": "27b05dcf",
   "metadata": {},
   "outputs": [
    {
     "name": "stdout",
     "output_type": "stream",
     "text": [
      "Epoch 1\n",
      "Target class: 5\n",
      "Percentage of samples predicted as target class 5: 7.53\n",
      "Accuracy: 0.5822\n",
      "\n",
      "Epoch 2\n",
      "Target class: 5\n",
      "Percentage of samples predicted as target class 5: 8.48\n",
      "Accuracy: 0.3632\n",
      "\n",
      "Epoch 3\n",
      "Target class: 5\n",
      "Percentage of samples predicted as target class 5: 7.580000000000001\n",
      "Accuracy: 0.2914\n",
      "\n",
      "Epoch 4\n",
      "Target class: 5\n",
      "Percentage of samples predicted as target class 5: 7.85\n",
      "Accuracy: 0.2497\n",
      "\n",
      "Epoch 5\n",
      "Target class: 5\n",
      "Percentage of samples predicted as target class 5: 7.4399999999999995\n",
      "Accuracy: 0.23\n",
      "\n",
      "Epoch 6\n",
      "Target class: 5\n",
      "Percentage of samples predicted as target class 5: 7.049999999999999\n",
      "Accuracy: 0.2102\n",
      "\n",
      "Epoch 7\n",
      "Target class: 5\n",
      "Percentage of samples predicted as target class 5: 7.6899999999999995\n",
      "Accuracy: 0.2019\n",
      "\n",
      "Epoch 8\n",
      "Target class: 5\n",
      "Percentage of samples predicted as target class 5: 7.31\n",
      "Accuracy: 0.1996\n",
      "\n",
      "Epoch 9\n",
      "Target class: 5\n",
      "Percentage of samples predicted as target class 5: 7.85\n",
      "Accuracy: 0.1967\n",
      "\n",
      "Epoch 10\n",
      "Target class: 5\n",
      "Percentage of samples predicted as target class 5: 7.01\n",
      "Accuracy: 0.1822\n",
      "\n"
     ]
    },
    {
     "data": {
      "image/png": "[encoded data removed]",
      "text/plain": [
       "<Figure size 640x480 with 1 Axes>"
      ]
     },
     "metadata": {},
     "output_type": "display_data"
    },
    {
     "name": "stdout",
     "output_type": "stream",
     "text": [
      "Model accuracy with adversarial patch: 22.40%\n",
      "Untargeted attack success rate on test set: 77.60%\n",
      "Targeted attack success rate on test set for class 5: 9.14%\n",
      "Epoch 1\n",
      "Target class: 5\n",
      "Percentage of samples predicted as target class 5: 4.93\n",
      "Accuracy: 0.5772\n",
      "\n",
      "Epoch 2\n",
      "Target class: 5\n",
      "Percentage of samples predicted as target class 5: 11.78\n",
      "Accuracy: 0.3929\n",
      "\n",
      "Epoch 3\n",
      "Target class: 5\n",
      "Percentage of samples predicted as target class 5: 15.559999999999999\n",
      "Accuracy: 0.3057\n",
      "\n",
      "Epoch 4\n",
      "Target class: 5\n",
      "Percentage of samples predicted as target class 5: 17.28\n",
      "Accuracy: 0.2635\n",
      "\n",
      "Epoch 5\n",
      "Target class: 5\n",
      "Percentage of samples predicted as target class 5: 19.02\n",
      "Accuracy: 0.2438\n",
      "\n",
      "Epoch 6\n",
      "Target class: 5\n",
      "Percentage of samples predicted as target class 5: 19.49\n",
      "Accuracy: 0.2301\n",
      "\n",
      "Epoch 7\n",
      "Target class: 5\n",
      "Percentage of samples predicted as target class 5: 19.77\n",
      "Accuracy: 0.2232\n",
      "\n",
      "Epoch 8\n",
      "Target class: 5\n",
      "Percentage of samples predicted as target class 5: 19.830000000000002\n",
      "Accuracy: 0.2067\n",
      "\n",
      "Epoch 9\n",
      "Target class: 5\n",
      "Percentage of samples predicted as target class 5: 20.43\n",
      "Accuracy: 0.2133\n",
      "\n",
      "Epoch 10\n",
      "Target class: 5\n",
      "Percentage of samples predicted as target class 5: 21.27\n",
      "Accuracy: 0.2039\n",
      "\n"
     ]
    },
    {
     "data": {
      "image/png": "[encoded data removed]",
      "text/plain": [
       "<Figure size 640x480 with 1 Axes>"
      ]
     },
     "metadata": {},
     "output_type": "display_data"
    },
    {
     "name": "stdout",
     "output_type": "stream",
     "text": [
      "Model accuracy with adversarial patch: 20.02%\n",
      "Untargeted attack success rate on test set: 79.98%\n",
      "Targeted attack success rate on test set for class 5: 8.94%\n",
      "Epoch 1\n",
      "Target class: 5\n",
      "Percentage of samples predicted as target class 5: 5.9799999999999995\n",
      "Accuracy: 0.5528\n",
      "\n",
      "Epoch 2\n",
      "Target class: 5\n",
      "Percentage of samples predicted as target class 5: 8.3\n",
      "Accuracy: 0.3476\n",
      "\n",
      "Epoch 3\n",
      "Target class: 5\n",
      "Percentage of samples predicted as target class 5: 7.16\n",
      "Accuracy: 0.2578\n",
      "\n",
      "Epoch 4\n",
      "Target class: 5\n",
      "Percentage of samples predicted as target class 5: 7.21\n",
      "Accuracy: 0.2101\n",
      "\n",
      "Epoch 5\n",
      "Target class: 5\n",
      "Percentage of samples predicted as target class 5: 6.93\n",
      "Accuracy: 0.196\n",
      "\n",
      "Epoch 6\n",
      "Target class: 5\n",
      "Percentage of samples predicted as target class 5: 7.870000000000001\n",
      "Accuracy: 0.1816\n",
      "\n",
      "Epoch 7\n",
      "Target class: 5\n",
      "Percentage of samples predicted as target class 5: 7.32\n",
      "Accuracy: 0.1703\n",
      "\n",
      "Epoch 8\n",
      "Target class: 5\n",
      "Percentage of samples predicted as target class 5: 7.920000000000001\n",
      "Accuracy: 0.1681\n",
      "\n",
      "Epoch 9\n",
      "Target class: 5\n",
      "Percentage of samples predicted as target class 5: 7.33\n",
      "Accuracy: 0.1585\n",
      "\n",
      "Epoch 10\n",
      "Target class: 5\n",
      "Percentage of samples predicted as target class 5: 8.09\n",
      "Accuracy: 0.1587\n",
      "\n"
     ]
    },
    {
     "data": {
      "image/png": "[encoded data removed]",
      "text/plain": [
       "<Figure size 640x480 with 1 Axes>"
      ]
     },
     "metadata": {},
     "output_type": "display_data"
    },
    {
     "name": "stdout",
     "output_type": "stream",
     "text": [
      "Model accuracy with adversarial patch: 19.96%\n",
      "Untargeted attack success rate on test set: 80.04%\n",
      "Targeted attack success rate on test set for class 5: 10.01%\n",
      "Epoch 1\n",
      "Target class: 5\n",
      "Percentage of samples predicted as target class 5: 4.8\n",
      "Accuracy: 0.4939\n",
      "\n",
      "Epoch 2\n",
      "Target class: 5\n",
      "Percentage of samples predicted as target class 5: 16.24\n",
      "Accuracy: 0.3052\n",
      "\n",
      "Epoch 3\n",
      "Target class: 5\n",
      "Percentage of samples predicted as target class 5: 17.96\n",
      "Accuracy: 0.2435\n",
      "\n",
      "Epoch 4\n",
      "Target class: 5\n",
      "Percentage of samples predicted as target class 5: 19.02\n",
      "Accuracy: 0.2168\n",
      "\n",
      "Epoch 5\n",
      "Target class: 5\n",
      "Percentage of samples predicted as target class 5: 19.48\n",
      "Accuracy: 0.2086\n",
      "\n",
      "Epoch 6\n",
      "Target class: 5\n",
      "Percentage of samples predicted as target class 5: 21.3\n",
      "Accuracy: 0.2005\n",
      "\n",
      "Epoch 7\n",
      "Target class: 5\n",
      "Percentage of samples predicted as target class 5: 21.3\n",
      "Accuracy: 0.2012\n",
      "\n",
      "Epoch 8\n",
      "Target class: 5\n",
      "Percentage of samples predicted as target class 5: 21.88\n",
      "Accuracy: 0.1995\n",
      "\n",
      "Epoch 9\n",
      "Target class: 5\n",
      "Percentage of samples predicted as target class 5: 21.97\n",
      "Accuracy: 0.1973\n",
      "\n",
      "Epoch 10\n",
      "Target class: 5\n",
      "Percentage of samples predicted as target class 5: 22.470000000000002\n",
      "Accuracy: 0.203\n",
      "\n"
     ]
    },
    {
     "data": {
      "image/png": "[encoded data removed]",
      "text/plain": [
       "<Figure size 640x480 with 1 Axes>"
      ]
     },
     "metadata": {},
     "output_type": "display_data"
    },
    {
     "name": "stdout",
     "output_type": "stream",
     "text": [
      "Model accuracy with adversarial patch: 21.58%\n",
      "Untargeted attack success rate on test set: 78.42%\n",
      "Targeted attack success rate on test set for class 5: 13.42%\n",
      "Epoch 1\n",
      "Target class: 5\n",
      "Percentage of samples predicted as target class 5: 4.3\n",
      "Accuracy: 0.3954\n",
      "\n",
      "Epoch 2\n",
      "Target class: 5\n",
      "Percentage of samples predicted as target class 5: 59.260000000000005\n",
      "Accuracy: 0.2541\n",
      "\n",
      "Epoch 3\n",
      "Target class: 5\n",
      "Percentage of samples predicted as target class 5: 63.72\n",
      "Accuracy: 0.2276\n",
      "\n",
      "Epoch 4\n",
      "Target class: 5\n",
      "Percentage of samples predicted as target class 5: 66.47\n",
      "Accuracy: 0.2093\n",
      "\n",
      "Epoch 5\n",
      "Target class: 5\n",
      "Percentage of samples predicted as target class 5: 68.44\n",
      "Accuracy: 0.2005\n",
      "\n",
      "Epoch 6\n",
      "Target class: 5\n",
      "Percentage of samples predicted as target class 5: 70.00999999999999\n",
      "Accuracy: 0.1993\n",
      "\n",
      "Epoch 7\n",
      "Target class: 5\n",
      "Percentage of samples predicted as target class 5: 72.25\n",
      "Accuracy: 0.1867\n",
      "\n",
      "Epoch 8\n",
      "Target class: 5\n",
      "Percentage of samples predicted as target class 5: 73.26\n",
      "Accuracy: 0.1827\n",
      "\n",
      "Epoch 9\n",
      "Target class: 5\n",
      "Percentage of samples predicted as target class 5: 73.52\n",
      "Accuracy: 0.1768\n",
      "\n",
      "Epoch 10\n",
      "Target class: 5\n",
      "Percentage of samples predicted as target class 5: 74.66000000000001\n",
      "Accuracy: 0.1781\n",
      "\n"
     ]
    },
    {
     "data": {
      "image/png": "[encoded data removed]",
      "text/plain": [
       "<Figure size 640x480 with 1 Axes>"
      ]
     },
     "metadata": {},
     "output_type": "display_data"
    },
    {
     "name": "stdout",
     "output_type": "stream",
     "text": [
      "Model accuracy with adversarial patch: 18.19%\n",
      "Untargeted attack success rate on test set: 81.81%\n",
      "Targeted attack success rate on test set for class 5: 63.15%\n",
      "Epoch 1\n",
      "Target class: 5\n",
      "Percentage of samples predicted as target class 5: 1.4500000000000002\n",
      "Accuracy: 0.3229\n",
      "\n",
      "Epoch 2\n",
      "Target class: 5\n",
      "Percentage of samples predicted as target class 5: 91.35\n",
      "Accuracy: 0.1324\n",
      "\n",
      "Epoch 3\n",
      "Target class: 5\n",
      "Percentage of samples predicted as target class 5: 92.31\n",
      "Accuracy: 0.129\n",
      "\n",
      "Epoch 4\n",
      "Target class: 5\n",
      "Percentage of samples predicted as target class 5: 92.67\n",
      "Accuracy: 0.1307\n",
      "\n",
      "Epoch 5\n",
      "Target class: 5\n",
      "Percentage of samples predicted as target class 5: 92.91\n",
      "Accuracy: 0.1265\n",
      "\n",
      "Epoch 6\n",
      "Target class: 5\n",
      "Percentage of samples predicted as target class 5: 93.08\n",
      "Accuracy: 0.1275\n",
      "\n",
      "Epoch 7\n",
      "Target class: 5\n",
      "Percentage of samples predicted as target class 5: 93.5\n",
      "Accuracy: 0.1272\n",
      "\n",
      "Epoch 8\n",
      "Target class: 5\n",
      "Percentage of samples predicted as target class 5: 93.26\n",
      "Accuracy: 0.1245\n",
      "\n",
      "Epoch 9\n",
      "Target class: 5\n",
      "Percentage of samples predicted as target class 5: 93.89\n",
      "Accuracy: 0.1234\n",
      "\n",
      "Epoch 10\n",
      "Target class: 5\n",
      "Percentage of samples predicted as target class 5: 94.45\n",
      "Accuracy: 0.1227\n",
      "\n"
     ]
    },
    {
     "data": {
      "image/png": "[encoded data removed]",
      "text/plain": [
       "<Figure size 640x480 with 1 Axes>"
      ]
     },
     "metadata": {},
     "output_type": "display_data"
    },
    {
     "name": "stdout",
     "output_type": "stream",
     "text": [
      "Model accuracy with adversarial patch: 12.68%\n",
      "Untargeted attack success rate on test set: 87.32%\n",
      "Targeted attack success rate on test set for class 5: 81.46%\n"
     ]
    },
    {
     "data": {
      "image/png": "[encoded data removed]",
      "text/plain": [
       "<Figure size 600x400 with 1 Axes>"
      ]
     },
     "metadata": {},
     "output_type": "display_data"
    }
   ],
   "source": [
    "patch_sizes = [3, 5, 7, 10, 13, 16]\n",
    "targetted_asr_results = {}\n",
    "for size in patch_sizes:\n",
    "  patch = generate_adversarial_patch(model=resnet18, patch_size=size, target_class=5, num_epochs=10, \\\n",
    "                                     lr=1e-1, momentum=0.8, apply=apply_extension)\n",
    "  visualize_patch(patch)\n",
    "  adversarial_accuracy, untargetted_asr, targetted_asr = test(model=resnet18, patch=patch, target_class=5, apply=apply_extension)\n",
    "  targetted_asr_results[size] = targetted_asr\n",
    "plot_asr_vs_patch_size(patch_sizes, targetted_asr_results)"
   ]
  },
  {
   "cell_type": "code",
   "execution_count": 57,
   "id": "021c81d0",
   "metadata": {},
   "outputs": [
    {
     "name": "stdout",
     "output_type": "stream",
     "text": [
      "Model accuracy on clean test set: 82.36%\n",
      "Model accuracy with adversarial patch: 14.82%\n",
      "Untargeted attack success rate on test set: 85.18%\n"
     ]
    },
    {
     "data": {
      "text/plain": [
       "(0.1482, 0.8518)"
      ]
     },
     "execution_count": 57,
     "metadata": {},
     "output_type": "execute_result"
    }
   ],
   "source": [
    "# Load pre-trained model\n",
    "resnet18ex = models.resnet18(weights=\"DEFAULT\")\n",
    "\n",
    "# ResNet is trained on ImageNet, which has 1000 classes\n",
    "# So we need to modify the output layer for CIFAR-10, which has 10 classes\n",
    "resnet18ex.fc = nn.Linear(resnet18ex.fc.in_features, 10)\n",
    "# Load best model checkpoint\n",
    "resnet18ex = load_model(resnet18ex, \"resnet18.pth\", device=device)\n",
    "# Test model performance on clean test dataset\n",
    "test(model=resnet18ex, patch=None, target_class=None, apply=apply_extension)\n",
    "\n",
    "# Untargeted Attack\n",
    "test(model=resnet18ex, patch=patch_untarget, target_class=None, apply=apply_extension)\n"
   ]
  },
  {
   "cell_type": "code",
   "execution_count": 58,
   "id": "34468bcb",
   "metadata": {},
   "outputs": [
    {
     "name": "stdout",
     "output_type": "stream",
     "text": [
      "Model accuracy with adversarial patch: 12.12%\n",
      "Untargeted attack success rate on test set: 87.88%\n",
      "Targeted attack success rate on test set for class 5: 19.06%\n"
     ]
    },
    {
     "data": {
      "text/plain": [
       "(0.1212, 0.8788, 0.1906)"
      ]
     },
     "execution_count": 58,
     "metadata": {},
     "output_type": "execute_result"
    }
   ],
   "source": [
    "# Targeted Attack\n",
    "test(model=resnet18ex, patch=patch_target, target_class=5, apply=apply_extension)"
   ]
  },
  {
   "cell_type": "code",
   "execution_count": 62,
   "id": "d46ee02a",
   "metadata": {},
   "outputs": [
    {
     "name": "stdout",
     "output_type": "stream",
     "text": [
      "Model accuracy on clean test set: 88.50%\n",
      "Model accuracy with adversarial patch: 20.63%\n",
      "Untargeted attack success rate on test set: 79.37%\n",
      "Model accuracy with adversarial patch: 18.01%\n",
      "Untargeted attack success rate on test set: 81.99%\n",
      "Targeted attack success rate on test set for class 5: 0.17%\n"
     ]
    },
    {
     "data": {
      "text/plain": [
       "(0.1801, 0.8199, 0.0017)"
      ]
     },
     "execution_count": 62,
     "metadata": {},
     "output_type": "execute_result"
    }
   ],
   "source": [
    "# Load pre-trained model\n",
    "vgg19 = models.vgg19(weights=\"DEFAULT\")\n",
    "\n",
    "# Get the number of input features to the classifier\n",
    "num_features = vgg19.classifier[-1].in_features\n",
    "\n",
    "# Replace the last layer (classifier) for CIFAR-10, which has 10 classes\n",
    "vgg19.classifier[-1] = nn.Linear(num_features, 10)\n",
    "\n",
    "# Finetune the model\n",
    "# fine_tune_for_cifar10(model=vgg19, num_epochs=30, model_path=\"vgg19.pth\")\n",
    "# Load best model checkpoint\n",
    "vgg19 = load_model(vgg19, \"vgg19.pth\", device=device)\n",
    "# Test model performance on clean test dataset\n",
    "test(model=vgg19, patch=None, target_class=None, apply=apply_extension)\n",
    "\n",
    "# Untargeted Attack\n",
    "test(model=vgg19, patch=patch_untarget, target_class=None, apply=apply_extension)\n",
    "# Targeted Attack\n",
    "test(model=vgg19, patch=patch_target, target_class=5, apply=apply_extension)"
   ]
  },
  {
   "cell_type": "code",
   "execution_count": 63,
   "id": "681e9c9e",
   "metadata": {},
   "outputs": [
    {
     "name": "stderr",
     "output_type": "stream",
     "text": [
      "Downloading: \"https://download.pytorch.org/models/densenet121-a639ec97.pth\" to /Users/hiepnguyen/.cache/torch/hub/checkpoints/densenet121-a639ec97.pth\n",
      "100.0%\n"
     ]
    },
    {
     "name": "stdout",
     "output_type": "stream",
     "text": [
      "Model accuracy on clean test set: 67.30%\n",
      "Model accuracy with adversarial patch: 20.83%\n",
      "Untargeted attack success rate on test set: 79.17%\n",
      "Model accuracy with adversarial patch: 16.84%\n",
      "Untargeted attack success rate on test set: 83.16%\n",
      "Targeted attack success rate on test set for class 5: 2.80%\n"
     ]
    },
    {
     "data": {
      "text/plain": [
       "(0.1684, 0.8316, 0.028)"
      ]
     },
     "execution_count": 63,
     "metadata": {},
     "output_type": "execute_result"
    }
   ],
   "source": [
    "# Load pre-trained model\n",
    "densenet121 = models.densenet121(weights=\"DEFAULT\")\n",
    "\n",
    "num_features = densenet121.classifier.in_features  # Get the number of input features\n",
    "densenet121.classifier = nn.Linear(num_features, 10)  # Replace the classifier for CIFAR-10\n",
    "\n",
    "# Finetune the model\n",
    "# fine_tune_for_cifar10(model=densenet121, num_epochs=30, model_path=\"densenet121.pth\")\n",
    "# Load best model checkpoint\n",
    "densenet121 = load_model(densenet121, \"densenet121.pth\", device=device)\n",
    "# Test model performance on clean test dataset\n",
    "test(model=densenet121, patch=None, target_class=None, apply=apply_extension)\n",
    "\n",
    "# Untargeted Attack\n",
    "test(model=densenet121, patch=patch_untarget, target_class=None, apply=apply_extension)\n",
    "# Targeted Attack\n",
    "test(model=densenet121, patch=patch_target, target_class=5, apply=apply_extension)"
   ]
  },
  {
   "cell_type": "code",
   "execution_count": 64,
   "id": "7706d79e",
   "metadata": {},
   "outputs": [
    {
     "name": "stdout",
     "output_type": "stream",
     "text": [
      "Model accuracy on clean test set: 87.30%\n",
      "Model accuracy with adversarial patch: 18.87%\n",
      "Untargeted attack success rate on test set: 81.13%\n",
      "Model accuracy with adversarial patch: 15.94%\n",
      "Untargeted attack success rate on test set: 84.06%\n",
      "Targeted attack success rate on test set for class 5: 7.27%\n"
     ]
    },
    {
     "data": {
      "text/plain": [
       "(0.1594, 0.8406, 0.0727)"
      ]
     },
     "execution_count": 64,
     "metadata": {},
     "output_type": "execute_result"
    }
   ],
   "source": [
    "# Load pre-trained model\n",
    "resnet50 = models.resnet50(weights=\"DEFAULT\")\n",
    "\n",
    "# ResNet is trained on ImageNet, which has 1000 classes\n",
    "# So we need to modify the output layer for CIFAR-10, which has 10 classes\n",
    "resnet50.fc = nn.Linear(resnet50.fc.in_features, 10)\n",
    "# Load best model checkpoint\n",
    "resnet50 = load_model(resnet50, \"resnet50.pth\", device=device)\n",
    "# Test model performance on clean test dataset\n",
    "test(model=resnet50, patch=None, target_class=None, apply=apply_extension)\n",
    "\n",
    "# Untargeted Attack\n",
    "test(model=resnet50, patch=patch_untarget, target_class=None, apply=apply_extension)\n",
    "# Targeted Attack\n",
    "test(model=resnet50, patch=patch_target, target_class=5, apply=apply_extension)"
   ]
  },
  {
   "cell_type": "code",
   "execution_count": 66,
   "id": "92f87bf2",
   "metadata": {},
   "outputs": [
    {
     "name": "stdout",
     "output_type": "stream",
     "text": [
      "With extended data augmentation:\n",
      "+-------------+------------------+----------------+\n",
      "| Model       |   Untargeted ASR |   Targeted ASR |\n",
      "+=============+==================+================+\n",
      "| ResNet18    |           0.8788 |         0.1906 |\n",
      "+-------------+------------------+----------------+\n",
      "| ResNet50    |           0.8406 |         0.0727 |\n",
      "+-------------+------------------+----------------+\n",
      "| DenseNet121 |           0.8316 |         0.028  |\n",
      "+-------------+------------------+----------------+\n",
      "| VGG19       |           0.8199 |         0.0017 |\n",
      "+-------------+------------------+----------------+\n"
     ]
    }
   ],
   "source": [
    "# Define the table data\n",
    "table_data = [\n",
    "    [\"Model\", \"Untargeted ASR\", \"Targeted ASR\"],\n",
    "    [\"ResNet18\", 0.8788, 0.1906],\n",
    "    [\"ResNet50\", 0.8406, 0.0727],\n",
    "    [\"DenseNet121\", 0.8316, 0.028],\n",
    "    [\"VGG19\", 0.8199, 0.0017]\n",
    "\n",
    "]\n",
    "\n",
    "# Print the table\n",
    "print(\"With extended data augmentation:\")\n",
    "print(tabulate(table_data, headers=\"firstrow\", tablefmt=\"grid\"))"
   ]
  }
 ],
 "metadata": {
  "kernelspec": {
   "display_name": "Python 3 (ipykernel)",
   "language": "python",
   "name": "python3"
  },
  "language_info": {
   "codemirror_mode": {
    "name": "ipython",
    "version": 3
   },
   "file_extension": ".py",
   "mimetype": "text/x-python",
   "name": "python",
   "nbconvert_exporter": "python",
   "pygments_lexer": "ipython3",
   "version": "3.9.6"
  }
 },
 "nbformat": 4,
 "nbformat_minor": 5
}
