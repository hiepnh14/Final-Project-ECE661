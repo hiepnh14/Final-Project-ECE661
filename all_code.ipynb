{
  "cells": [
    {
      "cell_type": "markdown",
      "id": "HLvsAXRe3qp0",
      "metadata": {
        "id": "HLvsAXRe3qp0"
      },
      "source": [
        "# ECE 661 Final Project: Adversarial Patch Attacks\n",
        "### Jamie Liu, Hiep Nguyen, & Jack Parker"
      ]
    },
    {
      "cell_type": "code",
      "execution_count": null,
      "id": "eb0dab0f-20b3-4188-8a9f-21c2a1065904",
      "metadata": {
        "id": "eb0dab0f-20b3-4188-8a9f-21c2a1065904",
        "colab": {
          "base_uri": "https://localhost:8080/"
        },
        "outputId": "76176360-caad-4fc0-e4c5-f27c125c3010"
      },
      "outputs": [
        {
          "output_type": "stream",
          "name": "stdout",
          "text": [
            "cuda\n"
          ]
        }
      ],
      "source": [
        "# Import necessary libraries\n",
        "import numpy as np\n",
        "import pandas as pd\n",
        "from matplotlib import pyplot as plt\n",
        "\n",
        "import torch\n",
        "import torch.nn as nn\n",
        "import torch.nn.functional as F\n",
        "import torch.optim as optim\n",
        "from torchvision import datasets, transforms, models\n",
        "from torch.utils.data import random_split, DataLoader\n",
        "import torchvision.transforms.functional as TF\n",
        "import random\n",
        "import tqdm\n",
        "\n",
        "device = \"cuda\" if torch.cuda.is_available() else \"cpu\"\n",
        "print(device)"
      ]
    },
    {
      "cell_type": "markdown",
      "id": "_gFecCzT0ILv",
      "metadata": {
        "id": "_gFecCzT0ILv"
      },
      "source": [
        "## Load data"
      ]
    },
    {
      "cell_type": "code",
      "execution_count": null,
      "id": "e15bf51f-04cb-4313-9516-f1bbd92ea43d",
      "metadata": {
        "id": "e15bf51f-04cb-4313-9516-f1bbd92ea43d",
        "colab": {
          "base_uri": "https://localhost:8080/"
        },
        "outputId": "5f59497b-049a-479a-eaf7-13f05488376c"
      },
      "outputs": [
        {
          "output_type": "stream",
          "name": "stdout",
          "text": [
            "Files already downloaded and verified\n",
            "Files already downloaded and verified\n"
          ]
        }
      ],
      "source": [
        "transform_train = transforms.Compose([\n",
        "    transforms.RandomCrop(32, padding=4),\n",
        "    transforms.RandomHorizontalFlip(),\n",
        "    transforms.ToTensor(),\n",
        "    transforms.Normalize((0.4914, 0.4822, 0.4465), (0.2023, 0.1994, 0.2010)),\n",
        "])\n",
        "\n",
        "transform_test = transforms.Compose([\n",
        "    transforms.ToTensor(),\n",
        "    transforms.Normalize((0.4914, 0.4822, 0.4465), (0.2023, 0.1994, 0.2010)),\n",
        "])\n",
        "\n",
        "\n",
        "# Load dataset\n",
        "train_data = datasets.CIFAR10(root='./data', train=True, download=True, transform=transform_train)\n",
        "test_data = datasets.CIFAR10(root='./data', train=False, download=True, transform=transform_test)\n",
        "\n",
        "# Split training data into training and validation sets\n",
        "train_set, val_set = random_split(train_data, [40000, 10000])\n",
        "\n",
        "# Define dataloaders\n",
        "train_loader = DataLoader(train_set, batch_size=32, shuffle=True)\n",
        "val_loader = DataLoader(val_set, batch_size=32, shuffle=False)\n",
        "test_loader = DataLoader(test_data, batch_size=32, shuffle=False)\n"
      ]
    },
    {
      "cell_type": "markdown",
      "id": "C_phzAnT0OrU",
      "metadata": {
        "id": "C_phzAnT0OrU"
      },
      "source": [
        "## Define helper functions to be used during experiments"
      ]
    },
    {
      "cell_type": "code",
      "execution_count": null,
      "id": "7dcdeae2-844b-4f36-9171-6992186565ea",
      "metadata": {
        "id": "7dcdeae2-844b-4f36-9171-6992186565ea"
      },
      "outputs": [],
      "source": [
        "# This function evaluates a model's accuracy on the validation set\n",
        "# Optionally, one can pass an adversarial patch as an argument to evaluate the model's performance against a patch attack\n",
        "def eval(model, patch=None, target_class=None, extension=False):\n",
        "  # Stats to use to calculate accuracy after the eval loop\n",
        "  total_correct = 0\n",
        "  total = 0\n",
        "  total_target = 0\n",
        "  # Put model on GPU and switch to eval mode\n",
        "  model = model.to(device)\n",
        "  model.eval()\n",
        "  # Evaluation loop\n",
        "  with torch.no_grad():\n",
        "    for batch_idx, (images, labels) in enumerate(val_loader):\n",
        "      # Put data on GPU\n",
        "      images = images.to(device)\n",
        "      if patch is not None:\n",
        "        images = apply(patch, images, extension=extension)\n",
        "      labels = labels.to(device)\n",
        "      # Make predictions\n",
        "      predictions = model(images)\n",
        "      predictions = torch.argmax(predictions, dim=1)\n",
        "      # Update validation accuracy information\n",
        "      total += len(images)\n",
        "      num_correct = (predictions == labels).float().sum().item()\n",
        "      total_correct += num_correct\n",
        "      if target_class is not None:\n",
        "        target = torch.zeros(len(images), dtype=torch.long).fill_(target_class).to(device)\n",
        "        num_target = (predictions == target).float().sum().item()\n",
        "        total_target += num_target\n",
        "  # If evaluating the effects of a targeted patch attach, it is nice to see whether or not the model is classifying lots of examples to the target class\n",
        "  if target_class is not None:\n",
        "    target_percentage = total_target / total\n",
        "    print(f\"Percentage of samples predicted as target class {target_class}: {100 * target_percentage}\")\n",
        "  # Calculate accuracy\n",
        "  accuracy = total_correct / total\n",
        "  return accuracy"
      ]
    },
    {
      "cell_type": "code",
      "execution_count": null,
      "id": "36c77eea-21cc-4d92-accb-e9076cd0ae0e",
      "metadata": {
        "id": "36c77eea-21cc-4d92-accb-e9076cd0ae0e"
      },
      "outputs": [],
      "source": [
        "# This function is designed to take in a pretrained ResNet model and fine-tune its weights for the CIFAR-10 dataset\n",
        "# The idea is to fine-tune ResNet for the CIFAR-10 dataset (accuracy should be around 82%) and then degrade that performance via an adversarial patch attack\n",
        "def fine_tune_for_cifar10(model, num_epochs=30, model_path=\"resnet18.pth\", lr=0.01):\n",
        "  # Put model on GPU and put model in training mode\n",
        "  model = model.to(device)\n",
        "  model.train()\n",
        "  # Define loss function and optimizer\n",
        "  criterion = nn.CrossEntropyLoss()\n",
        "  optimizer = optim.SGD(model.parameters(), lr=lr, momentum=0.9, weight_decay=1e-4)\n",
        "  scheduler = optim.lr_scheduler.StepLR(optimizer, step_size=30, gamma=0.2)\n",
        "  best_accuracy = 0.0\n",
        "  best_model_path = model_path\n",
        "  # Training loop\n",
        "  for i in range(num_epochs):\n",
        "    # Stats to use for calculating accuracy\n",
        "    total_correct = 0\n",
        "    total = 0\n",
        "    # Iterate through each batch of data\n",
        "    for batch_idx, (images, labels) in enumerate(train_loader):\n",
        "      # Put data on GPU\n",
        "      images = images.to(device)\n",
        "      labels = labels.to(device)\n",
        "      # Make predictions\n",
        "      predictions = model(images)\n",
        "      # Calculate loss for the batch\n",
        "      loss = criterion(predictions, labels)\n",
        "      # Gradient descent\n",
        "      optimizer.zero_grad()\n",
        "      loss.backward()\n",
        "      optimizer.step()\n",
        "      # Update training accuracy information\n",
        "      total += len(images)\n",
        "      predictions = torch.argmax(predictions, dim=1)\n",
        "      num_correct = (predictions == labels).float().sum().item()\n",
        "      total_correct += num_correct\n",
        "    scheduler.step()  # Update the learning rate\n",
        "\n",
        "    # Print training accuracy\n",
        "    print(f\"Epoch {str(i + 1)}: Training accuracy = {str(total_correct / total)}\")\n",
        "    # Print validation accuracy\n",
        "    val_accuracy = eval(model, patch=None, target_class=None)\n",
        "    print(f\"Validation accuracy: {str(val_accuracy)}\")\n",
        "\n",
        "    if val_accuracy > best_accuracy:\n",
        "      best_accuracy = val_accuracy\n",
        "      torch.save(model.state_dict(), best_model_path)\n",
        "      print(f\"Saved new best model with accuracy: {best_accuracy:.4f}\")"
      ]
    },
    {
      "cell_type": "code",
      "execution_count": null,
      "id": "c26bd8ae-07b4-432a-a673-6fd48c0fc1eb",
      "metadata": {
        "id": "c26bd8ae-07b4-432a-a673-6fd48c0fc1eb"
      },
      "outputs": [],
      "source": [
        "# Apply patch to a batch of images\n",
        "def apply(patch, batch_of_images, extension=False):\n",
        "  num_images = batch_of_images.shape[0]\n",
        "  patch_size = patch.shape[1]\n",
        "  # Iterate through each image in the batch\n",
        "  for i in range(num_images):\n",
        "    # Rotate the patch by a random number of degrees\n",
        "    degree = random.uniform(0, 360)\n",
        "    patch = TF.rotate(patch, angle=degree)\n",
        "    # If doing the extension, apply some more transformations\n",
        "    if extension:\n",
        "      # Apply horizontal flip with 50% probability\n",
        "      if random.random() > 0.5:\n",
        "        patch = TF.hflip(patch)\n",
        "      # Apply vertical flip with 50% probability\n",
        "      if random.random() > 0.5:\n",
        "        patch = TF.vflip(patch)\n",
        "      # Apply color inversion with 50% probability\n",
        "      if random.random() > 0.5:\n",
        "        patch = TF.invert(patch)\n",
        "    # Randomly choose an (x, y) coordinate on the 32x32 CIFAR-10 image\n",
        "    # This coordinate will be where the top left corner of the rotated patch goes\n",
        "    top_left_x = random.randint(0, 31 - patch_size)\n",
        "    top_left_y = random.randint(0, 31 - patch_size)\n",
        "    # Apply the randomly rotated patch at the random location\n",
        "    batch_of_images[i, :, top_left_x:top_left_x+patch_size, top_left_y:top_left_y+patch_size] = patch\n",
        "  return batch_of_images"
      ]
    },
    {
      "cell_type": "code",
      "execution_count": null,
      "id": "00f2cc52-15f3-4645-a1d6-a44e135ed004",
      "metadata": {
        "id": "00f2cc52-15f3-4645-a1d6-a44e135ed004"
      },
      "outputs": [],
      "source": [
        "# Function to load the best model checkpoint\n",
        "def load_model(model, path, device=\"cuda\"):\n",
        "    model.load_state_dict(torch.load(path, map_location=device))\n",
        "    model = model.to(device)\n",
        "    return model"
      ]
    },
    {
      "cell_type": "code",
      "execution_count": null,
      "id": "ff1e40d9-8fc9-4b1c-b046-edcbbd197bc8",
      "metadata": {
        "id": "ff1e40d9-8fc9-4b1c-b046-edcbbd197bc8"
      },
      "outputs": [],
      "source": [
        "# This function fine-tunes an adversarial patch against a provided whitebox model\n",
        "# Model accuracy against the patch attack is reported at each step\n",
        "def generate_adversarial_patch(model, patch_size, target_class=None, num_epochs=5, lr=1e-1, momentum=0.8, extension=False):\n",
        "  model = model.to(device)\n",
        "  model.eval()\n",
        "  # Initialize patch to all zeros\n",
        "  patch = nn.Parameter(torch.zeros(3, patch_size, patch_size), requires_grad=True)\n",
        "  optimizer = optim.SGD([patch], lr, momentum)\n",
        "  criterion = nn.CrossEntropyLoss()\n",
        "  # Optimize the patch\n",
        "  for i in range(num_epochs):\n",
        "    print(f\"Epoch {str(i + 1)}\")\n",
        "    for batch_idx, (images, labels) in enumerate(train_loader):\n",
        "      # Put data on the GPU\n",
        "      images = images.to(device)\n",
        "      labels = labels.to(device)\n",
        "      # Apply the patch at a random location and with a random rotation for each image in the batch\n",
        "      images = apply(patch, images, extension=extension)\n",
        "      # Make predictions on the patched images\n",
        "      predictions = resnet18(images)\n",
        "      # For an untargeted attack, create false labels by incrementing the true labels by 1\n",
        "      if target_class is None:\n",
        "        false_labels = (labels + 1) % 10\n",
        "      # For a targeted attack, set all the false labels to the target class\n",
        "      else:\n",
        "        false_labels = torch.zeros(len(images), dtype=torch.long).fill_(target_class).to(device)\n",
        "      # Tune the patch\n",
        "      loss = criterion(predictions, false_labels)\n",
        "      optimizer.zero_grad()\n",
        "      loss.backward()\n",
        "      optimizer.step()\n",
        "    # See how the patch performs\n",
        "    print(f\"Target class: {target_class}\")\n",
        "    accuracy = eval(model, patch=patch, target_class=target_class)\n",
        "    print(f\"Accuracy: {str(accuracy)}\\n\")\n",
        "  return patch"
      ]
    },
    {
      "cell_type": "code",
      "execution_count": null,
      "id": "a909b997-766e-4acb-bc2b-35b535ebcd5b",
      "metadata": {
        "id": "a909b997-766e-4acb-bc2b-35b535ebcd5b"
      },
      "outputs": [],
      "source": [
        "# This function test the model accuracy on clean test dataset\n",
        "# Optinally, if pass in an adversarial patch, this function test model accuracy, untargetted and targetted ASR\n",
        "def test(model, patch=None, target_class=None, extension=False):\n",
        "  model.eval()\n",
        "  total = 0\n",
        "  total_correct = 0\n",
        "  total_misclassified = 0\n",
        "  total_targeted_hits = 0\n",
        "\n",
        "  with torch.no_grad():\n",
        "    for images, labels in test_loader:\n",
        "      images = images.to(device)\n",
        "      labels = labels.to(device)\n",
        "\n",
        "      if patch is not None:\n",
        "        images = apply(patch, images, extension=extension)\n",
        "\n",
        "      outputs = model(images)\n",
        "      predictions = torch.argmax(outputs, dim=1)\n",
        "      total += labels.size(0)\n",
        "      total_correct += (predictions == labels).sum().item()\n",
        "      total_misclassified += (predictions != labels).sum().item()\n",
        "\n",
        "      if target_class is not None:\n",
        "        targeted_misclassifications = ((predictions != labels) & (predictions == target_class))\n",
        "        total_targeted_hits += targeted_misclassifications.sum().item()\n",
        "\n",
        "  adversarial_accuracy = total_correct / total\n",
        "  untargeted_attack_rate = total_misclassified / total\n",
        "\n",
        "  if patch is not None:\n",
        "    print(f\"Model accuracy with adversarial patch: {adversarial_accuracy * 100:.2f}%\")\n",
        "    print(f\"Untargeted attack success rate on test set: {untargeted_attack_rate * 100:.2f}%\")\n",
        "  else:\n",
        "    print(f\"Model accuracy on clean test set: {adversarial_accuracy * 100:.2f}%\")\n",
        "\n",
        "  if target_class is not None:\n",
        "    targeted_attack_rate = total_targeted_hits / total\n",
        "    print(f\"Targeted attack success rate on test set for class {target_class}: {targeted_attack_rate * 100:.2f}%\")\n",
        "    return adversarial_accuracy, untargeted_attack_rate, targeted_attack_rate\n",
        "  else:\n",
        "    return adversarial_accuracy, untargeted_attack_rate"
      ]
    },
    {
      "cell_type": "code",
      "execution_count": null,
      "id": "0fd0d3c9-f23a-423f-8eed-54986125e2cd",
      "metadata": {
        "id": "0fd0d3c9-f23a-423f-8eed-54986125e2cd"
      },
      "outputs": [],
      "source": [
        "# This function takes in a patch and outputs it visually\n",
        "def visualize_patch(patch):\n",
        "    patch = patch.detach()\n",
        "    patch = (patch - patch.min()) / (patch.max() - patch.min())  # Normalize to [0, 1]\n",
        "\n",
        "    # Convert to numpy and transpose dimensions from [C, H, W] to [H, W, C] for visualization\n",
        "    patch_np = patch.cpu().numpy().transpose(1, 2, 0)\n",
        "    plt.imshow(patch_np)\n",
        "    plt.axis('off')\n",
        "    plt.show()\n"
      ]
    },
    {
      "cell_type": "code",
      "execution_count": null,
      "id": "8d7729eb-ea35-4563-8584-bf832068dccc",
      "metadata": {
        "id": "8d7729eb-ea35-4563-8584-bf832068dccc"
      },
      "outputs": [],
      "source": [
        "# This function is used to plot the (untargeted or targeted) ASR v.s. patch size\n",
        "def plot_asr_vs_patch_size(patch_sizes, asr_results):\n",
        "    asr_values = [asr_results[size] * 100 for size in patch_sizes]\n",
        "    plt.figure(figsize=(6,4))\n",
        "    plt.plot(patch_sizes, asr_values, marker='o', linestyle='-', color='b')\n",
        "    plt.title('Attack Success Rate vs Patch Size')\n",
        "    plt.xlabel('Patch Size (pixels)')\n",
        "    plt.ylabel('ASR (%)')\n",
        "    plt.grid(True)\n",
        "    plt.xticks(patch_sizes)\n",
        "    plt.show()\n"
      ]
    },
    {
      "cell_type": "markdown",
      "id": "3ef920b6-6336-4b2e-886a-7ec11386efe0",
      "metadata": {
        "id": "3ef920b6-6336-4b2e-886a-7ec11386efe0"
      },
      "source": [
        "## Fine-tune ResNet18 for CIFAR-10"
      ]
    },
    {
      "cell_type": "code",
      "execution_count": null,
      "id": "eae7f907-4717-4181-a806-ba2bff9eca82",
      "metadata": {
        "colab": {
          "base_uri": "https://localhost:8080/"
        },
        "id": "eae7f907-4717-4181-a806-ba2bff9eca82",
        "outputId": "47432412-584a-48f6-9a78-0383065cadbc",
        "scrolled": true
      },
      "outputs": [
        {
          "output_type": "stream",
          "name": "stdout",
          "text": [
            "Model accuracy on clean test set: 83.15%\n"
          ]
        },
        {
          "output_type": "execute_result",
          "data": {
            "text/plain": [
              "(0.8315, 0.1685)"
            ]
          },
          "metadata": {},
          "execution_count": 11
        }
      ],
      "source": [
        "# Load pre-trained model\n",
        "resnet18 = models.resnet18(weights=\"DEFAULT\")\n",
        "\n",
        "# ResNet is trained on ImageNet, which has 1000 classes\n",
        "# So we need to modify the output layer for CIFAR-10, which has 10 classes\n",
        "resnet18.fc = nn.Linear(resnet18.fc.in_features, 10)\n",
        "\n",
        "# Finetune the model\n",
        "# fine_tune_for_cifar10(model=resnet18, num_epochs=30, model_path=\"resnet18.pth\")\n",
        "\n",
        "# Load best model checkpoint\n",
        "resnet18 = load_model(resnet18, \"resnet18.pth\", device=device)\n",
        "\n",
        "# Test model performance on clean test dataset\n",
        "test(model=resnet18, patch=None, target_class=None)"
      ]
    },
    {
      "cell_type": "markdown",
      "id": "662a5a10-ba13-450a-b843-98ee0d4bc086",
      "metadata": {
        "id": "662a5a10-ba13-450a-b843-98ee0d4bc086"
      },
      "source": [
        "## Experiment 1: Untargeted 8x8 patch attack on ResNet18"
      ]
    },
    {
      "cell_type": "code",
      "execution_count": null,
      "id": "cab68097-7b0b-4dab-93ff-34b147b0be5e",
      "metadata": {
        "id": "cab68097-7b0b-4dab-93ff-34b147b0be5e",
        "scrolled": true,
        "colab": {
          "base_uri": "https://localhost:8080/",
          "height": 817
        },
        "outputId": "761e616e-8044-419f-98cc-71d09aa9f92e"
      },
      "outputs": [
        {
          "output_type": "stream",
          "name": "stdout",
          "text": [
            "Epoch 1\n",
            "Target class: None\n",
            "Accuracy: 0.4572\n",
            "\n",
            "Epoch 2\n",
            "Target class: None\n",
            "Accuracy: 0.4038\n",
            "\n",
            "Epoch 3\n",
            "Target class: None\n",
            "Accuracy: 0.3856\n",
            "\n",
            "Epoch 4\n",
            "Target class: None\n",
            "Accuracy: 0.373\n",
            "\n",
            "Epoch 5\n",
            "Target class: None\n",
            "Accuracy: 0.3715\n",
            "\n"
          ]
        },
        {
          "output_type": "display_data",
          "data": {
            "text/plain": [
              "<Figure size 640x480 with 1 Axes>"
            ],
            "image/png": "[encoded data removed]"
          },
          "metadata": {}
        },
        {
          "output_type": "stream",
          "name": "stdout",
          "text": [
            "Model accuracy with adversarial patch: 39.89%\n",
            "Untargeted attack success rate on test set: 60.11%\n"
          ]
        },
        {
          "output_type": "execute_result",
          "data": {
            "text/plain": [
              "(0.3989, 0.6011)"
            ]
          },
          "metadata": {},
          "execution_count": 12
        }
      ],
      "source": [
        "# Generate adversarial patch\n",
        "patch_untargeted_size8 = generate_adversarial_patch(model=resnet18, patch_size=8)\n",
        "\n",
        "# Visualize the generated patch\n",
        "visualize_patch(patch_untargeted_size8)\n",
        "\n",
        "# Test adversarial success rate on test dataset\n",
        "test(model=resnet18, patch=patch_untargeted_size8)"
      ]
    },
    {
      "cell_type": "markdown",
      "id": "7ccb2a1e-f6d6-4ac9-bf43-bf35070726c0",
      "metadata": {
        "id": "7ccb2a1e-f6d6-4ac9-bf43-bf35070726c0"
      },
      "source": [
        "## Experiment 2: The effect of patch size on untargeted attack success rate for ResNet18"
      ]
    },
    {
      "cell_type": "code",
      "execution_count": null,
      "id": "4f7a4745-2d7c-4a1b-ac47-d26138fc52c4",
      "metadata": {
        "id": "4f7a4745-2d7c-4a1b-ac47-d26138fc52c4",
        "scrolled": true
      },
      "outputs": [],
      "source": [
        "# Calculate untargeteded ASR for patches of various sizes and plot patch size vs. untargeted ASR\n",
        "patch_sizes = [3, 5, 7, 16]\n",
        "untargetted_asr_results = {}\n",
        "\n",
        "for size in patch_sizes:\n",
        "  patch = generate_adversarial_patch(model=resnet18, patch_size=size)\n",
        "  visualize_patch(patch)\n",
        "  adversarial_accuracy, untargetted_asr = test(model=resnet18, patch=patch)\n",
        "  untargetted_asr_results[size] = untargetted_asr\n",
        "\n",
        "plot_asr_vs_patch_size(patch_sizes, untargetted_asr_results)"
      ]
    },
    {
      "cell_type": "markdown",
      "id": "08c0bc71-330c-436a-8dbd-d16dfe7f35ef",
      "metadata": {
        "id": "08c0bc71-330c-436a-8dbd-d16dfe7f35ef"
      },
      "source": [
        "## Experiment 3: Targeted patch attacks"
      ]
    },
    {
      "cell_type": "code",
      "execution_count": null,
      "id": "yR8VesXiLceO",
      "metadata": {
        "id": "yR8VesXiLceO",
        "scrolled": true,
        "colab": {
          "base_uri": "https://localhost:8080/",
          "height": 924
        },
        "outputId": "63d70464-7700-4363-8eef-3827c45ed7b0"
      },
      "outputs": [
        {
          "output_type": "stream",
          "name": "stdout",
          "text": [
            "Epoch 1\n",
            "Target class: 5\n",
            "Percentage of samples predicted as target class 5: 53.11\n",
            "Accuracy: 0.2651\n",
            "\n",
            "Epoch 2\n",
            "Target class: 5\n",
            "Percentage of samples predicted as target class 5: 55.67999999999999\n",
            "Accuracy: 0.2407\n",
            "\n",
            "Epoch 3\n",
            "Target class: 5\n",
            "Percentage of samples predicted as target class 5: 55.53\n",
            "Accuracy: 0.2364\n",
            "\n",
            "Epoch 4\n",
            "Target class: 5\n",
            "Percentage of samples predicted as target class 5: 54.50000000000001\n",
            "Accuracy: 0.2258\n",
            "\n",
            "Epoch 5\n",
            "Target class: 5\n",
            "Percentage of samples predicted as target class 5: 53.99\n",
            "Accuracy: 0.2217\n",
            "\n"
          ]
        },
        {
          "output_type": "display_data",
          "data": {
            "text/plain": [
              "<Figure size 640x480 with 1 Axes>"
            ],
            "image/png": "[encoded data removed]"
          },
          "metadata": {}
        },
        {
          "output_type": "stream",
          "name": "stdout",
          "text": [
            "Model accuracy with adversarial patch: 25.07%\n",
            "Untargeted attack success rate on test set: 74.93%\n",
            "Targeted attack success rate on test set for class 5: 43.72%\n"
          ]
        },
        {
          "output_type": "execute_result",
          "data": {
            "text/plain": [
              "(0.2507, 0.7493, 0.4372)"
            ]
          },
          "metadata": {},
          "execution_count": 13
        }
      ],
      "source": [
        "# Generate targeted adversarial patch\n",
        "patch_targeted_size8 = generate_adversarial_patch(model=resnet18, patch_size=8, target_class=5)\n",
        "\n",
        "# Visualize the generated patch\n",
        "visualize_patch(patch_targeted_size8)\n",
        "\n",
        "# Test adversarial success rate on test dataset\n",
        "test(model=resnet18, patch=patch_targeted_size8, target_class=5)"
      ]
    },
    {
      "cell_type": "code",
      "execution_count": null,
      "id": "0d32b237-5078-49d4-a317-edc7631d2e98",
      "metadata": {
        "id": "0d32b237-5078-49d4-a317-edc7631d2e98",
        "scrolled": true
      },
      "outputs": [],
      "source": [
        "def plot_targeted_asr_vs_patch_size(model, target_class):\n",
        "  print(f\"\\nRUNNING EXPERIMENTS FOR TARGET CLASS {target_class}\\n\")\n",
        "  patch_sizes = [3, 5, 7, 16]\n",
        "  targetted_asr_results = {}\n",
        "  for size in patch_sizes:\n",
        "    patch = generate_adversarial_patch(model=model, patch_size=size, target_class=target_class)\n",
        "    visualize_patch(patch)\n",
        "    adversarial_accuracy, untargetted_asr, targetted_asr = test(model=resnet18, patch=patch, target_class=target_class)\n",
        "    targetted_asr_results[size] = targetted_asr\n",
        "  plot_asr_vs_patch_size(patch_sizes, targetted_asr_results)"
      ]
    },
    {
      "cell_type": "code",
      "execution_count": null,
      "id": "_AhlWWzD3XFG",
      "metadata": {
        "id": "_AhlWWzD3XFG",
        "scrolled": true
      },
      "outputs": [],
      "source": [
        "for target_class in range(10):\n",
        "  plot_targeted_asr_vs_patch_size(resnet18, target_class=target_class)"
      ]
    },
    {
      "cell_type": "markdown",
      "id": "aaad9912-b17e-4dcb-ab2e-f3ce64c117be",
      "metadata": {
        "id": "aaad9912-b17e-4dcb-ab2e-f3ce64c117be"
      },
      "source": [
        "## Experiment 4: Transferring patches to other models"
      ]
    },
    {
      "cell_type": "code",
      "source": [
        "s = \"\\n----------------------------------------------------------------------------------------\\n\"\n",
        "# Load ResNet50 and test\n",
        "resnet50 = models.resnet50(weights=\"DEFAULT\")\n",
        "resnet50.fc = nn.Linear(resnet50.fc.in_features, 10)\n",
        "resnet50 = load_model(resnet50, \"resnet50.pth\", device=device)\n",
        "test(model=resnet50, patch=None, target_class=None)\n",
        "print(s)\n",
        "\n",
        "# Untargeted Attack\n",
        "test(model=resnet50, patch=patch_untargeted_size8, target_class=None)\n",
        "print(s)\n",
        "\n",
        "# Targeted Attack\n",
        "test(model=resnet50, patch=patch_targeted_size8, target_class=5)\n",
        "print(s)"
      ],
      "metadata": {
        "id": "a3lR0T7cWw54",
        "colab": {
          "base_uri": "https://localhost:8080/"
        },
        "outputId": "5093fed0-26ea-41bc-e748-d2437d63fafb"
      },
      "id": "a3lR0T7cWw54",
      "execution_count": null,
      "outputs": [
        {
          "output_type": "stream",
          "name": "stderr",
          "text": [
            "Downloading: \"https://download.pytorch.org/models/resnet50-11ad3fa6.pth\" to /root/.cache/torch/hub/checkpoints/resnet50-11ad3fa6.pth\n",
            "100%|██████████| 97.8M/97.8M [00:01<00:00, 82.2MB/s]\n"
          ]
        },
        {
          "output_type": "stream",
          "name": "stdout",
          "text": [
            "Model accuracy on clean test set: 86.81%\n",
            "\n",
            "----------------------------------------------------------------------------------------\n",
            "\n",
            "Model accuracy with adversarial patch: 37.04%\n",
            "Untargeted attack success rate on test set: 62.96%\n",
            "\n",
            "----------------------------------------------------------------------------------------\n",
            "\n",
            "Model accuracy with adversarial patch: 54.52%\n",
            "Untargeted attack success rate on test set: 45.48%\n",
            "Targeted attack success rate on test set for class 5: 12.07%\n",
            "\n",
            "----------------------------------------------------------------------------------------\n",
            "\n"
          ]
        }
      ]
    },
    {
      "cell_type": "code",
      "source": [
        "# Load VGG19 and test\n",
        "vgg19 = models.vgg19(weights=\"DEFAULT\")\n",
        "num_features = vgg19.classifier[-1].in_features\n",
        "vgg19.classifier[-1] = nn.Linear(num_features, 10)\n",
        "vgg19 = load_model(vgg19, \"vgg19.pth\")\n",
        "test(model=vgg19, patch=None, target_class=None)\n",
        "print(s)\n",
        "\n",
        "# Untargeted Attack\n",
        "test(model=vgg19, patch=patch_untargeted_size8, target_class=None)\n",
        "print(s)\n",
        "\n",
        "# Targeted Attack\n",
        "test(model=vgg19, patch=patch_targeted_size8, target_class=5)\n",
        "print(s)"
      ],
      "metadata": {
        "id": "IPxKTgO8XPoB",
        "colab": {
          "base_uri": "https://localhost:8080/"
        },
        "outputId": "9d59bf5e-9e34-4384-d052-6852581ce9ea"
      },
      "id": "IPxKTgO8XPoB",
      "execution_count": null,
      "outputs": [
        {
          "output_type": "stream",
          "name": "stderr",
          "text": [
            "Downloading: \"https://download.pytorch.org/models/vgg19-dcbb9e9d.pth\" to /root/.cache/torch/hub/checkpoints/vgg19-dcbb9e9d.pth\n",
            "100%|██████████| 548M/548M [00:07<00:00, 79.0MB/s]\n"
          ]
        },
        {
          "output_type": "stream",
          "name": "stdout",
          "text": [
            "Model accuracy on clean test set: 88.43%\n",
            "\n",
            "----------------------------------------------------------------------------------------\n",
            "\n",
            "Model accuracy with adversarial patch: 65.37%\n",
            "Untargeted attack success rate on test set: 34.63%\n",
            "\n",
            "----------------------------------------------------------------------------------------\n",
            "\n",
            "Model accuracy with adversarial patch: 38.69%\n",
            "Untargeted attack success rate on test set: 61.31%\n",
            "Targeted attack success rate on test set for class 5: 7.49%\n",
            "\n",
            "----------------------------------------------------------------------------------------\n",
            "\n"
          ]
        }
      ]
    },
    {
      "cell_type": "code",
      "source": [
        "# Load DenseNet121 and test\n",
        "densenet121 = models.densenet121(weights=\"DEFAULT\")\n",
        "num_features = densenet121.classifier.in_features\n",
        "densenet121.classifier = nn.Linear(num_features, 10)\n",
        "densenet121 = load_model(densenet121, \"densenet121.pth\")\n",
        "test(model=densenet121, patch=None, target_class=None)\n",
        "print(s)\n",
        "\n",
        "# Untargeted Attack\n",
        "test(model=densenet121, patch=patch_untargeted_size8, target_class=None)\n",
        "print(s)\n",
        "\n",
        "# Targeted Attack\n",
        "test(model=densenet121, patch=patch_targeted_size8, target_class=5)\n",
        "print(s)"
      ],
      "metadata": {
        "id": "mqAlXE9BXcXR",
        "colab": {
          "base_uri": "https://localhost:8080/"
        },
        "outputId": "7d7f476a-18dc-4b9a-e04a-8b043f835fbf"
      },
      "id": "mqAlXE9BXcXR",
      "execution_count": null,
      "outputs": [
        {
          "output_type": "stream",
          "name": "stderr",
          "text": [
            "Downloading: \"https://download.pytorch.org/models/densenet121-a639ec97.pth\" to /root/.cache/torch/hub/checkpoints/densenet121-a639ec97.pth\n",
            "100%|██████████| 30.8M/30.8M [00:00<00:00, 89.5MB/s]\n"
          ]
        },
        {
          "output_type": "stream",
          "name": "stdout",
          "text": [
            "Model accuracy on clean test set: 70.08%\n",
            "\n",
            "----------------------------------------------------------------------------------------\n",
            "\n",
            "Model accuracy with adversarial patch: 60.78%\n",
            "Untargeted attack success rate on test set: 39.22%\n",
            "\n",
            "----------------------------------------------------------------------------------------\n",
            "\n",
            "Model accuracy with adversarial patch: 54.30%\n",
            "Untargeted attack success rate on test set: 45.70%\n",
            "Targeted attack success rate on test set for class 5: 10.86%\n",
            "\n",
            "----------------------------------------------------------------------------------------\n",
            "\n"
          ]
        }
      ]
    },
    {
      "cell_type": "markdown",
      "id": "dd7485f6",
      "metadata": {
        "id": "dd7485f6"
      },
      "source": [
        "## Experiment 5 (Extension): Creating patches that are robust to more transformations"
      ]
    },
    {
      "cell_type": "code",
      "execution_count": null,
      "id": "aa653734",
      "metadata": {
        "id": "aa653734",
        "scrolled": true,
        "colab": {
          "base_uri": "https://localhost:8080/",
          "height": 817
        },
        "outputId": "c51b1e67-ba13-443d-a60c-82d719dfee38"
      },
      "outputs": [
        {
          "output_type": "stream",
          "name": "stdout",
          "text": [
            "Epoch 1\n",
            "Target class: None\n",
            "Accuracy: 0.3849\n",
            "\n",
            "Epoch 2\n",
            "Target class: None\n",
            "Accuracy: 0.3884\n",
            "\n",
            "Epoch 3\n",
            "Target class: None\n",
            "Accuracy: 0.3672\n",
            "\n",
            "Epoch 4\n",
            "Target class: None\n",
            "Accuracy: 0.3576\n",
            "\n",
            "Epoch 5\n",
            "Target class: None\n",
            "Accuracy: 0.3617\n",
            "\n"
          ]
        },
        {
          "output_type": "display_data",
          "data": {
            "text/plain": [
              "<Figure size 640x480 with 1 Axes>"
            ],
            "image/png": "[encoded data removed]"
          },
          "metadata": {}
        },
        {
          "output_type": "stream",
          "name": "stdout",
          "text": [
            "Model accuracy with adversarial patch: 38.16%\n",
            "Untargeted attack success rate on test set: 61.84%\n"
          ]
        },
        {
          "output_type": "execute_result",
          "data": {
            "text/plain": [
              "(0.3816, 0.6184)"
            ]
          },
          "metadata": {},
          "execution_count": 18
        }
      ],
      "source": [
        "# Generate adversarial patch\n",
        "patch_untargeted_extension = generate_adversarial_patch(model=resnet18, patch_size=8, extension=True)\n",
        "\n",
        "# Visualize the generated patch\n",
        "visualize_patch(patch_untargeted_extension)\n",
        "\n",
        "# Test adversarial success rate on test dataset\n",
        "test(model=resnet18, patch=patch_untargeted_extension, target_class=None, extension=True)"
      ]
    },
    {
      "cell_type": "code",
      "execution_count": null,
      "id": "254471df",
      "metadata": {
        "id": "254471df",
        "scrolled": true
      },
      "outputs": [],
      "source": [
        "# Generate adversarial patch\n",
        "patch_targeted_extension = generate_adversarial_patch(model=resnet18, patch_size=8, target_class=5, extension=True)\n",
        "\n",
        "# Visualize the generated patch\n",
        "visualize_patch(patch_targeted_extension)\n",
        "\n",
        "# Test adversarial success rate on test dataset\n",
        "test(model=resnet18, patch=patch_targeted_extension, target_class=5, extension=True)"
      ]
    },
    {
      "cell_type": "code",
      "source": [
        "# Test how Type C patches transfer to ResNet50\n",
        "# Untargeted Attack\n",
        "test(model=resnet50, patch=patch_untargeted_extension, target_class=None, extension=True)\n",
        "print(s)\n",
        "\n",
        "# Targeted Attack\n",
        "test(model=resnet50, patch=patch_targeted_extension, target_class=5, extension=True)\n",
        "print(s)"
      ],
      "metadata": {
        "id": "1xk8juJCEnmj"
      },
      "id": "1xk8juJCEnmj",
      "execution_count": null,
      "outputs": []
    },
    {
      "cell_type": "code",
      "source": [
        "# Test how Type C patches transfer to VGG19\n",
        "# Untargeted Attack\n",
        "test(model=vgg19, patch=patch_untargeted_extension, target_class=None, extension=True)\n",
        "print(s)\n",
        "\n",
        "# Targeted Attack\n",
        "test(model=vgg19, patch=patch_targeted_extension, target_class=5, extension=True)\n",
        "print(s)"
      ],
      "metadata": {
        "id": "zKxWbIGME1ko"
      },
      "id": "zKxWbIGME1ko",
      "execution_count": null,
      "outputs": []
    },
    {
      "cell_type": "code",
      "source": [
        "# Test how Type C patches transfer to DenseNet121\n",
        "# Untargeted Attack\n",
        "test(model=densenet121, patch=patch_untargeted_extension, target_class=None, extension=True)\n",
        "print(s)\n",
        "\n",
        "# Targeted Attack\n",
        "test(model=densenet121, patch=patch_targeted_extension, target_class=5, extension=True)\n",
        "print(s)"
      ],
      "metadata": {
        "id": "kHqRsT7TE2Pj"
      },
      "id": "kHqRsT7TE2Pj",
      "execution_count": null,
      "outputs": []
    }
  ],
  "metadata": {
    "colab": {
      "provenance": [],
      "gpuType": "T4"
    },
    "kernelspec": {
      "display_name": "Python 3",
      "name": "python3"
    },
    "language_info": {
      "codemirror_mode": {
        "name": "ipython",
        "version": 3
      },
      "file_extension": ".py",
      "mimetype": "text/x-python",
      "name": "python",
      "nbconvert_exporter": "python",
      "pygments_lexer": "ipython3",
      "version": "3.11.8"
    },
    "accelerator": "GPU"
  },
  "nbformat": 4,
  "nbformat_minor": 5
}